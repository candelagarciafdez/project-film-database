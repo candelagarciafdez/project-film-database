{
 "metadata": {
  "language_info": {
   "codemirror_mode": {
    "name": "ipython",
    "version": 3
   },
   "file_extension": ".py",
   "mimetype": "text/x-python",
   "name": "python",
   "nbconvert_exporter": "python",
   "pygments_lexer": "ipython3",
   "version": "3.8.3-final"
  },
  "orig_nbformat": 2,
  "kernelspec": {
   "name": "python3",
   "display_name": "Python 3"
  }
 },
 "nbformat": 4,
 "nbformat_minor": 2,
 "cells": [
  {
   "cell_type": "code",
   "execution_count": 1,
   "metadata": {},
   "outputs": [],
   "source": [
    "import requests\n",
    "from bs4 import BeautifulSoup\n",
    "import pandas as pd\n",
    "import json"
   ]
  },
  {
   "cell_type": "code",
   "execution_count": 2,
   "metadata": {},
   "outputs": [],
   "source": [
    "url = 'https://www.metacritic.com/browse/movies/score/metascore/all/filtered?sort=desc'"
   ]
  },
  {
   "cell_type": "code",
   "execution_count": 4,
   "metadata": {},
   "outputs": [],
   "source": [
    "_HEADERS = {'User-Agent': 'Mozilla/5.0'}"
   ]
  },
  {
   "cell_type": "code",
   "execution_count": 9,
   "metadata": {
    "tags": []
   },
   "outputs": [
    {
     "output_type": "stream",
     "name": "stdout",
     "text": [
      "<built-in method split of str object at 0x00000181DB7CD9F0>\n"
     ]
    }
   ],
   "source": [
    "pagina = requests.get(url, headers = _HEADERS)\n",
    "soup = BeautifulSoup(pagina.content, 'html.parser')\n"
   ]
  },
  {
   "cell_type": "code",
   "execution_count": 11,
   "metadata": {
    "tags": [
     "outputPrepend"
    ]
   },
   "outputs": [
    {
     "output_type": "stream",
     "name": "stdout",
     "text": [
      "m, he realizes that there is more on the line than just his marriage. [Sony Pictures Classic]\n\n\n                        \n\n\nMetascore:\n\n95\n\n\n\nUser Score:\n\n8.9\n\n\n\n\n\n\n\n\n\n\n\n\n\n\n\n\n\n\n\n\n95\n\n\n\n                                                                    70.\n                                                            \nWALL-E\n\nJune 27, 2008\n | G\n\n\n                        After hundreds of lonely years of doing what he was built for, Wall-E discovers a new purpose in life when he meets a sleek search robot named EVE. [Walt Disney Pictures]\n                        \n\n\nMetascore:\n\n95\n\n\n\nUser Score:\n\n8.9\n\n\n\n\n\n\n\n\n\n\n\n\n\n\n\n\n\n\n\n\n94\n\n\n\n                                                                    71.\n                                                            \nCarol\n\nNovember 20, 2015\n | R\n\n\n                        Set in 1950s New York, two women from very different backgrounds find themselves in the throes of love. A young woman in her 20s, Therese Belivet (Rooney Mara), is a clerk working in a Manhattan department store and dreaming of a more fulfilling life when she meets Carol (Cate Blanchett), an alluring woman trapped in a loveless, convenient marriage. As an immediate connection sparks between them, the innocence of their first encounter dims and their connection deepens. While Carol breaks free from the confines of marriage, her husband (Kyle Chandler) threatens her competence as a mother when Carol’s involvement with Therese and close relationship with her best friend Abby (Sarah Paulson) comes to light. As Carol leaves the comfort of home to travel with Therese, an internal journey of self-discovery coincides with her new sense of space. [TWC]\n                        \n\n\nMetascore:\n\n94\n\n\n\nUser Score:\n\n7.9\n\n\n\n\n\n\n\n\n\n\n\n\n\n\n\n\n\n\n\n\n94\n\n\n\n                                                                    72.\n                                                            \nBefore Midnight\n\nMay 24, 2013\n | R\n\n\n                        In this follow-up to Before Sunrise and Before Sunset, we meet Jesse and Celine nine years later in Greece. Almost two decades have passed since their first meeting on that train bound for Vienna.\n                        \n\n\nMetascore:\n\n94\n\n\n\nUser Score:\n\n8.4\n\n\n\n\n\n\n\n\n\n\n\n\n\n\n\n\n\n\n\n\n94\n\n\n\n                                                                    73.\n                                                            \nAmour\n\nDecember 19, 2012\n | PG-13\n\n\n                        Georges and Anne are in their eighties. They are cultivated, retired music teachers. Their daughter, who is also a musician, lives abroad with her family. One day, Anne has an attack. The couple's bond of love is severely tested. [Sony Pictures Classics]\n                        \n\n\nMetascore:\n\n94\n\n\n\nUser Score:\n\n8.1\n\n\n\n\n\n\n\n\n\n\n\n\n\n\n\n\n\n\n\n\n94\n\n\n\n                                                                    74.\n                                                            \nDunkirk\n\nJuly 21, 2017\n | PG-13\n\n\n                        Dunkirk opens as hundreds of thousands of British and Allied troops are surrounded by enemy forces. Trapped on the beach with their backs to the sea they face an impossible situation as the enemy closes in. [Warner Bros.]\n                        \n\n\nMetascore:\n\n94\n\n\n\nUser Score:\n\n8.3\n\n\n\n\n\n\n\n\n\n\n\n\n\n\n\n\n\n94\n\n\n\n                                                                    75.\n                                                            \nThe Man Who Shot Liberty Valance\n\nApril 22, 1962\n | Approved\n\n\n                        A senator, who became famous for killing a notorious outlaw, returns for the funeral of an old friend and tells the truth about his deed.\n                        \n\n\nMetascore:\n\n94\n\n\n\nUser Score:\n\n8.6\n\n\n\n\n\n\n\n\n\n\n\n\n\n\n\n\n\n\n\n\n94\n\n\n\n                                                                    76.\n                                                            \nThe Searchers\n\nMay 26, 1956\n | Passed\n\n\n                        An American Civil War veteran embarks on a journey to rescue his niece from the Comanches.\n                        \n\n\nMetascore:\n\n94\n\n\n\nUser Score:\n\n7.6\n\n\n\n\n\n\n\n\n\n\n\n\n\n\n\n\n\n\n\n\n94\n\n\n\n                                                                    77.\n                                                            \n45 Years\n\nDecember 23, 2015\n | Not Rated\n\n\n                        There is just one week until Kate Mercer's (Charlotte Rampling) 45th wedding anniversary and the planning for the party is going well. But then a letter arrives for her husband (Tom Courtenay). The body of his first love has been discovered, frozen and preserved in the icy glaciers of the Swiss Alps. By the time the party is upon them, five days later, there may not be a marriage left to celebrate. [IFC Films]\n                        \n\n\nMetascore:\n\n94\n\n\n\nUser Score:\n\n7.4\n\n\n\n\n\n\n\n\n\n\n\n\n\n\n\n\n\n\n\n\n94\n\n\n\n                                                                    78.\n                                                            \nTaxi Driver\n\nFebruary 7, 1976\n | R\n\n\n                        Scorsese’s 1976 masterpiece is the all-too-real story of a psychotic New York cabby who is driven to violence in an attempt to rescue a teenage prostitute.  [Sony]\n\n                        \n\n\nMetascore:\n\n94\n\n\n\nUser Score:\n\n7.5\n\n\n\n\n\n\n\n\n\n\n\n\n\n\n\n\n\n\n\n\n94\n\n\n\n                                                                    79.\n                                                            \nPulp Fiction\n\nOctober 14, 1994\n | R\n\n\n                        Several inter-locking stories of crime and intrigue form a temporal mosaic set in the Los Angeles underworld.\n                        \n\n\nMetascore:\n\n94\n\n\n\nUser Score:\n\n9.0\n\n\n\n\n\n\n\n\n\n\n\n\n\n\n\n\n\n\n\n\n94\n\n\n\n                                                                    80.\n                                                            \nThe Manchurian Candidate\n\nOctober 24, 1962\n | Approved\n\n\n                        John Frankenheimer's gripping political thriller about a group of American soldiers who are captured and brainwashed into becoming sleeper agents. (MGM)\n                        \n\n\nMetascore:\n\n94\n\n\n\nUser Score:\n\n8.2\n\n\n\n\n\n\n\n\n\n\n\n\n\n\n\n\n\n\n\n\n94\n\n\n\n                                                                    81.\n                                                            \nMr. Turner\n\nDecember 19, 2014\n | R\n\n\n                        Mr. Turner explores the last quarter century of the life of the great if eccentric British painter J.M.W. Turner (Timothy Spall). Profoundly affected by the death of his father, loved by a housekeeper he takes for granted and occasionally exploits sexually, he forms a close relationship with a seaside landlady with whom he eventually lives incognito in Chelsea, where he dies. Throughout this, he travels, paints, stays with the country aristocracy, visits brothels, is a popular if anarchic member of the Royal Academy of Arts, has himself strapped to the mast of a ship so that he can paint a snowstorm, and is both celebrated and reviled by the public and by royalty.\n                        \n\n\nMetascore:\n\n94\n\n\n\nUser Score:\n\n6.9\n\n\n\n\n\n\n\n\n\n\n\n\n\n\n\n\n\n\n\n\n94\n\n\n\n                                                                    82.\n                                                            \nThe Irishman\n\nNovember 1, 2019\n | R\n\n\n                        The Irishman is an epic saga of organized crime in post-war America told through the eyes of World War II veteran Frank Sheeran (Robert De Niro), a hustler and hitman who worked alongside some of the most notorious figures of the 20th Century. Spanning decades, the film chronicles one of the greatest unsolved mysteries in American history, the disappearance of legendary union boss Jimmy Hoffa, and offers a monumental journey through the hidden corridors of organized crime: its inner workings, rivalries and connections to mainstream politics.\n                        \n\n\nMetascore:\n\n94\n\n\n\nUser Score:\n\n8.1\n\n\n\n\n\n\n\n\n\n\n\n\n\n\n\n\n\n94\n\n\n\n                                                                    83.\n                                                            \nSoul\n\nDecember 25, 2020\n | PG\n\n\n                        Joe Gardner is a middle-school band teacher who gets the chance of a lifetime to play at the best jazz club in town. But one small misstep takes him from the streets of New York City to The Great Before – a fantastical place where new souls get their personalities, quirks and interests before they go to Earth. Determined to return to his life, Joe teams up with a precocious soul, 22, who has never understood the appeal of the human experience. As Joe desperately tries to show 22 what’s great about living, he may just discover the answers to some of life’s most important questions.\n                        \n\n\nMetascore:\n\n94\n\n\n\nUser Score:\n\ntbd\n\n\n\n\n\n\n\n\n\n\n\n\n\n\n\n\n\n\n\n\n94\n\n\n\n                                                                    84.\n                                                            \nGrave of the Fireflies (1988)\n\nJuly 26, 1989\n | TV-14\n\n\n                        A young boy and his little sister struggle to survive in Japan during World War II.\n                        \n\n\nMetascore:\n\n94\n\n\n\nUser Score:\n\n9.3\n\n\n\n\n\n\n\n\n\n\n\n\n\n\n\n\n\n\n\n\n94\n\n\n\n                                                                    85.\n                                                            \nThe Wild Child\n\nSeptember 11, 1970\n | G\n\n\n                        In a French forest in 1798, a child is found who cannot walk, speak, read or write. A doctor becomes interested in the child and patiently attempts to civilize him.\n                        \n\n\nMetascore:\n\n94\n\n\n\nUser Score:\n\ntbd\n\n\n\n\n\n\n\n\n\n\n\n\n\n\n\n\n\n\n\n\n94\n\n\n\n                                                                    86.\n                                                            \nAmazing Grace\n\nNovember 23, 2018\n\n\n                        A documentary presenting Aretha Franklin with choir at the New Bethel Baptist Church in Watts, Los Angeles in January 1972.\n                        \n\n\nMetascore:\n\n94\n\n\n\nUser Score:\n\n8.0\n\n\n\n\n\n\n\n\n\n\n\n\n\n\n\n\n\n\n\n\n94\n\n\n\n                                                                    87.\n                                                            \nShadow of a Doubt\n\nJanuary 15, 1943\n | TV-PG\n\n\n                        A young woman discovers her visiting uncle may not be the man he seems to be.\n                        \n\n\nMetascore:\n\n94\n\n\n\nUser Score:\n\n8.6\n\n\n\n\n\n\n\n\n\n\n\n\n\n\n\n\n\n\n\n\n94\n\n\n\n                                                                    88.\n                                                            \nInside Out\n\nJune 19, 2015\n | PG\n\n\n                        Growing up can be a bumpy road, and it’s no exception for Riley, who is uprooted from her Midwest life when her father starts a new job in San Francisco. Like all of us, Riley is guided by her emotions: Joy (Amy Poehler), Fear (Bill Hader), Anger (Lewis Black), Disgust (Mindy Kaling) and Sadness (Phyllis Smith). The emotions live in Headquarters, the control center inside Riley’s mind, where they help advise her through everyday life. As Riley and her emotions struggle to adjust to a new life in San Francisco, turmoil ensues in Headquarters. Although Joy, Riley’s main and most important emotion, tries to keep things positive, the emotions conflict on how best to navigate a new city, house, and school. [Pixar]\n                        \n\n\nMetascore:\n\n94\n\n\n\nUser Score:\n\n8.7\n\n\n\n\n\n\n\n\n\n\n\n\n\n\n\n\n\n\n\n\n94\n\n\n\n                                                                    89.\n                                                            \nSideways\n\nOctober 22, 2004\n | R\n\n\n                        Two old friends set off on a wine-tasting road trip...only to veer dizzily sideways into a wry, comedic exploration of the crazy vicissitudes of love and friendship, the damnable persistence of loneliness and dreams and the enduring war between Pinot and Cabernet.  [Fox Searchlight Pictures]\n                        \n\n\nMetascore:\n\n94\n\n\n\nUser Score:\n\n7.1\n\n\n\n\n\n\n\n\n\n\n\n\n\n\n\n\n\n\n\n\n94\n\n\n\n                                                                    90.\n                                                            \nSchindler's List\n\nDecember 15, 1993\n | R\n\n\n                        Steven Spielberg's epic drama tells the compelling true story of German businessman Oskar Schindler (Neeson) who comes to Nazi-occupied Poland looking for economic prosperity and leaves as a savior. (History in Film)\n                        \n\n\nMetascore:\n\n94\n\n\n\nUser Score:\n\n8.8\n\n\n\n\n\n\n\n\n\n\n\n\n\n\n\n\n\n\n\n\n94\n\n\n\n                                                                    91.\n                                                            \nThe Apartment\n\nJune 15, 1960\n | TV-PG\n\n\n                        A man tries to rise in his company by letting its executives use his apartment for trysts, but complications and a romance of his own ensue.\n                        \n\n\nMetascore:\n\n94\n\n\n\nUser Score:\n\n9.1\n\n\n\n\n\n\n\n\n\n\n\n\n\n\n\n\n\n\n\n\n94\n\n\n\n                                                                    92.\n                                                            \nApocalypse Now\n\nAugust 15, 1979\n | R\n\n\n                        During the Vietnam War, Captain Willard is sent on a dangerous mission into Cambodia to assassinate a renegade colonel who has set himself up as a god among a local tribe.\n                        \n\n\nMetascore:\n\n94\n\n\n\nUser Score:\n\n8.9\n\n\n\n\n\n\n\n\n\n\n\n\n\n\n\n\n\n94\n\n\n\n                                                                    93.\n                                                            \nThe Gunfighter\n\nJune 23, 1950\n | TV-PG\n\n\n                        Notorious gunfighter Jimmy Ringo rides into town to find his true love, who doesn't want to see him. He hasn't come looking for trouble, but trouble finds him around every corner.\n                        \n\n\nMetascore:\n\n94\n\n\n\nUser Score:\n\n7.6\n\n\n\n\n\n\n\n\n\n\n\n\n\n\n\n\n\n94\n\n\n\n                                                                    94.\n                                                            \nWe Were Here\n\nSeptember 9, 2011\n | Not Rated\n\n\n                        We Were Here documents the coming of what was called the “Gay Plague” in the early 1980s. It illuminates the profound personal and community issues raised by the AIDS epidemic as well as the broad political and social upheavals it unleashed.  It offers a cathartic validation for the generation that suffered through, and responded to, the onset of AIDS. It opens a window of understanding to those who have only the vaguest notions of what transpired in those years. It provides insight into what society could, and should, offer its citizens in the way of medical care, social services, and community support. [Red Flag Releasing]\n                        \n\n\nMetascore:\n\n94\n\n\n\nUser Score:\n\n6.9\n\n\n\n\n\n\n\n\n\n\n\n\n\n\n\n\n\n\n\n\n94\n\n\n\n                                                                    95.\n                                                            \nLady Bird\n\nNovember 3, 2017\n | R\n\n\n                        Christine \"Lady Bird\" McPherson (Saoirse Ronan) fights against but is exactly like her wildly loving, deeply opinionated and strong-willed mom (Laurie Metcalf), a nurse working tirelessly to keep her family afloat after Lady Bird's father (Tracy Letts) loses his job. Set in Sacramento, California in 2002, amidst a rapidly shifting American economic landscape, Lady Bird is an affecting look at the relationships that shape us, the beliefs that define us, and the unmatched beauty of a place called home. [A24]\n                        \n\n\nMetascore:\n\n94\n\n\n\nUser Score:\n\n7.6\n\n\n\n\n\n\n\n\n\n\n\n\n\n\n\n\n\n\n\n\n94\n\n\n\n                                                                    96.\n                                                            \nChimes at Midnight\n\nMarch 17, 1967\n | Not Rated\n\n\n                        The career of Shakespeare's Sir John Falstaff (Orson Welles) as a roistering companion to young Prince Hal (Keith Baxter), circa 1400 to 1413.\n                        \n\n\nMetascore:\n\n94\n\n\n\nUser Score:\n\ntbd\n\n\n\n\n\n\n\n\n\n\n\n\n\n\n\n\n\n\n\n\n94\n\n\n\n                                                                    97.\n                                                            \nThe Lord of the Rings: The Return of the King\n\nDecember 17, 2003\n | PG-13\n\n\n                        Sauron's forces have laid siege to Minas Tirith, the capital of Gondor, in their efforts to eliminate the race of men.  The once-great kingdom, watched over by a fading steward, has never been in more desperate need of its king. But can Aragorn (Viggo Mortensen) answer the call of his heritage and become what he was born to be?  In no small measure, the fate of Middle-earth rests on his broad shoulders.  [New Line Cinema]\n                        \n\n\nMetascore:\n\n94\n\n\n\nUser Score:\n\n9.1\n\n\n\n\n\n\n\n\n\n\n\n\n\n\n\n\n\n\n\n\n94\n\n\n\n                                                                    98.\n                                                            \nCarlos\n\nOctober 15, 2010\n | Not Rated\n\n\n                        Carlos tells the story of Ilich Ramirez Sanchez who, for two decades, was one of the most wanted terrorists, on the planet. Between 1974 and 1994, he lived several lives under various pseudonyms, weaving his way through the complexities of international politics of the period. [IFC Films]\n                        \n\n\nMetascore:\n\n94\n\n\n\nUser Score:\n\n7.9\n\n\n\n\n\n\n\n\n\n\n\n\n\n\n\n\n\n\n\n\n94\n\n\n\n                                                                    99.\n                                                            \nMarriage Story\n\nNovember 6, 2019\n | Not Rated\n\n\n                        An incisive and compassionate portrait of a marriage breaking up and a family staying together.\n                        \n\n\nMetascore:\n\n94\n\n\n\nUser Score:\n\n8.2\n\n\n\n\n\n\n\n\n\n\n\n\n\n\n\n\n\n\n\n\n94\n\n\n\n                                                                    100.\n                                                            \nLa La Land\n\nDecember 9, 2016\n | PG-13\n\n\n                        Mia (Emma Stone), an aspiring actress, serves lattes to movie stars in between auditions, and Sebastian (Ryan Gosling), a dedicated jazz musician, scrapes by playing cocktail piano gigs in dingy bars, but as success mounts they are faced with decisions that begin to fray the fragile fabric of their love affair, and the dreams they worked so hard to maintain in each other threaten to rip them apart.\n                        \n\n\nMetascore:\n\n94\n\n\n\nUser Score:\n\n8.4\n\n\n\n\n\n\n\n\n\n\n\n\n\n\nprev\nnext\n\n\nPage:\n123456789…137\n\n\n\n\n\n\n\n\n\n\n\n\n\n\n\n\n\n\n\n\n\n\n\n\n\n\n\n\n\n\n\n\nMusic title data, credits, and images provided by AMG\n|Movie title data, credits, and poster art provided by IMDb\n|Video and Images provided by IVA\n\n        We Deal With Criticism® \n\t\n\n\n\n\n                                            Movies\n                                    \n\n\n\n                                            TV\n                                    \n\n\n\n                                            Music\n                                    \n\n\n\n                                            PS4\n                                    \n\n\n\n                                            XboxOne\n                                    \n\n\n\n                                            Switch\n                                    \n\n\n\n                                            PC\n                                    \n\n\n\n                                            WiiU\n                                    \n\n\n\n                                            3DS\n                                    \n\n\n\n                                            PS Vita\n                                    \n\n\n\n                                            iOS\n                                    \n\n\n\n                                            Reports\n                                    \n\n\n\n                                            RSS Feeds\n                                    \n\n\n\n\n\n\n\n\n\n\n\nCareers\n|Advertise\n|FAQ\n|About Metacritic\n|Help & Support\n|Contact\n\n\n|Do Not Sell My Information\n|Privacy Policy\n|Cookie Settings\n|Terms of Use\n|CNET\n\n\n            © 2020 METACRITIC, A RED VENTURES COMPANY. ALL RIGHTS RESERVED.\n        \n\n\n\n\n\n\n\n\n\n\n\n\n\n\n\n\n\n\n\n\n\n\n"
     ]
    }
   ],
   "source": [
    "print(soup.text)"
   ]
  },
  {
   "cell_type": "code",
   "execution_count": 12,
   "metadata": {},
   "outputs": [
    {
     "output_type": "stream",
     "name": "stdout",
     "text": [
      "Citizen Kane\nThe Godfather\nRear Window\nCasablanca\nBoyhood\nThree Colors: Red\nVertigo\nNotorious\nSingin' in the Rain\nCity Lights\nMoonlight\nIntolerance\nPinocchio\nTouch of Evil\nThe Treasure of the Sierra Madre\nPan's Labyrinth\nSome Like It Hot\nNorth by Northwest\nRashomon\nAll About Eve\nHoop Dreams\nJules and Jim\nThe Wild Bunch\nMy Left Foot\nThe Third Man\nNomadland\nDr. Strangelove or: How I Learned to Stop Worrying and Love the Bomb\nGone with the Wind\n4 Months, 3 Weeks and 2 Days\nPsycho\nBattleship Potemkin\nA Streetcar Named Desire\nAmerican Graffiti\nDumbo\nRoma\nRan\nThe Shop Around the Corner\n12 Angry Men\nManchester by the Sea\nRosemary's Baby\nThe Maltese Falcon\n12 Years a Slave\nKiller of Sheep\nRocks\nNashville\nRatatouille\nParasite\nDon't Look Now\nThe Grapes of Wrath\nChildren of Paradise (1945)\nMean Streets\nThe Lady Eve\nGravity\nFantasia\nSpirited Away\nBeauty and the Beast\nToy Story\nThe Bride of Frankenstein\nThe Social Network\nMy Fair Lady\nPortrait of a Lady on Fire\nI Am Not Your Negro\nWoodstock\nDouble Indemnity\nSnow White and the Seven Dwarfs\nThe Hurt Locker\nAnatomy of a Murder\nZero Dark Thirty\nA Separation\nWALL-E\nCarol\nBefore Midnight\nAmour\nDunkirk\nThe Man Who Shot Liberty Valance\nThe Searchers\n45 Years\nTaxi Driver\nPulp Fiction\nThe Manchurian Candidate\nMr. Turner\nThe Irishman\nSoul\nGrave of the Fireflies (1988)\nThe Wild Child\nAmazing Grace\nShadow of a Doubt\nInside Out\nSideways\nSchindler's List\nThe Apartment\nApocalypse Now\nThe Gunfighter\nWe Were Here\nLady Bird\nChimes at Midnight\nThe Lord of the Rings: The Return of the King\nCarlos\nMarriage Story\nLa La Land\n"
     ]
    }
   ],
   "source": [
    "nf = soup.find_all('a', class_=\"title\")\n",
    "names = []\n",
    "for i in nf:\n",
    "    names.append(i.text)\n",
    "lista_nombres = []\n",
    "for n in names:\n",
    "    lista_nombres.append(n.replace(\"\\n\",\"\").strip())\n",
    "print(*lista_nombres, sep=\"\\n\")"
   ]
  },
  {
   "cell_type": "code",
   "execution_count": 14,
   "metadata": {},
   "outputs": [
    {
     "output_type": "stream",
     "name": "stdout",
     "text": [
      "86\n85\n85\n82\n79\n79\n72\n66\n64\n40\n89\n71\n62\n61\n82\n82\n80\n75\n72\n100\n100\n8.5\n100\n100\n9.2\n100\n100\n8.8\n100\n100\n8.9\n100\n100\n7.6\n100\n100\n8.6\n100\n100\n8.8\n100\n100\n8.0\n99\n99\n8.8\n99\n99\n9.0\n99\n99\n7.1\n99\n99\n8.9\n99\n99\n8.2\n99\n99\n8.4\n98\n98\n8.5\n98\n98\n8.7\n98\n98\n8.3\n98\n98\n8.2\n98\n98\n8.6\n98\n98\n8.8\n98\n98\n8.0\n97\n97\n8.2\n97\n97\n8.0\n97\n97\n8.5\n97\n97\n8.4\n97\n97\ntbd\n97\n97\n8.3\n97\n97\n8.5\n97\n97\n8.0\n97\n97\n9.1\n97\n97\n10\n97\n97\n8.5\n97\n97\n7.8\n96\n96\n8.0\n96\n96\n7.8\n96\n96\n8.5\n96\n96\ntbd\n96\n96\n9.3\n96\n96\n8.2\n96\n96\n8.2\n96\n96\n7.9\n96\n96\n8.0\n96\n96\n6.9\n96\n96\ntbd\n96\n96\n8.8\n96\n96\n8.6\n96\n96\n8.9\n96\n96\n8.8\n96\n96\n9.0\n96\n96\n9.1\n96\n96\n7.7\n96\n96\n7.0\n96\n96\n7.8\n96\n96\n8.5\n96\n96\n9.0\n95\n95\n8.6\n95\n95\n9.0\n95\n95\n8.8\n95\n95\n8.2\n95\n95\n8.7\n95\n95\n8.7\n95\n95\n5.4\n95\n95\ntbd\n95\n95\n8.4\n95\n95\n8.2\n95\n95\n7.3\n95\n95\n8.3\n95\n95\n6.9\n95\n95\n8.9\n95\n95\n8.9\n94\n94\n7.9\n94\n94\n8.4\n94\n94\n8.1\n94\n94\n8.3\n94\n94\n8.6\n94\n94\n7.6\n94\n94\n7.4\n94\n94\n7.5\n94\n94\n9.0\n94\n94\n8.2\n94\n94\n6.9\n94\n94\n8.1\n94\n94\ntbd\n94\n94\n9.3\n94\n94\ntbd\n94\n94\n8.0\n94\n94\n8.6\n94\n94\n8.7\n94\n94\n7.1\n94\n94\n8.8\n94\n94\n9.1\n94\n94\n8.9\n94\n94\n7.6\n94\n94\n6.9\n94\n94\n7.6\n94\n94\ntbd\n94\n94\n9.1\n94\n94\n7.9\n94\n94\n8.2\n94\n94\n8.4\n"
     ]
    }
   ],
   "source": [
    "sco = soup.find_all('div', class_=\"metascore_w\")\n",
    "score = []\n",
    "for s in sco:\n",
    "    score.append(s.text)\n",
    "lista_score = []\n",
    "for s in score:\n",
    "    lista_score.append(s.replace(\"\\n\",\"\").strip())\n",
    "print(*lista_score, sep=\"\\n\")"
   ]
  },
  {
   "cell_type": "code",
   "execution_count": 15,
   "metadata": {},
   "outputs": [
    {
     "output_type": "execute_result",
     "data": {
      "text/plain": [
       "319"
      ]
     },
     "metadata": {},
     "execution_count": 15
    }
   ],
   "source": [
    "len(lista_score)"
   ]
  },
  {
   "cell_type": "code",
   "execution_count": 16,
   "metadata": {},
   "outputs": [
    {
     "output_type": "execute_result",
     "data": {
      "text/plain": [
       "100"
      ]
     },
     "metadata": {},
     "execution_count": 16
    }
   ],
   "source": [
    "len(lista_nombres)"
   ]
  },
  {
   "cell_type": "code",
   "execution_count": 27,
   "metadata": {},
   "outputs": [],
   "source": [
    "lista_score_clean = soup.find_all(\"table\", class_= \"clamp-list\")\n"
   ]
  },
  {
   "cell_type": "code",
   "execution_count": 38,
   "metadata": {},
   "outputs": [
    {
     "output_type": "execute_result",
     "data": {
      "text/plain": [
       "[<div class=\"metascore_w large movie positive perfect\">100</div>,\n",
       " <div class=\"metascore_w large movie positive perfect\">100</div>,\n",
       " <div class=\"metascore_w user large movie positive\">8.5</div>,\n",
       " <div class=\"metascore_w large movie positive perfect\">100</div>,\n",
       " <div class=\"metascore_w large movie positive perfect\">100</div>,\n",
       " <div class=\"metascore_w user large movie positive\">9.2</div>,\n",
       " <div class=\"metascore_w large movie positive perfect\">100</div>,\n",
       " <div class=\"metascore_w large movie positive perfect\">100</div>,\n",
       " <div class=\"metascore_w user large movie positive\">8.8</div>,\n",
       " <div class=\"metascore_w large movie positive perfect\">100</div>,\n",
       " <div class=\"metascore_w large movie positive perfect\">100</div>,\n",
       " <div class=\"metascore_w user large movie positive\">8.9</div>,\n",
       " <div class=\"metascore_w large movie positive perfect\">100</div>,\n",
       " <div class=\"metascore_w large movie positive perfect\">100</div>,\n",
       " <div class=\"metascore_w user large movie positive\">7.6</div>,\n",
       " <div class=\"metascore_w large movie positive perfect\">100</div>,\n",
       " <div class=\"metascore_w large movie positive perfect\">100</div>,\n",
       " <div class=\"metascore_w user large movie positive\">8.6</div>,\n",
       " <div class=\"metascore_w large movie positive perfect\">100</div>,\n",
       " <div class=\"metascore_w large movie positive perfect\">100</div>,\n",
       " <div class=\"metascore_w user large movie positive\">8.8</div>,\n",
       " <div class=\"metascore_w large movie positive perfect\">100</div>,\n",
       " <div class=\"metascore_w large movie positive perfect\">100</div>,\n",
       " <div class=\"metascore_w user large movie positive\">8.0</div>,\n",
       " <div class=\"metascore_w large movie positive\">99</div>,\n",
       " <div class=\"metascore_w large movie positive\">99</div>,\n",
       " <div class=\"metascore_w user large movie positive\">8.8</div>,\n",
       " <div class=\"metascore_w large movie positive\">99</div>,\n",
       " <div class=\"metascore_w large movie positive\">99</div>,\n",
       " <div class=\"metascore_w user large movie positive\">9.0</div>,\n",
       " <div class=\"metascore_w large movie positive\">99</div>,\n",
       " <div class=\"metascore_w large movie positive\">99</div>,\n",
       " <div class=\"metascore_w user large movie positive\">7.1</div>,\n",
       " <div class=\"metascore_w large movie positive\">99</div>,\n",
       " <div class=\"metascore_w large movie positive\">99</div>,\n",
       " <div class=\"metascore_w user large movie positive\">8.9</div>,\n",
       " <div class=\"metascore_w large movie positive\">99</div>,\n",
       " <div class=\"metascore_w large movie positive\">99</div>,\n",
       " <div class=\"metascore_w user large movie positive\">8.2</div>,\n",
       " <div class=\"metascore_w large movie positive\">99</div>,\n",
       " <div class=\"metascore_w large movie positive\">99</div>,\n",
       " <div class=\"metascore_w user large movie positive\">8.4</div>,\n",
       " <div class=\"metascore_w large movie positive\">98</div>,\n",
       " <div class=\"metascore_w large movie positive\">98</div>,\n",
       " <div class=\"metascore_w user large movie positive\">8.5</div>,\n",
       " <div class=\"metascore_w large movie positive\">98</div>,\n",
       " <div class=\"metascore_w large movie positive\">98</div>,\n",
       " <div class=\"metascore_w user large movie positive\">8.7</div>,\n",
       " <div class=\"metascore_w large movie positive\">98</div>,\n",
       " <div class=\"metascore_w large movie positive\">98</div>,\n",
       " <div class=\"metascore_w user large movie positive\">8.3</div>,\n",
       " <div class=\"metascore_w large movie positive\">98</div>,\n",
       " <div class=\"metascore_w large movie positive\">98</div>,\n",
       " <div class=\"metascore_w user large movie positive\">8.2</div>,\n",
       " <div class=\"metascore_w large movie positive\">98</div>,\n",
       " <div class=\"metascore_w large movie positive\">98</div>,\n",
       " <div class=\"metascore_w user large movie positive\">8.6</div>,\n",
       " <div class=\"metascore_w large movie positive\">98</div>,\n",
       " <div class=\"metascore_w large movie positive\">98</div>,\n",
       " <div class=\"metascore_w user large movie positive\">8.8</div>,\n",
       " <div class=\"metascore_w large movie positive\">98</div>,\n",
       " <div class=\"metascore_w large movie positive\">98</div>,\n",
       " <div class=\"metascore_w user large movie positive\">8.0</div>,\n",
       " <div class=\"metascore_w large movie positive\">97</div>,\n",
       " <div class=\"metascore_w large movie positive\">97</div>,\n",
       " <div class=\"metascore_w user large movie positive\">8.2</div>,\n",
       " <div class=\"metascore_w large movie positive\">97</div>,\n",
       " <div class=\"metascore_w large movie positive\">97</div>,\n",
       " <div class=\"metascore_w user large movie positive\">8.0</div>,\n",
       " <div class=\"metascore_w large movie positive\">97</div>,\n",
       " <div class=\"metascore_w large movie positive\">97</div>,\n",
       " <div class=\"metascore_w user large movie positive\">8.5</div>,\n",
       " <div class=\"metascore_w large movie positive\">97</div>,\n",
       " <div class=\"metascore_w large movie positive\">97</div>,\n",
       " <div class=\"metascore_w user large movie positive\">8.4</div>,\n",
       " <div class=\"metascore_w large movie positive\">97</div>,\n",
       " <div class=\"metascore_w large movie positive\">97</div>,\n",
       " <div class=\"metascore_w user large movie tbd\">tbd</div>,\n",
       " <div class=\"metascore_w large movie positive\">97</div>,\n",
       " <div class=\"metascore_w large movie positive\">97</div>,\n",
       " <div class=\"metascore_w user large movie positive\">8.3</div>,\n",
       " <div class=\"metascore_w large movie positive\">97</div>,\n",
       " <div class=\"metascore_w large movie positive\">97</div>,\n",
       " <div class=\"metascore_w user large movie positive\">8.5</div>,\n",
       " <div class=\"metascore_w large movie positive\">97</div>,\n",
       " <div class=\"metascore_w large movie positive\">97</div>,\n",
       " <div class=\"metascore_w user large movie positive\">8.0</div>,\n",
       " <div class=\"metascore_w large movie positive\">97</div>,\n",
       " <div class=\"metascore_w large movie positive\">97</div>,\n",
       " <div class=\"metascore_w user large movie positive\">9.1</div>,\n",
       " <div class=\"metascore_w large movie positive\">97</div>,\n",
       " <div class=\"metascore_w large movie positive\">97</div>,\n",
       " <div class=\"metascore_w user large movie positive perfect\">10</div>,\n",
       " <div class=\"metascore_w large movie positive\">97</div>,\n",
       " <div class=\"metascore_w large movie positive\">97</div>,\n",
       " <div class=\"metascore_w user large movie positive\">8.5</div>,\n",
       " <div class=\"metascore_w large movie positive\">97</div>,\n",
       " <div class=\"metascore_w large movie positive\">97</div>,\n",
       " <div class=\"metascore_w user large movie positive\">7.8</div>,\n",
       " <div class=\"metascore_w large movie positive\">96</div>,\n",
       " <div class=\"metascore_w large movie positive\">96</div>,\n",
       " <div class=\"metascore_w user large movie positive\">8.0</div>,\n",
       " <div class=\"metascore_w large movie positive\">96</div>,\n",
       " <div class=\"metascore_w large movie positive\">96</div>,\n",
       " <div class=\"metascore_w user large movie positive\">7.8</div>,\n",
       " <div class=\"metascore_w large movie positive\">96</div>,\n",
       " <div class=\"metascore_w large movie positive\">96</div>,\n",
       " <div class=\"metascore_w user large movie positive\">8.5</div>,\n",
       " <div class=\"metascore_w large movie positive\">96</div>,\n",
       " <div class=\"metascore_w large movie positive\">96</div>,\n",
       " <div class=\"metascore_w user large movie tbd\">tbd</div>,\n",
       " <div class=\"metascore_w large movie positive\">96</div>,\n",
       " <div class=\"metascore_w large movie positive\">96</div>,\n",
       " <div class=\"metascore_w user large movie positive\">9.3</div>,\n",
       " <div class=\"metascore_w large movie positive\">96</div>,\n",
       " <div class=\"metascore_w large movie positive\">96</div>,\n",
       " <div class=\"metascore_w user large movie positive\">8.2</div>,\n",
       " <div class=\"metascore_w large movie positive\">96</div>,\n",
       " <div class=\"metascore_w large movie positive\">96</div>,\n",
       " <div class=\"metascore_w user large movie positive\">8.2</div>,\n",
       " <div class=\"metascore_w large movie positive\">96</div>,\n",
       " <div class=\"metascore_w large movie positive\">96</div>,\n",
       " <div class=\"metascore_w user large movie positive\">7.9</div>,\n",
       " <div class=\"metascore_w large movie positive\">96</div>,\n",
       " <div class=\"metascore_w large movie positive\">96</div>,\n",
       " <div class=\"metascore_w user large movie positive\">8.0</div>,\n",
       " <div class=\"metascore_w large movie positive\">96</div>,\n",
       " <div class=\"metascore_w large movie positive\">96</div>,\n",
       " <div class=\"metascore_w user large movie positive\">6.9</div>,\n",
       " <div class=\"metascore_w large movie positive\">96</div>,\n",
       " <div class=\"metascore_w large movie positive\">96</div>,\n",
       " <div class=\"metascore_w user large movie tbd\">tbd</div>,\n",
       " <div class=\"metascore_w large movie positive\">96</div>,\n",
       " <div class=\"metascore_w large movie positive\">96</div>,\n",
       " <div class=\"metascore_w user large movie positive\">8.8</div>,\n",
       " <div class=\"metascore_w large movie positive\">96</div>,\n",
       " <div class=\"metascore_w large movie positive\">96</div>,\n",
       " <div class=\"metascore_w user large movie positive\">8.6</div>,\n",
       " <div class=\"metascore_w large movie positive\">96</div>,\n",
       " <div class=\"metascore_w large movie positive\">96</div>,\n",
       " <div class=\"metascore_w user large movie positive\">8.9</div>,\n",
       " <div class=\"metascore_w large movie positive\">96</div>,\n",
       " <div class=\"metascore_w large movie positive\">96</div>,\n",
       " <div class=\"metascore_w user large movie positive\">8.8</div>,\n",
       " <div class=\"metascore_w large movie positive\">96</div>,\n",
       " <div class=\"metascore_w large movie positive\">96</div>,\n",
       " <div class=\"metascore_w user large movie positive\">9.0</div>,\n",
       " <div class=\"metascore_w large movie positive\">96</div>,\n",
       " <div class=\"metascore_w large movie positive\">96</div>,\n",
       " <div class=\"metascore_w user large movie positive\">9.1</div>,\n",
       " <div class=\"metascore_w large movie positive\">96</div>,\n",
       " <div class=\"metascore_w large movie positive\">96</div>,\n",
       " <div class=\"metascore_w user large movie positive\">7.7</div>,\n",
       " <div class=\"metascore_w large movie positive\">96</div>,\n",
       " <div class=\"metascore_w large movie positive\">96</div>,\n",
       " <div class=\"metascore_w user large movie positive\">7.0</div>,\n",
       " <div class=\"metascore_w large movie positive\">96</div>,\n",
       " <div class=\"metascore_w large movie positive\">96</div>,\n",
       " <div class=\"metascore_w user large movie positive\">7.8</div>,\n",
       " <div class=\"metascore_w large movie positive\">96</div>,\n",
       " <div class=\"metascore_w large movie positive\">96</div>,\n",
       " <div class=\"metascore_w user large movie positive\">8.5</div>,\n",
       " <div class=\"metascore_w large movie positive\">96</div>,\n",
       " <div class=\"metascore_w large movie positive\">96</div>,\n",
       " <div class=\"metascore_w user large movie positive\">9.0</div>,\n",
       " <div class=\"metascore_w large movie positive\">95</div>,\n",
       " <div class=\"metascore_w large movie positive\">95</div>,\n",
       " <div class=\"metascore_w user large movie positive\">8.6</div>,\n",
       " <div class=\"metascore_w large movie positive\">95</div>,\n",
       " <div class=\"metascore_w large movie positive\">95</div>,\n",
       " <div class=\"metascore_w user large movie positive\">9.0</div>,\n",
       " <div class=\"metascore_w large movie positive\">95</div>,\n",
       " <div class=\"metascore_w large movie positive\">95</div>,\n",
       " <div class=\"metascore_w user large movie positive\">8.8</div>,\n",
       " <div class=\"metascore_w large movie positive\">95</div>,\n",
       " <div class=\"metascore_w large movie positive\">95</div>,\n",
       " <div class=\"metascore_w user large movie positive\">8.2</div>,\n",
       " <div class=\"metascore_w large movie positive\">95</div>,\n",
       " <div class=\"metascore_w large movie positive\">95</div>,\n",
       " <div class=\"metascore_w user large movie positive\">8.7</div>,\n",
       " <div class=\"metascore_w large movie positive\">95</div>,\n",
       " <div class=\"metascore_w large movie positive\">95</div>,\n",
       " <div class=\"metascore_w user large movie positive\">8.7</div>,\n",
       " <div class=\"metascore_w large movie positive\">95</div>,\n",
       " <div class=\"metascore_w large movie positive\">95</div>,\n",
       " <div class=\"metascore_w user large movie mixed\">5.4</div>,\n",
       " <div class=\"metascore_w large movie positive\">95</div>,\n",
       " <div class=\"metascore_w large movie positive\">95</div>,\n",
       " <div class=\"metascore_w user large movie tbd\">tbd</div>,\n",
       " <div class=\"metascore_w large movie positive\">95</div>,\n",
       " <div class=\"metascore_w large movie positive\">95</div>,\n",
       " <div class=\"metascore_w user large movie positive\">8.4</div>,\n",
       " <div class=\"metascore_w large movie positive\">95</div>,\n",
       " <div class=\"metascore_w large movie positive\">95</div>,\n",
       " <div class=\"metascore_w user large movie positive\">8.2</div>,\n",
       " <div class=\"metascore_w large movie positive\">95</div>,\n",
       " <div class=\"metascore_w large movie positive\">95</div>,\n",
       " <div class=\"metascore_w user large movie positive\">7.3</div>,\n",
       " <div class=\"metascore_w large movie positive\">95</div>,\n",
       " <div class=\"metascore_w large movie positive\">95</div>,\n",
       " <div class=\"metascore_w user large movie positive\">8.3</div>,\n",
       " <div class=\"metascore_w large movie positive\">95</div>,\n",
       " <div class=\"metascore_w large movie positive\">95</div>,\n",
       " <div class=\"metascore_w user large movie positive\">6.9</div>,\n",
       " <div class=\"metascore_w large movie positive\">95</div>,\n",
       " <div class=\"metascore_w large movie positive\">95</div>,\n",
       " <div class=\"metascore_w user large movie positive\">8.9</div>,\n",
       " <div class=\"metascore_w large movie positive\">95</div>,\n",
       " <div class=\"metascore_w large movie positive\">95</div>,\n",
       " <div class=\"metascore_w user large movie positive\">8.9</div>,\n",
       " <div class=\"metascore_w large movie positive\">94</div>,\n",
       " <div class=\"metascore_w large movie positive\">94</div>,\n",
       " <div class=\"metascore_w user large movie positive\">7.9</div>,\n",
       " <div class=\"metascore_w large movie positive\">94</div>,\n",
       " <div class=\"metascore_w large movie positive\">94</div>,\n",
       " <div class=\"metascore_w user large movie positive\">8.4</div>,\n",
       " <div class=\"metascore_w large movie positive\">94</div>,\n",
       " <div class=\"metascore_w large movie positive\">94</div>,\n",
       " <div class=\"metascore_w user large movie positive\">8.1</div>,\n",
       " <div class=\"metascore_w large movie positive\">94</div>,\n",
       " <div class=\"metascore_w large movie positive\">94</div>,\n",
       " <div class=\"metascore_w user large movie positive\">8.3</div>,\n",
       " <div class=\"metascore_w large movie positive\">94</div>,\n",
       " <div class=\"metascore_w large movie positive\">94</div>,\n",
       " <div class=\"metascore_w user large movie positive\">8.6</div>,\n",
       " <div class=\"metascore_w large movie positive\">94</div>,\n",
       " <div class=\"metascore_w large movie positive\">94</div>,\n",
       " <div class=\"metascore_w user large movie positive\">7.6</div>,\n",
       " <div class=\"metascore_w large movie positive\">94</div>,\n",
       " <div class=\"metascore_w large movie positive\">94</div>,\n",
       " <div class=\"metascore_w user large movie positive\">7.4</div>,\n",
       " <div class=\"metascore_w large movie positive\">94</div>,\n",
       " <div class=\"metascore_w large movie positive\">94</div>,\n",
       " <div class=\"metascore_w user large movie positive\">7.5</div>,\n",
       " <div class=\"metascore_w large movie positive\">94</div>,\n",
       " <div class=\"metascore_w large movie positive\">94</div>,\n",
       " <div class=\"metascore_w user large movie positive\">9.0</div>,\n",
       " <div class=\"metascore_w large movie positive\">94</div>,\n",
       " <div class=\"metascore_w large movie positive\">94</div>,\n",
       " <div class=\"metascore_w user large movie positive\">8.2</div>,\n",
       " <div class=\"metascore_w large movie positive\">94</div>,\n",
       " <div class=\"metascore_w large movie positive\">94</div>,\n",
       " <div class=\"metascore_w user large movie positive\">6.9</div>,\n",
       " <div class=\"metascore_w large movie positive\">94</div>,\n",
       " <div class=\"metascore_w large movie positive\">94</div>,\n",
       " <div class=\"metascore_w user large movie positive\">8.1</div>,\n",
       " <div class=\"metascore_w large movie positive\">94</div>,\n",
       " <div class=\"metascore_w large movie positive\">94</div>,\n",
       " <div class=\"metascore_w user large movie tbd\">tbd</div>,\n",
       " <div class=\"metascore_w large movie positive\">94</div>,\n",
       " <div class=\"metascore_w large movie positive\">94</div>,\n",
       " <div class=\"metascore_w user large movie positive\">9.3</div>,\n",
       " <div class=\"metascore_w large movie positive\">94</div>,\n",
       " <div class=\"metascore_w large movie positive\">94</div>,\n",
       " <div class=\"metascore_w user large movie tbd\">tbd</div>,\n",
       " <div class=\"metascore_w large movie positive\">94</div>,\n",
       " <div class=\"metascore_w large movie positive\">94</div>,\n",
       " <div class=\"metascore_w user large movie positive\">8.0</div>,\n",
       " <div class=\"metascore_w large movie positive\">94</div>,\n",
       " <div class=\"metascore_w large movie positive\">94</div>,\n",
       " <div class=\"metascore_w user large movie positive\">8.6</div>,\n",
       " <div class=\"metascore_w large movie positive\">94</div>,\n",
       " <div class=\"metascore_w large movie positive\">94</div>,\n",
       " <div class=\"metascore_w user large movie positive\">8.7</div>,\n",
       " <div class=\"metascore_w large movie positive\">94</div>,\n",
       " <div class=\"metascore_w large movie positive\">94</div>,\n",
       " <div class=\"metascore_w user large movie positive\">7.1</div>,\n",
       " <div class=\"metascore_w large movie positive\">94</div>,\n",
       " <div class=\"metascore_w large movie positive\">94</div>,\n",
       " <div class=\"metascore_w user large movie positive\">8.8</div>,\n",
       " <div class=\"metascore_w large movie positive\">94</div>,\n",
       " <div class=\"metascore_w large movie positive\">94</div>,\n",
       " <div class=\"metascore_w user large movie positive\">9.1</div>,\n",
       " <div class=\"metascore_w large movie positive\">94</div>,\n",
       " <div class=\"metascore_w large movie positive\">94</div>,\n",
       " <div class=\"metascore_w user large movie positive\">8.9</div>,\n",
       " <div class=\"metascore_w large movie positive\">94</div>,\n",
       " <div class=\"metascore_w large movie positive\">94</div>,\n",
       " <div class=\"metascore_w user large movie positive\">7.6</div>,\n",
       " <div class=\"metascore_w large movie positive\">94</div>,\n",
       " <div class=\"metascore_w large movie positive\">94</div>,\n",
       " <div class=\"metascore_w user large movie positive\">6.9</div>,\n",
       " <div class=\"metascore_w large movie positive\">94</div>,\n",
       " <div class=\"metascore_w large movie positive\">94</div>,\n",
       " <div class=\"metascore_w user large movie positive\">7.6</div>,\n",
       " <div class=\"metascore_w large movie positive\">94</div>,\n",
       " <div class=\"metascore_w large movie positive\">94</div>,\n",
       " <div class=\"metascore_w user large movie tbd\">tbd</div>,\n",
       " <div class=\"metascore_w large movie positive\">94</div>,\n",
       " <div class=\"metascore_w large movie positive\">94</div>,\n",
       " <div class=\"metascore_w user large movie positive\">9.1</div>,\n",
       " <div class=\"metascore_w large movie positive\">94</div>,\n",
       " <div class=\"metascore_w large movie positive\">94</div>,\n",
       " <div class=\"metascore_w user large movie positive\">7.9</div>,\n",
       " <div class=\"metascore_w large movie positive\">94</div>,\n",
       " <div class=\"metascore_w large movie positive\">94</div>,\n",
       " <div class=\"metascore_w user large movie positive\">8.2</div>,\n",
       " <div class=\"metascore_w large movie positive\">94</div>,\n",
       " <div class=\"metascore_w large movie positive\">94</div>,\n",
       " <div class=\"metascore_w user large movie positive\">8.4</div>]"
      ]
     },
     "metadata": {},
     "execution_count": 38
    }
   ],
   "source": [
    "scores_meta=[]\n",
    "for l in lista_score_clean:\n",
    "    scores_meta += l.findChildren(\"div\", class_= \"metascore_w\")\n",
    "scores_meta"
   ]
  },
  {
   "cell_type": "code",
   "execution_count": 30,
   "metadata": {},
   "outputs": [
    {
     "output_type": "execute_result",
     "data": {
      "text/plain": [
       "300"
      ]
     },
     "metadata": {},
     "execution_count": 30
    }
   ],
   "source": [
    "len(scores_meta)"
   ]
  },
  {
   "cell_type": "code",
   "execution_count": 41,
   "metadata": {},
   "outputs": [],
   "source": [
    "user_score_meta = [*map(lambda x: float(x.text)*10 if x.text != \"tbd\" else -1, scores_meta[2::3])]"
   ]
  },
  {
   "cell_type": "code",
   "execution_count": 42,
   "metadata": {},
   "outputs": [],
   "source": [
    "scores_meta = [*map(lambda x: int(x.text), scores_meta[::3])]"
   ]
  },
  {
   "cell_type": "code",
   "execution_count": 43,
   "metadata": {},
   "outputs": [],
   "source": [
    "nombre_critica_meta ={x[0]:x[1] for x in zip(lista_nombres, scores_meta)}"
   ]
  },
  {
   "cell_type": "code",
   "execution_count": 44,
   "metadata": {},
   "outputs": [],
   "source": [
    "nombre_critica_user ={x[0]:x[1] for x in zip(lista_nombres, user_score_meta)}"
   ]
  },
  {
   "cell_type": "code",
   "execution_count": 45,
   "metadata": {},
   "outputs": [],
   "source": [
    "metadict = {\"critics\":nombre_critica_meta, \"users\": nombre_critica_user}"
   ]
  },
  {
   "cell_type": "code",
   "execution_count": 46,
   "metadata": {},
   "outputs": [],
   "source": [
    "with open(\"meta_scores.json\", \"w\") as f:\n",
    "    json.dump(metadict, f)"
   ]
  },
  {
   "cell_type": "code",
   "execution_count": null,
   "metadata": {},
   "outputs": [],
   "source": []
  }
 ]
}
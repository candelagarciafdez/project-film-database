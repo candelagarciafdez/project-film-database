{
 "metadata": {
  "language_info": {
   "codemirror_mode": {
    "name": "ipython",
    "version": 3
   },
   "file_extension": ".py",
   "mimetype": "text/x-python",
   "name": "python",
   "nbconvert_exporter": "python",
   "pygments_lexer": "ipython3",
   "version": "3.8.3-final"
  },
  "orig_nbformat": 2,
  "kernelspec": {
   "name": "python3",
   "display_name": "Python 3"
  }
 },
 "nbformat": 4,
 "nbformat_minor": 2,
 "cells": [
  {
   "cell_type": "code",
   "execution_count": 1,
   "metadata": {},
   "outputs": [],
   "source": [
    "import requests\n",
    "from bs4 import BeautifulSoup\n",
    "import pandas as pd\n",
    "import json"
   ]
  },
  {
   "cell_type": "code",
   "execution_count": 2,
   "metadata": {},
   "outputs": [],
   "source": [
    "url = 'https://www.rottentomatoes.com/top/bestofrt/'"
   ]
  },
  {
   "cell_type": "code",
   "execution_count": 3,
   "metadata": {},
   "outputs": [
    {
     "output_type": "stream",
     "name": "stdout",
     "text": [
      "['Top', '100', 'Movies', 'of', 'All', 'Time', '-', 'Rotten', 'Tomatoes', 'Home', 'Top', 'Box', 'Office', 'Tickets', '&', 'Showtimes', 'DVD', '&', 'Streaming', 'News', \"What's\", 'the', 'Tomatometer®?', 'Critics', 'Home', 'Box', 'Office', 'DVD', 'MORE', 'News', 'SIGN', 'UP', 'LOG', 'IN', 'Movies', '&', 'DVDs', 'Movies', 'in', 'Theaters', 'Opening', 'This', 'Week', 'Top', 'Box', 'Office', 'Coming', 'Soon', 'to', 'Theaters', 'Weekend', 'Earnings', 'Certified', 'Fresh', 'Movies', 'On', 'Dvd', '&', 'Streaming', 'FandangoNOW', 'Netflix', 'Streaming', 'iTunes', 'Amazon', 'and', 'Amazon', 'Prime', 'Top', 'DVD', '&', 'Streaming', 'New', 'Releases', 'Coming', 'Soon', 'to', 'DVD', 'Certified', 'Fresh', 'Movies', 'Browse', 'All', 'More', 'Top', 'Movies', 'Trailers', 'Forums', 'Certified', 'Fresh', 'Picks', '88%', 'Shirley', '92%', 'Da', '5', 'Bloods', '99%', 'On', 'the', 'Record', 'TV', 'View', 'All', 'New', 'TV', 'Tonight', '80%', 'Industry', '67%', 'Soulmates', '64%', 'Filthy', 'Rich', '24%', \"L.A.'s\", 'Finest', 'No', 'Score', 'Yet', 'Dancing', 'With', 'the', 'Stars', 'No', 'Score', 'Yet', 'The', 'Voice', 'No', 'Score', 'Yet', 'Axios', 'No', 'Score', 'Yet', 'The', 'Good', 'Doctor', 'No', 'Score', 'Yet', 'Undercover', 'No', 'Score', 'Yet', 'The', 'Mighty', 'Ones', 'View', 'All', 'Most', 'Popular', 'TV', 'on', 'RT', '100%', 'The', \"Queen's\", 'Gambit', '100%', 'Blood', 'of', 'Zeus', '100%', 'The', 'Good', 'Lord', 'Bird', '89%', 'The', 'Mandalorian', '90%', 'Flesh', 'and', 'Blood', '75%', 'The', 'Undoing', 'No', 'Score', 'Yet', 'Paranormal', '57%', 'Moonbase', '8', '91%', 'Evil', 'No', 'Score', 'Yet', 'Barbarians', '78%', 'Truth', 'Seekers', '78%', 'Fargo', 'More', 'Top', 'TV', 'Shows', 'Certified', 'Fresh', 'TV', 'Episodic', 'Reviews', 'Atlanta:', \"Robbin'\", 'Season', 'Black', 'Mirror:', 'Season', '5', 'Into', 'The', 'Dark:', 'Season', '2', 'Lovecraft', 'Country:', 'Season', '1', 'The', 'Mandalorian:', 'Season', '1', 'Saturday', 'Night', 'Live:', 'Season', '46', 'Orphan', 'Black:', 'Season', '5', 'Watchmen:', 'Season', '1', 'The', 'Walking', 'Dead:', 'Season', '10', 'Certified', 'Fresh', 'Pick', '97%', 'I', 'May', 'Destroy', 'You', 'News', 'Columns', '24', 'Frames', 'All-Time', 'Lists', 'Binge', 'Guide', 'Comics', 'on', 'TV', 'Countdown', 'Critics', 'Consensus', 'Five', 'Favorite', 'Films', 'Now', 'Streaming', 'Parental', 'Guidance', 'Red', 'Carpet', 'Roundup', 'Scorecards', 'Sub-Cult', 'Total', 'Recall', 'Video', 'Interviews', 'Weekend', 'Box', 'Office', 'Weekly', 'Ketchup', 'What', 'to', 'Watch', 'The', 'Zeros', 'View', 'All', 'Best', 'and', 'Worst', 'Sidney', 'Poitier’s', '7', 'Most', 'Memorable', 'Performances', 'All', 'Harry', 'Potter', 'Movies', 'Ranked', 'Worst', 'to', 'Best', 'by', 'Tomatometer', 'View', 'All', 'Guides', 'Holiday', 'Movie', 'Guide', '2020', 'Fall', 'TV', '2020', 'View', 'All', 'RT', 'News', 'Freaky', 'Exclusive', 'Clip:', 'Body-Swappers', 'Vince', 'Vaughn', 'and', 'Kathryn', 'Newton', 'Come', 'Face', 'to', 'Face', 'Johnny', 'Depp', 'Will', 'Not', 'Appear', 'in', 'Fantastic', 'Beasts', '3,', 'and', 'More', 'Movie', 'News', 'Tickets', '&', 'Showtimes', 'Trending', 'on', 'RT', 'Our', 'New', 'Podcast', 'Holiday', 'Movie', 'Guide', 'RT', 'Watch', 'List', 'Best', 'Netflix', 'Series', 'Top', '100', 'Movies', 'of', 'All', 'Time', 'Best', 'of', 'Rotten', 'Tomatoes', 'Movies', 'with', '40', 'or', 'more', 'critic', 'reviews', 'vie', 'for', 'their', 'place', 'in', 'history', 'at', 'Rotten', 'Tomatoes.', 'Eligible', 'movies', 'are', 'ranked', 'based', 'on', 'their', 'Adjusted', 'Scores.', 'Genre:', 'All', 'Genres', 'Action', '&', 'Adventure', 'Animation', 'Art', 'House', '&', 'International', 'Classics', 'Comedy', 'Documentary', 'Drama', 'Horror', 'Kids', '&', 'Family', 'Musical', '&', 'Performing', 'Arts', 'Mystery', '&', 'Suspense', 'Romance', 'Science', 'Fiction', '&', 'Fantasy', 'Special', 'Interest', 'Sports', '&', 'Fitness', 'Television', 'Western', 'Sorted', 'by', 'Adjusted', 'Score', 'Rank', 'RatingTomatometer', 'Title', 'No.', 'of', 'Reviews', '1.', '97%', 'Black', 'Panther', '(2018)', '515', '2.', '94%', 'Avengers:', 'Endgame', '(2019)', '529', '3.', '93%', 'Us', '(2019)', '535', '4.', '97%', 'Toy', 'Story', '4', '(2019)', '444', '5.', '99%', 'Lady', 'Bird', '(2017)', '393', '6.', '100%', 'Citizen', 'Kane', '(1941)', '93', '7.', '97%', 'Mission:', 'Impossible', '-', 'Fallout', '(2018)', '430', '8.', '98%', 'The', 'Wizard', 'of', 'Oz', '(1939)', '120', '9.', '96%', 'The', 'Irishman', '(2019)', '440', '10.', '96%', 'BlacKkKlansman', '(2018)', '437', '11.', '98%', 'Get', 'Out', '(2017)', '388', '12.', '97%', 'Mad', 'Max:', 'Fury', 'Road', '(2015)', '422', '13.', '99%', 'Casablanca', '(1942)', '92', '14.', '97%', 'Spider-Man:', 'Into', 'the', 'Spider-Verse', '(2018)', '383', '15.', '98%', 'Moonlight', '(2016)', '385', '16.', '93%', 'Wonder', 'Woman', '(2017)', '460', '17.', '90%', 'A', 'Star', 'Is', 'Born', '(2018)', '519', '18.', '96%', 'Roma', '(2018)', '388', '19.', '93%', 'Dunkirk', '(2017)', '454', '20.', '98%', 'Inside', 'Out', '(2015)', '371', '21.', '98%', 'The', 'Farewell', '(2019)', '333', '22.', '100%', 'Modern', 'Times', '(1936)', '61', '23.', '96%', 'A', 'Quiet', 'Place', '(2018)', '375', '24.', '99%', 'The', 'Third', 'Man', '(1949)', '82', '25.', '98%', 'It', 'Happened', 'One', 'Night', '(1934)', '61', '26.', '99%', 'Eighth', 'Grade', '(2018)', '306', '27.', '96%', 'Booksmart', '(2019)', '359', '28.', '97%', 'Coco', '(2017)', '343', '29.', '93%', 'Thor:', 'Ragnarok', '(2017)', '428', '30.', '92%', 'The', 'Shape', 'of', 'Water', '(2017)', '449', '31.', '99%', 'Selma', '(2014)', '308', '32.', '97%', 'Spotlight', '(2015)', '367', '33.', '97%', 'La', 'Grande', 'illusion', '(Grand', 'Illusion)', '(1938)', '66', '34.', '98%', 'The', 'Godfather', '(1972)', '99', '35.', '100%', \"Singin'\", 'in', 'the', 'Rain', '(1952)', '63', '36.', '98%', 'Snow', 'White', 'and', 'the', 'Seven', 'Dwarfs', '(1937)', '53', '37.', '94%', 'Arrival', '(2016)', '426', '38.', '98%', 'The', 'Cabinet', 'of', 'Dr.', 'Caligari', '(Das', 'Cabinet', 'des', 'Dr.', 'Caligari)', '(1920)', '64', '39.', '93%', 'Logan', '(2017)', '415', '40.', '99%', 'All', 'About', 'Eve', '(1950)', '77', '41.', '93%', 'The', 'Favourite', '(2018)', '406', '42.', '100%', 'The', 'Kid', '(1921)', '43', '43.', '98%', 'E.T.', 'The', 'Extra-Terrestrial', '(1982)', '131', '44.', '98%', 'The', 'Big', 'Sick', '(2017)', '299', '45.', '90%', 'Star', 'Wars:', 'The', 'Last', 'Jedi', '(2017)', '473', '46.', '100%', 'Shadow', 'of', 'a', 'Doubt', '(1943)', '47', '47.', '96%', 'Gravity', '(2013)', '354', '48.', '100%', 'The', 'Adventures', 'of', 'Robin', 'Hood', '(1938)', '48', '49.', '100%', 'Paddington', '2', '(2018)', '243', '50.', '98%', 'King', 'Kong', '(1933)', '64', '51.', '97%', 'Boyhood', '(2014)', '321', '52.', '100%', 'Laura', '(1944)', '64', '53.', '85%', 'Once', 'Upon', 'a', 'Time', 'In', 'Hollywood', '(2019)', '555', '54.', '96%', 'Argo', '(2012)', '356', '55.', '96%', 'Manchester', 'by', 'the', 'Sea', '(2016)', '347', '56.', '97%', 'Nosferatu,', 'a', 'Symphony', 'of', 'Horror', '(Nosferatu,', 'eine', 'Symphonie', 'des', 'Grauens)', '(Nosferatu', 'the', 'Vampire)', '(1922)', '66', '57.', '100%', 'Leave', 'No', 'Trace', '(2018)', '234', '58.', '95%', '12', 'Years', 'a', 'Slave', '(2013)', '365', '59.', '98%', 'Alien', '(1979)', '125', '60.', '90%', 'Spider-Man:', 'Far', 'From', 'Home', '(2019)', '441', '61.', '91%', 'La', 'La', 'Land', '(2016)', '458', '62.', '93%', 'Incredibles', '2', '(2018)', '380', '63.', '98%', 'Zootopia', '(2016)', '292', '64.', '92%', 'Star', 'Wars:', 'Episode', 'VII', '-', 'The', 'Force', 'Awakens', '(2015)', '437', '65.', '99%', 'Sunset', 'Boulevard', '(1950)', '69', '66.', '96%', 'Psycho', '(1960)', '102', '67.', '94%', 'Call', 'Me', 'by', 'Your', 'Name', '(2018)', '356', '68.', '97%', 'Metropolis', '(1927)', '131', '69.', '94%', 'War', 'for', 'the', 'Planet', 'of', 'the', 'Apes', '(2017)', '354', '70.', '100%', 'The', 'Maltese', 'Falcon', '(1941)', '56', '71.', '99%', 'The', 'Battle', 'of', 'Algiers', '(La', 'Battaglia', 'di', 'Algeri)', '(1967)', '89', '72.', '91%', 'Widows', '(2018)', '414', '73.', '98%', 'A', 'Hard', \"Day's\", 'Night', '(1964)', '109', '74.', '96%', 'The', 'Florida', 'Project', '(2017)', '308', '75.', '100%', 'Top', 'Hat', '(1935)', '42', '76.', '100%', 'Seven', 'Samurai', '(Shichinin', 'no', 'Samurai)', '(1956)', '65', '77.', '92%', 'Spider-Man:', 'Homecoming', '(2017)', '390', '78.', '100%', 'The', 'Philadelphia', 'Story', '(1940)', '63', '79.', '92%', 'Baby', 'Driver', '(2017)', '385', '80.', '100%', 'M', '(1931)', '58', '81.', '100%', 'Rebecca', '(1940)', '62', '82.', '99%', 'North', 'by', 'Northwest', '(1959)', '78', '83.', '99%', 'Shoplifters', '(Manbiki', 'kazoku)', '(2018)', '226', '84.', '98%', 'The', 'Bride', 'of', 'Frankenstein', '(1935)', '47', '85.', '97%', 'Hell', 'or', 'High', 'Water', '(2016)', '280', '86.', '98%', 'Bicycle', 'Thieves', '(Ladri', 'di', 'biciclette)', '(The', 'Bicycle', 'Thief)', '(1949)', '63', '87.', '90%', 'Shazam!', '(2019)', '404', '88.', '98%', 'Up', '(2009)', '296', '89.', '98%', 'Jaws', '(1975)', '88', '90.', '100%', 'Toy', 'Story', '2', '(1999)', '169', '91.', '99%', 'Rear', 'Window', '(1954)', '74', '92.', '98%', 'Toy', 'Story', '3', '(2010)', '307', '93.', '90%', 'Three', 'Billboards', 'Outside', 'Ebbing,', 'Missouri', '(2017)', '405', '94.', '98%', 'The', 'Godfather,', 'Part', 'II', '(1974)', '83', '95.', '97%', \"Won't\", 'You', 'Be', 'My', 'Neighbor?', '(2018)', '250', '96.', '99%', 'Chinatown', '(1974)', '75', '97.', '100%', 'The', 'Lady', 'Eve', '(1941)', '47', '98.', '100%', 'Pinocchio', '(1940)', '55', '99.', '100%', '12', 'Angry', 'Men', '(Twelve', 'Angry', 'Men)', '(1957)', '54', '100.', '94%', 'The', 'Dark', 'Knight', '(2008)', '340', \"Today's\", 'Top', 'Rated', 'Movies', 'Certified', 'Fresh', 'In', 'Theaters', '91%', 'The', 'Trial', 'of', 'the', 'Chicago', '7', '99%', 'Time', '100%', 'Dick', 'Johnson', 'Is', 'Dead', '92%', 'The', 'Personal', 'History', 'of', 'David', 'Copperfield', '98%', 'The', 'Forty-Year-Old', 'Version', '100%', 'All', 'In:', 'The', 'Fight', 'for', 'Democracy', '100%', 'Coup', '53', '94%', 'Boys', 'State', '98%', 'Spontaneous', '91%', 'Enola', 'Holmes', 'View', 'All', 'Top', '10', 'DVD', 'Releases', '97%', 'Black', 'Panther', '99%', 'Parasite', '(Gisaengchung)', '94%', 'Avengers:', 'Endgame', '97%', 'Knives', 'Out', '93%', 'Us', '97%', 'Toy', 'Story', '4', '99%', 'Lady', 'Bird', '100%', 'Citizen', 'Kane', '97%', 'Mission:', 'Impossible', '-', 'Fallout', '98%', 'The', 'Wizard', 'of', 'Oz', 'View', 'All', 'Help', 'About', 'Rotten', 'Tomatoes', \"What's\", 'the', 'Tomatometer?', 'Feedback', 'Critic', 'Submission', 'Licensing', 'Advertise', 'Careers', 'JOIN', 'THE', 'NEWSLETTER', 'Get', 'the', 'freshest', 'reviews,', 'news,', 'and', 'more', 'delivered', 'right', 'to', 'your', 'inbox!', 'Join', 'the', 'Newsletter!', 'Follow', 'Us', 'Copyright', '©', 'Fandango.', 'All', 'rights', 'reserved.', 'V2', 'Privacy', 'Policy', '|', 'Terms', 'and', 'Policies', '|', 'Ad', 'Choices', 'Copyright', '©', 'Fandango.', 'All', 'rights', 'reserved.', 'V2', 'Join', 'Newsletter', 'Terms', 'and', 'Policies', 'Privacy', 'Policy', 'Feedback']\n"
     ]
    }
   ],
   "source": [
    "pagina = requests.get(url)\n",
    "soup = BeautifulSoup(pagina.content, 'html.parser')\n",
    "print(soup.text.split())"
   ]
  },
  {
   "cell_type": "code",
   "execution_count": 4,
   "metadata": {},
   "outputs": [
    {
     "output_type": "stream",
     "name": "stdout",
     "text": [
      "Opening This Week\nTop Box Office\nComing Soon to Theaters\nWeekend Earnings\nCertified Fresh Movies\nOn Dvd & Streaming\nFandangoNOW\nNetflix Streaming\niTunes\nAmazon and Amazon Prime\nTop DVD & Streaming\nNew Releases\nComing Soon to DVD\nCertified Fresh Movies\nBrowse All\nTop Movies\nTrailers\nForums\nView All\nView All\nTop TV Shows\nCertified Fresh TV\n24 Frames\nAll-Time Lists\nBinge Guide\nComics on TV\nCountdown\nCritics Consensus\nFive Favorite Films\nNow Streaming\nParental Guidance\nRed Carpet Roundup\nScorecards\nSub-Cult\nTotal Recall\nVideo Interviews\nWeekend Box Office\nWeekly Ketchup\nWhat to Watch\nThe Zeros\nView All\nView All\nView All\nBlack Panther (2018)\nAvengers: Endgame (2019)\nUs (2019)\nToy Story 4 (2019)\nLady Bird (2017)\nCitizen Kane (1941)\nMission: Impossible - Fallout (2018)\nThe Wizard of Oz (1939)\nThe Irishman (2019)\nBlacKkKlansman (2018)\nGet Out (2017)\nMad Max: Fury Road (2015)\nCasablanca (1942)\nSpider-Man: Into the Spider-Verse (2018)\nMoonlight (2016)\nWonder Woman (2017)\nA Star Is Born (2018)\nRoma (2018)\nDunkirk (2017)\nInside Out (2015)\nThe Farewell (2019)\nModern Times (1936)\nA Quiet Place (2018)\nThe Third Man (1949)\nIt Happened One Night (1934)\nEighth Grade (2018)\nBooksmart (2019)\nCoco (2017)\nThor: Ragnarok (2017)\nThe Shape of Water (2017)\nSelma (2014)\nSpotlight (2015)\nLa Grande illusion (Grand Illusion) (1938)\nThe Godfather (1972)\nSingin' in the Rain (1952)\nSnow White and the Seven Dwarfs (1937)\nArrival (2016)\nThe Cabinet of Dr. Caligari (Das Cabinet des Dr. Caligari) (1920)\nLogan (2017)\nAll About Eve (1950)\nThe Favourite (2018)\nThe Kid (1921)\nE.T. The Extra-Terrestrial (1982)\nThe Big Sick (2017)\nStar Wars: The Last Jedi (2017)\nShadow of a Doubt (1943)\nGravity (2013)\nThe Adventures of Robin Hood (1938)\nPaddington 2 (2018)\nKing Kong (1933)\nBoyhood (2014)\nLaura (1944)\nOnce Upon a Time In Hollywood (2019)\nArgo (2012)\nManchester by the Sea (2016)\nNosferatu, a Symphony of Horror (Nosferatu, eine Symphonie des Grauens) (Nosferatu the Vampire) (1922)\nLeave No Trace (2018)\n12 Years a Slave (2013)\nAlien (1979)\nSpider-Man: Far From Home (2019)\nLa La Land (2016)\nIncredibles 2 (2018)\nZootopia (2016)\nStar Wars: Episode VII - The Force Awakens (2015)\nSunset Boulevard (1950)\nPsycho (1960)\nCall Me by Your Name (2018)\nMetropolis (1927)\nWar for the Planet of the Apes (2017)\nThe Maltese Falcon (1941)\nThe Battle of Algiers (La Battaglia di Algeri) (1967)\nWidows (2018)\nA Hard Day's Night (1964)\nThe Florida Project (2017)\nTop Hat (1935)\nSeven Samurai (Shichinin no Samurai) (1956)\nSpider-Man: Homecoming (2017)\nThe Philadelphia Story (1940)\nBaby Driver (2017)\nM (1931)\nRebecca (1940)\nNorth by Northwest (1959)\nShoplifters (Manbiki kazoku) (2018)\nThe Bride of Frankenstein (1935)\nHell or High Water (2016)\nBicycle Thieves (Ladri di biciclette) (The Bicycle Thief) (1949)\nShazam! (2019)\nUp (2009)\nJaws (1975)\nToy Story 2 (1999)\nRear Window (1954)\nToy Story 3 (2010)\nThree Billboards Outside Ebbing, Missouri (2017)\nThe Godfather, Part II (1974)\nWon't You Be My Neighbor? (2018)\nChinatown (1974)\nThe Lady Eve (1941)\nPinocchio (1940)\n12 Angry Men (Twelve Angry Men) (1957)\nThe Dark Knight (2008)\nView All\nView All\n"
     ]
    }
   ],
   "source": [
    "nf = soup.find_all('a', class_=\"unstyled articleLink\")\n",
    "names = []\n",
    "for i in nf:\n",
    "    names.append(i.text)\n",
    "lista_nombres = []\n",
    "for n in names:\n",
    "    lista_nombres.append(n.replace(\"\\n\",\"\").strip())\n",
    "print(*lista_nombres, sep=\"\\n\")"
   ]
  },
  {
   "cell_type": "code",
   "execution_count": 5,
   "metadata": {},
   "outputs": [
    {
     "output_type": "execute_result",
     "data": {
      "text/plain": [
       "['Opening This Week',\n",
       " 'Top Box Office',\n",
       " 'Coming Soon to Theaters',\n",
       " 'Weekend Earnings',\n",
       " 'Certified Fresh Movies',\n",
       " 'On Dvd & Streaming',\n",
       " 'FandangoNOW',\n",
       " 'Netflix Streaming',\n",
       " 'iTunes',\n",
       " 'Amazon and Amazon Prime',\n",
       " 'Top DVD & Streaming',\n",
       " 'New Releases',\n",
       " 'Coming Soon to DVD',\n",
       " 'Certified Fresh Movies',\n",
       " 'Browse All',\n",
       " 'Top Movies',\n",
       " 'Trailers',\n",
       " 'Forums',\n",
       " 'View All',\n",
       " 'View All',\n",
       " 'Top TV Shows',\n",
       " 'Certified Fresh TV',\n",
       " '24 Frames',\n",
       " 'All-Time Lists',\n",
       " 'Binge Guide',\n",
       " 'Comics on TV',\n",
       " 'Countdown',\n",
       " 'Critics Consensus',\n",
       " 'Five Favorite Films',\n",
       " 'Now Streaming',\n",
       " 'Parental Guidance',\n",
       " 'Red Carpet Roundup',\n",
       " 'Scorecards',\n",
       " 'Sub-Cult',\n",
       " 'Total Recall',\n",
       " 'Video Interviews',\n",
       " 'Weekend Box Office',\n",
       " 'Weekly Ketchup',\n",
       " 'What to Watch',\n",
       " 'The Zeros',\n",
       " 'View All',\n",
       " 'View All',\n",
       " 'View All',\n",
       " 'Black Panther (2018)',\n",
       " 'Avengers: Endgame (2019)',\n",
       " 'Us (2019)',\n",
       " 'Toy Story 4 (2019)',\n",
       " 'Lady Bird (2017)',\n",
       " 'Citizen Kane (1941)',\n",
       " 'Mission: Impossible - Fallout (2018)',\n",
       " 'The Wizard of Oz (1939)',\n",
       " 'The Irishman (2019)',\n",
       " 'BlacKkKlansman (2018)',\n",
       " 'Get Out (2017)',\n",
       " 'Mad Max: Fury Road (2015)',\n",
       " 'Casablanca (1942)',\n",
       " 'Spider-Man: Into the Spider-Verse (2018)',\n",
       " 'Moonlight (2016)',\n",
       " 'Wonder Woman (2017)',\n",
       " 'A Star Is Born (2018)',\n",
       " 'Roma (2018)',\n",
       " 'Dunkirk (2017)',\n",
       " 'Inside Out (2015)',\n",
       " 'The Farewell (2019)',\n",
       " 'Modern Times (1936)',\n",
       " 'A Quiet Place (2018)',\n",
       " 'The Third Man (1949)',\n",
       " 'It Happened One Night (1934)',\n",
       " 'Eighth Grade (2018)',\n",
       " 'Booksmart (2019)',\n",
       " 'Coco (2017)',\n",
       " 'Thor: Ragnarok (2017)',\n",
       " 'The Shape of Water (2017)',\n",
       " 'Selma (2014)',\n",
       " 'Spotlight (2015)',\n",
       " 'La Grande illusion (Grand Illusion) (1938)',\n",
       " 'The Godfather (1972)',\n",
       " \"Singin' in the Rain (1952)\",\n",
       " 'Snow White and the Seven Dwarfs (1937)',\n",
       " 'Arrival (2016)',\n",
       " 'The Cabinet of Dr. Caligari (Das Cabinet des Dr. Caligari) (1920)',\n",
       " 'Logan (2017)',\n",
       " 'All About Eve (1950)',\n",
       " 'The Favourite (2018)',\n",
       " 'The Kid (1921)',\n",
       " 'E.T. The Extra-Terrestrial (1982)',\n",
       " 'The Big Sick (2017)',\n",
       " 'Star Wars: The Last Jedi (2017)',\n",
       " 'Shadow of a Doubt (1943)',\n",
       " 'Gravity (2013)',\n",
       " 'The Adventures of Robin Hood (1938)',\n",
       " 'Paddington 2 (2018)',\n",
       " 'King Kong (1933)',\n",
       " 'Boyhood (2014)',\n",
       " 'Laura (1944)',\n",
       " 'Once Upon a Time In Hollywood (2019)',\n",
       " 'Argo (2012)',\n",
       " 'Manchester by the Sea (2016)',\n",
       " 'Nosferatu, a Symphony of Horror (Nosferatu, eine Symphonie des Grauens) (Nosferatu the Vampire) (1922)',\n",
       " 'Leave No Trace (2018)',\n",
       " '12 Years a Slave (2013)',\n",
       " 'Alien (1979)',\n",
       " 'Spider-Man: Far From Home (2019)',\n",
       " 'La La Land (2016)',\n",
       " 'Incredibles 2 (2018)',\n",
       " 'Zootopia (2016)',\n",
       " 'Star Wars: Episode VII - The Force Awakens (2015)',\n",
       " 'Sunset Boulevard (1950)',\n",
       " 'Psycho (1960)',\n",
       " 'Call Me by Your Name (2018)',\n",
       " 'Metropolis (1927)',\n",
       " 'War for the Planet of the Apes (2017)',\n",
       " 'The Maltese Falcon (1941)',\n",
       " 'The Battle of Algiers (La Battaglia di Algeri) (1967)',\n",
       " 'Widows (2018)',\n",
       " \"A Hard Day's Night (1964)\",\n",
       " 'The Florida Project (2017)',\n",
       " 'Top Hat (1935)',\n",
       " 'Seven Samurai (Shichinin no Samurai) (1956)',\n",
       " 'Spider-Man: Homecoming (2017)',\n",
       " 'The Philadelphia Story (1940)',\n",
       " 'Baby Driver (2017)',\n",
       " 'M (1931)',\n",
       " 'Rebecca (1940)',\n",
       " 'North by Northwest (1959)',\n",
       " 'Shoplifters (Manbiki kazoku) (2018)',\n",
       " 'The Bride of Frankenstein (1935)',\n",
       " 'Hell or High Water (2016)',\n",
       " 'Bicycle Thieves (Ladri di biciclette) (The Bicycle Thief) (1949)',\n",
       " 'Shazam! (2019)',\n",
       " 'Up (2009)',\n",
       " 'Jaws (1975)',\n",
       " 'Toy Story 2 (1999)',\n",
       " 'Rear Window (1954)',\n",
       " 'Toy Story 3 (2010)',\n",
       " 'Three Billboards Outside Ebbing, Missouri (2017)',\n",
       " 'The Godfather, Part II (1974)',\n",
       " \"Won't You Be My Neighbor? (2018)\",\n",
       " 'Chinatown (1974)',\n",
       " 'The Lady Eve (1941)',\n",
       " 'Pinocchio (1940)',\n",
       " '12 Angry Men (Twelve Angry Men) (1957)',\n",
       " 'The Dark Knight (2008)',\n",
       " 'View All',\n",
       " 'View All']"
      ]
     },
     "metadata": {},
     "execution_count": 5
    }
   ],
   "source": [
    "lista_nombres"
   ]
  },
  {
   "cell_type": "code",
   "execution_count": 6,
   "metadata": {},
   "outputs": [
    {
     "output_type": "stream",
     "name": "stdout",
     "text": [
      "88%\n92%\n99%\n80%\n67%\n64%\n24%\n100%\n100%\n100%\n89%\n90%\n75%\n57%\n91%\n78%\n78%\n97%\n97%\n94%\n93%\n97%\n99%\n100%\n97%\n98%\n96%\n96%\n98%\n97%\n99%\n97%\n98%\n93%\n90%\n96%\n93%\n98%\n98%\n100%\n96%\n99%\n98%\n99%\n96%\n97%\n93%\n92%\n99%\n97%\n97%\n98%\n100%\n98%\n94%\n98%\n93%\n99%\n93%\n100%\n98%\n98%\n90%\n100%\n96%\n100%\n100%\n98%\n97%\n100%\n85%\n96%\n96%\n97%\n100%\n95%\n98%\n90%\n91%\n93%\n98%\n92%\n99%\n96%\n94%\n97%\n94%\n100%\n99%\n91%\n98%\n96%\n100%\n100%\n92%\n100%\n92%\n100%\n100%\n99%\n99%\n98%\n97%\n98%\n90%\n98%\n98%\n100%\n99%\n98%\n90%\n98%\n97%\n99%\n100%\n100%\n100%\n94%\n91%\n99%\n100%\n92%\n98%\n100%\n100%\n94%\n98%\n91%\n97%\n99%\n94%\n97%\n93%\n97%\n99%\n100%\n97%\n98%\n"
     ]
    }
   ],
   "source": [
    "sco = soup.find_all('span', class_=\"tMeterScore\")\n",
    "score = []\n",
    "for s in sco:\n",
    "    score.append(s.text)\n",
    "lista_score = []\n",
    "for s in score:\n",
    "    lista_score.append(s.replace(\"\\n\",\"\").strip())\n",
    "print(*lista_score, sep=\"\\n\")"
   ]
  },
  {
   "cell_type": "code",
   "execution_count": 7,
   "metadata": {},
   "outputs": [
    {
     "output_type": "execute_result",
     "data": {
      "text/plain": [
       "145"
      ]
     },
     "metadata": {},
     "execution_count": 7
    }
   ],
   "source": [
    "#Miramos que las longitudes coincidan\n",
    "\n",
    "len(lista_nombres)"
   ]
  },
  {
   "cell_type": "code",
   "execution_count": 8,
   "metadata": {},
   "outputs": [
    {
     "output_type": "execute_result",
     "data": {
      "text/plain": [
       "138"
      ]
     },
     "metadata": {},
     "execution_count": 8
    }
   ],
   "source": [
    "len(lista_score)"
   ]
  },
  {
   "cell_type": "code",
   "execution_count": 9,
   "metadata": {},
   "outputs": [],
   "source": [
    "lista_nombres = filter(lambda x: x != \"View All\", lista_nombres) \n"
   ]
  },
  {
   "cell_type": "code",
   "execution_count": 10,
   "metadata": {},
   "outputs": [],
   "source": [
    "lista_nombres = [*lista_nombres]"
   ]
  },
  {
   "cell_type": "code",
   "execution_count": 11,
   "metadata": {},
   "outputs": [
    {
     "output_type": "execute_result",
     "data": {
      "text/plain": [
       "['Black Panther (2018)',\n",
       " 'Avengers: Endgame (2019)',\n",
       " 'Us (2019)',\n",
       " 'Toy Story 4 (2019)',\n",
       " 'Lady Bird (2017)',\n",
       " 'Citizen Kane (1941)',\n",
       " 'Mission: Impossible - Fallout (2018)',\n",
       " 'The Wizard of Oz (1939)',\n",
       " 'The Irishman (2019)',\n",
       " 'BlacKkKlansman (2018)',\n",
       " 'Get Out (2017)',\n",
       " 'Mad Max: Fury Road (2015)',\n",
       " 'Casablanca (1942)',\n",
       " 'Spider-Man: Into the Spider-Verse (2018)',\n",
       " 'Moonlight (2016)',\n",
       " 'Wonder Woman (2017)',\n",
       " 'A Star Is Born (2018)',\n",
       " 'Roma (2018)',\n",
       " 'Dunkirk (2017)',\n",
       " 'Inside Out (2015)',\n",
       " 'The Farewell (2019)',\n",
       " 'Modern Times (1936)',\n",
       " 'A Quiet Place (2018)',\n",
       " 'The Third Man (1949)',\n",
       " 'It Happened One Night (1934)',\n",
       " 'Eighth Grade (2018)',\n",
       " 'Booksmart (2019)',\n",
       " 'Coco (2017)',\n",
       " 'Thor: Ragnarok (2017)',\n",
       " 'The Shape of Water (2017)',\n",
       " 'Selma (2014)',\n",
       " 'Spotlight (2015)',\n",
       " 'La Grande illusion (Grand Illusion) (1938)',\n",
       " 'The Godfather (1972)',\n",
       " \"Singin' in the Rain (1952)\",\n",
       " 'Snow White and the Seven Dwarfs (1937)',\n",
       " 'Arrival (2016)',\n",
       " 'The Cabinet of Dr. Caligari (Das Cabinet des Dr. Caligari) (1920)',\n",
       " 'Logan (2017)',\n",
       " 'All About Eve (1950)',\n",
       " 'The Favourite (2018)',\n",
       " 'The Kid (1921)',\n",
       " 'E.T. The Extra-Terrestrial (1982)',\n",
       " 'The Big Sick (2017)',\n",
       " 'Star Wars: The Last Jedi (2017)',\n",
       " 'Shadow of a Doubt (1943)',\n",
       " 'Gravity (2013)',\n",
       " 'The Adventures of Robin Hood (1938)',\n",
       " 'Paddington 2 (2018)',\n",
       " 'King Kong (1933)',\n",
       " 'Boyhood (2014)',\n",
       " 'Laura (1944)',\n",
       " 'Once Upon a Time In Hollywood (2019)',\n",
       " 'Argo (2012)',\n",
       " 'Manchester by the Sea (2016)',\n",
       " 'Nosferatu, a Symphony of Horror (Nosferatu, eine Symphonie des Grauens) (Nosferatu the Vampire) (1922)',\n",
       " 'Leave No Trace (2018)',\n",
       " '12 Years a Slave (2013)',\n",
       " 'Alien (1979)',\n",
       " 'Spider-Man: Far From Home (2019)',\n",
       " 'La La Land (2016)',\n",
       " 'Incredibles 2 (2018)',\n",
       " 'Zootopia (2016)',\n",
       " 'Star Wars: Episode VII - The Force Awakens (2015)',\n",
       " 'Sunset Boulevard (1950)',\n",
       " 'Psycho (1960)',\n",
       " 'Call Me by Your Name (2018)',\n",
       " 'Metropolis (1927)',\n",
       " 'War for the Planet of the Apes (2017)',\n",
       " 'The Maltese Falcon (1941)',\n",
       " 'The Battle of Algiers (La Battaglia di Algeri) (1967)',\n",
       " 'Widows (2018)',\n",
       " \"A Hard Day's Night (1964)\",\n",
       " 'The Florida Project (2017)',\n",
       " 'Top Hat (1935)',\n",
       " 'Seven Samurai (Shichinin no Samurai) (1956)',\n",
       " 'Spider-Man: Homecoming (2017)',\n",
       " 'The Philadelphia Story (1940)',\n",
       " 'Baby Driver (2017)',\n",
       " 'M (1931)',\n",
       " 'Rebecca (1940)',\n",
       " 'North by Northwest (1959)',\n",
       " 'Shoplifters (Manbiki kazoku) (2018)',\n",
       " 'The Bride of Frankenstein (1935)',\n",
       " 'Hell or High Water (2016)',\n",
       " 'Bicycle Thieves (Ladri di biciclette) (The Bicycle Thief) (1949)',\n",
       " 'Shazam! (2019)',\n",
       " 'Up (2009)',\n",
       " 'Jaws (1975)',\n",
       " 'Toy Story 2 (1999)',\n",
       " 'Rear Window (1954)',\n",
       " 'Toy Story 3 (2010)',\n",
       " 'Three Billboards Outside Ebbing, Missouri (2017)',\n",
       " 'The Godfather, Part II (1974)',\n",
       " \"Won't You Be My Neighbor? (2018)\",\n",
       " 'Chinatown (1974)',\n",
       " 'The Lady Eve (1941)',\n",
       " 'Pinocchio (1940)',\n",
       " '12 Angry Men (Twelve Angry Men) (1957)',\n",
       " 'The Dark Knight (2008)']"
      ]
     },
     "metadata": {},
     "execution_count": 11
    }
   ],
   "source": [
    "lista_nombres = [*filter(lambda x: \"(\" in x, lista_nombres)]\n",
    "lista_nombres"
   ]
  },
  {
   "cell_type": "code",
   "execution_count": 12,
   "metadata": {},
   "outputs": [
    {
     "output_type": "execute_result",
     "data": {
      "text/plain": [
       "100"
      ]
     },
     "metadata": {},
     "execution_count": 12
    }
   ],
   "source": [
    "len(lista_nombres)"
   ]
  },
  {
   "cell_type": "code",
   "execution_count": 13,
   "metadata": {},
   "outputs": [],
   "source": [
    "lista_score_clean = soup.find('table', class_=\"table\")\n"
   ]
  },
  {
   "cell_type": "code",
   "execution_count": 14,
   "metadata": {},
   "outputs": [],
   "source": [
    "lista_score_clean = lista_score_clean.findChildren(\"span\", class_= \"tMeterScore\")"
   ]
  },
  {
   "cell_type": "code",
   "execution_count": 15,
   "metadata": {},
   "outputs": [],
   "source": [
    "lista_score_clean = [*map(lambda x: x.text.replace(u\"\\xa0\", \"\").replace(\"%\", \"\"), lista_score_clean)]"
   ]
  },
  {
   "cell_type": "code",
   "execution_count": 16,
   "metadata": {},
   "outputs": [],
   "source": [
    "nombre_score ={x[0]:x[1] for x in zip(lista_nombres, lista_score_clean)}"
   ]
  },
  {
   "cell_type": "code",
   "execution_count": 17,
   "metadata": {},
   "outputs": [
    {
     "output_type": "stream",
     "name": "stdout",
     "text": [
      "{'Black Panther (2018)': '97', 'Avengers: Endgame (2019)': '94', 'Us (2019)': '93', 'Toy Story 4 (2019)': '97', 'Lady Bird (2017)': '99', 'Citizen Kane (1941)': '100', 'Mission: Impossible - Fallout (2018)': '97', 'The Wizard of Oz (1939)': '98', 'The Irishman (2019)': '96', 'BlacKkKlansman (2018)': '96', 'Get Out (2017)': '98', 'Mad Max: Fury Road (2015)': '97', 'Casablanca (1942)': '99', 'Spider-Man: Into the Spider-Verse (2018)': '97', 'Moonlight (2016)': '98', 'Wonder Woman (2017)': '93', 'A Star Is Born (2018)': '90', 'Roma (2018)': '96', 'Dunkirk (2017)': '93', 'Inside Out (2015)': '98', 'The Farewell (2019)': '98', 'Modern Times (1936)': '100', 'A Quiet Place (2018)': '96', 'The Third Man (1949)': '99', 'It Happened One Night (1934)': '98', 'Eighth Grade (2018)': '99', 'Booksmart (2019)': '96', 'Coco (2017)': '97', 'Thor: Ragnarok (2017)': '93', 'The Shape of Water (2017)': '92', 'Selma (2014)': '99', 'Spotlight (2015)': '97', 'La Grande illusion (Grand Illusion) (1938)': '97', 'The Godfather (1972)': '98', \"Singin' in the Rain (1952)\": '100', 'Snow White and the Seven Dwarfs (1937)': '98', 'Arrival (2016)': '94', 'The Cabinet of Dr. Caligari (Das Cabinet des Dr. Caligari) (1920)': '98', 'Logan (2017)': '93', 'All About Eve (1950)': '99', 'The Favourite (2018)': '93', 'The Kid (1921)': '100', 'E.T. The Extra-Terrestrial (1982)': '98', 'The Big Sick (2017)': '98', 'Star Wars: The Last Jedi (2017)': '90', 'Shadow of a Doubt (1943)': '100', 'Gravity (2013)': '96', 'The Adventures of Robin Hood (1938)': '100', 'Paddington 2 (2018)': '100', 'King Kong (1933)': '98', 'Boyhood (2014)': '97', 'Laura (1944)': '100', 'Once Upon a Time In Hollywood (2019)': '85', 'Argo (2012)': '96', 'Manchester by the Sea (2016)': '96', 'Nosferatu, a Symphony of Horror (Nosferatu, eine Symphonie des Grauens) (Nosferatu the Vampire) (1922)': '97', 'Leave No Trace (2018)': '100', '12 Years a Slave (2013)': '95', 'Alien (1979)': '98', 'Spider-Man: Far From Home (2019)': '90', 'La La Land (2016)': '91', 'Incredibles 2 (2018)': '93', 'Zootopia (2016)': '98', 'Star Wars: Episode VII - The Force Awakens (2015)': '92', 'Sunset Boulevard (1950)': '99', 'Psycho (1960)': '96', 'Call Me by Your Name (2018)': '94', 'Metropolis (1927)': '97', 'War for the Planet of the Apes (2017)': '94', 'The Maltese Falcon (1941)': '100', 'The Battle of Algiers (La Battaglia di Algeri) (1967)': '99', 'Widows (2018)': '91', \"A Hard Day's Night (1964)\": '98', 'The Florida Project (2017)': '96', 'Top Hat (1935)': '100', 'Seven Samurai (Shichinin no Samurai) (1956)': '100', 'Spider-Man: Homecoming (2017)': '92', 'The Philadelphia Story (1940)': '100', 'Baby Driver (2017)': '92', 'M (1931)': '100', 'Rebecca (1940)': '100', 'North by Northwest (1959)': '99', 'Shoplifters (Manbiki kazoku) (2018)': '99', 'The Bride of Frankenstein (1935)': '98', 'Hell or High Water (2016)': '97', 'Bicycle Thieves (Ladri di biciclette) (The Bicycle Thief) (1949)': '98', 'Shazam! (2019)': '90', 'Up (2009)': '98', 'Jaws (1975)': '98', 'Toy Story 2 (1999)': '100', 'Rear Window (1954)': '99', 'Toy Story 3 (2010)': '98', 'Three Billboards Outside Ebbing, Missouri (2017)': '90', 'The Godfather, Part II (1974)': '98', \"Won't You Be My Neighbor? (2018)\": '97', 'Chinatown (1974)': '99', 'The Lady Eve (1941)': '100', 'Pinocchio (1940)': '100', '12 Angry Men (Twelve Angry Men) (1957)': '100', 'The Dark Knight (2008)': '94'}\n"
     ]
    }
   ],
   "source": [
    "print(nombre_score, sep=\"\\n\")"
   ]
  },
  {
   "cell_type": "code",
   "execution_count": 18,
   "metadata": {},
   "outputs": [],
   "source": [
    "with open(\"rotto_scores.json\", \"w\") as f:\n",
    "    json.dump(nombre_score, f)"
   ]
  },
  {
   "cell_type": "code",
   "execution_count": null,
   "metadata": {},
   "outputs": [],
   "source": []
  }
 ]
}
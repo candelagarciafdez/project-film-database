{
 "metadata": {
  "language_info": {
   "codemirror_mode": {
    "name": "ipython",
    "version": 3
   },
   "file_extension": ".py",
   "mimetype": "text/x-python",
   "name": "python",
   "nbconvert_exporter": "python",
   "pygments_lexer": "ipython3",
   "version": "3.8.3-final"
  },
  "orig_nbformat": 2,
  "kernelspec": {
   "name": "python3",
   "display_name": "Python 3"
  }
 },
 "nbformat": 4,
 "nbformat_minor": 2,
 "cells": [
  {
   "source": [
    "## Dataset público básico obtenido de IMDb "
   ],
   "cell_type": "markdown",
   "metadata": {}
  },
  {
   "cell_type": "code",
   "execution_count": 81,
   "metadata": {},
   "outputs": [],
   "source": [
    "import pandas as pd \n",
    "import itertools\n",
    "import json\n"
   ]
  },
  {
   "cell_type": "code",
   "execution_count": 2,
   "metadata": {},
   "outputs": [],
   "source": [
    "df = pd.read_csv(\"data.tsv\", delimiter='\\t')"
   ]
  },
  {
   "cell_type": "code",
   "execution_count": 3,
   "metadata": {},
   "outputs": [
    {
     "output_type": "execute_result",
     "data": {
      "text/plain": [
       "            tconst  titleType               primaryTitle  \\\n",
       "0        tt0000001      short                 Carmencita   \n",
       "1        tt0000002      short     Le clown et ses chiens   \n",
       "2        tt0000003      short             Pauvre Pierrot   \n",
       "3        tt0000004      short                Un bon bock   \n",
       "4        tt0000005      short           Blacksmith Scene   \n",
       "...            ...        ...                        ...   \n",
       "7316917  tt9916848  tvEpisode              Episode #3.17   \n",
       "7316918  tt9916850  tvEpisode              Episode #3.19   \n",
       "7316919  tt9916852  tvEpisode              Episode #3.20   \n",
       "7316920  tt9916856      short                   The Wind   \n",
       "7316921  tt9916880  tvEpisode  Horrid Henry Knows It All   \n",
       "\n",
       "                     originalTitle  isAdult startYear endYear runtimeMinutes  \\\n",
       "0                       Carmencita        0      1894      \\N              1   \n",
       "1           Le clown et ses chiens        0      1892      \\N              5   \n",
       "2                   Pauvre Pierrot        0      1892      \\N              4   \n",
       "3                      Un bon bock        0      1892      \\N             12   \n",
       "4                 Blacksmith Scene        0      1893      \\N              1   \n",
       "...                            ...      ...       ...     ...            ...   \n",
       "7316917              Episode #3.17        0      2010      \\N             \\N   \n",
       "7316918              Episode #3.19        0      2010      \\N             \\N   \n",
       "7316919              Episode #3.20        0      2010      \\N             \\N   \n",
       "7316920                   The Wind        0      2015      \\N             27   \n",
       "7316921  Horrid Henry Knows It All        0      2014      \\N             10   \n",
       "\n",
       "                           genres  \n",
       "0               Documentary,Short  \n",
       "1                 Animation,Short  \n",
       "2        Animation,Comedy,Romance  \n",
       "3                 Animation,Short  \n",
       "4                    Comedy,Short  \n",
       "...                           ...  \n",
       "7316917       Action,Drama,Family  \n",
       "7316918       Action,Drama,Family  \n",
       "7316919       Action,Drama,Family  \n",
       "7316920                     Short  \n",
       "7316921   Animation,Comedy,Family  \n",
       "\n",
       "[7316922 rows x 9 columns]"
      ],
      "text/html": "<div>\n<style scoped>\n    .dataframe tbody tr th:only-of-type {\n        vertical-align: middle;\n    }\n\n    .dataframe tbody tr th {\n        vertical-align: top;\n    }\n\n    .dataframe thead th {\n        text-align: right;\n    }\n</style>\n<table border=\"1\" class=\"dataframe\">\n  <thead>\n    <tr style=\"text-align: right;\">\n      <th></th>\n      <th>tconst</th>\n      <th>titleType</th>\n      <th>primaryTitle</th>\n      <th>originalTitle</th>\n      <th>isAdult</th>\n      <th>startYear</th>\n      <th>endYear</th>\n      <th>runtimeMinutes</th>\n      <th>genres</th>\n    </tr>\n  </thead>\n  <tbody>\n    <tr>\n      <th>0</th>\n      <td>tt0000001</td>\n      <td>short</td>\n      <td>Carmencita</td>\n      <td>Carmencita</td>\n      <td>0</td>\n      <td>1894</td>\n      <td>\\N</td>\n      <td>1</td>\n      <td>Documentary,Short</td>\n    </tr>\n    <tr>\n      <th>1</th>\n      <td>tt0000002</td>\n      <td>short</td>\n      <td>Le clown et ses chiens</td>\n      <td>Le clown et ses chiens</td>\n      <td>0</td>\n      <td>1892</td>\n      <td>\\N</td>\n      <td>5</td>\n      <td>Animation,Short</td>\n    </tr>\n    <tr>\n      <th>2</th>\n      <td>tt0000003</td>\n      <td>short</td>\n      <td>Pauvre Pierrot</td>\n      <td>Pauvre Pierrot</td>\n      <td>0</td>\n      <td>1892</td>\n      <td>\\N</td>\n      <td>4</td>\n      <td>Animation,Comedy,Romance</td>\n    </tr>\n    <tr>\n      <th>3</th>\n      <td>tt0000004</td>\n      <td>short</td>\n      <td>Un bon bock</td>\n      <td>Un bon bock</td>\n      <td>0</td>\n      <td>1892</td>\n      <td>\\N</td>\n      <td>12</td>\n      <td>Animation,Short</td>\n    </tr>\n    <tr>\n      <th>4</th>\n      <td>tt0000005</td>\n      <td>short</td>\n      <td>Blacksmith Scene</td>\n      <td>Blacksmith Scene</td>\n      <td>0</td>\n      <td>1893</td>\n      <td>\\N</td>\n      <td>1</td>\n      <td>Comedy,Short</td>\n    </tr>\n    <tr>\n      <th>...</th>\n      <td>...</td>\n      <td>...</td>\n      <td>...</td>\n      <td>...</td>\n      <td>...</td>\n      <td>...</td>\n      <td>...</td>\n      <td>...</td>\n      <td>...</td>\n    </tr>\n    <tr>\n      <th>7316917</th>\n      <td>tt9916848</td>\n      <td>tvEpisode</td>\n      <td>Episode #3.17</td>\n      <td>Episode #3.17</td>\n      <td>0</td>\n      <td>2010</td>\n      <td>\\N</td>\n      <td>\\N</td>\n      <td>Action,Drama,Family</td>\n    </tr>\n    <tr>\n      <th>7316918</th>\n      <td>tt9916850</td>\n      <td>tvEpisode</td>\n      <td>Episode #3.19</td>\n      <td>Episode #3.19</td>\n      <td>0</td>\n      <td>2010</td>\n      <td>\\N</td>\n      <td>\\N</td>\n      <td>Action,Drama,Family</td>\n    </tr>\n    <tr>\n      <th>7316919</th>\n      <td>tt9916852</td>\n      <td>tvEpisode</td>\n      <td>Episode #3.20</td>\n      <td>Episode #3.20</td>\n      <td>0</td>\n      <td>2010</td>\n      <td>\\N</td>\n      <td>\\N</td>\n      <td>Action,Drama,Family</td>\n    </tr>\n    <tr>\n      <th>7316920</th>\n      <td>tt9916856</td>\n      <td>short</td>\n      <td>The Wind</td>\n      <td>The Wind</td>\n      <td>0</td>\n      <td>2015</td>\n      <td>\\N</td>\n      <td>27</td>\n      <td>Short</td>\n    </tr>\n    <tr>\n      <th>7316921</th>\n      <td>tt9916880</td>\n      <td>tvEpisode</td>\n      <td>Horrid Henry Knows It All</td>\n      <td>Horrid Henry Knows It All</td>\n      <td>0</td>\n      <td>2014</td>\n      <td>\\N</td>\n      <td>10</td>\n      <td>Animation,Comedy,Family</td>\n    </tr>\n  </tbody>\n</table>\n<p>7316922 rows × 9 columns</p>\n</div>"
     },
     "metadata": {},
     "execution_count": 3
    }
   ],
   "source": [
    "df"
   ]
  },
  {
   "source": [
    "### Al comprobar los faltantes, se ve que hay 9 faltantes en primaryTitle, 9 en originalTitle y 9 en genres"
   ],
   "cell_type": "markdown",
   "metadata": {}
  },
  {
   "cell_type": "code",
   "execution_count": 3,
   "metadata": {},
   "outputs": [
    {
     "output_type": "execute_result",
     "data": {
      "text/plain": [
       "tconst            0\n",
       "titleType         0\n",
       "primaryTitle      9\n",
       "originalTitle     9\n",
       "isAdult           0\n",
       "startYear         0\n",
       "endYear           0\n",
       "runtimeMinutes    0\n",
       "genres            9\n",
       "dtype: int64"
      ]
     },
     "metadata": {},
     "execution_count": 3
    }
   ],
   "source": [
    "df.isnull().sum(axis=0)"
   ]
  },
  {
   "cell_type": "code",
   "execution_count": 4,
   "metadata": {},
   "outputs": [
    {
     "output_type": "stream",
     "name": "stdout",
     "text": [
      "Index(['tconst', 'titleType', 'primaryTitle', 'originalTitle', 'isAdult',\n       'startYear', 'endYear', 'runtimeMinutes', 'genres'],\n      dtype='object')\n"
     ]
    }
   ],
   "source": [
    "print(df.columns)"
   ]
  },
  {
   "cell_type": "code",
   "execution_count": 5,
   "metadata": {},
   "outputs": [
    {
     "output_type": "execute_result",
     "data": {
      "text/plain": [
       "(7316922, 9)"
      ]
     },
     "metadata": {},
     "execution_count": 5
    }
   ],
   "source": [
    "df.shape"
   ]
  },
  {
   "cell_type": "code",
   "execution_count": 6,
   "metadata": {},
   "outputs": [
    {
     "output_type": "execute_result",
     "data": {
      "text/plain": [
       "array(['short', 'movie', 'tvShort', 'tvMovie', 'tvSeries', 'tvEpisode',\n",
       "       'tvMiniSeries', 'tvSpecial', 'video', 'videoGame'], dtype=object)"
      ]
     },
     "metadata": {},
     "execution_count": 6
    }
   ],
   "source": [
    "#Primero comprobamos los diferentes tipos de películas que aparecen\n",
    "df[\"titleType\"].unique()\n",
    " "
   ]
  },
  {
   "cell_type": "code",
   "execution_count": 7,
   "metadata": {},
   "outputs": [
    {
     "output_type": "execute_result",
     "data": {
      "text/plain": [
       "(558057, 9)"
      ]
     },
     "metadata": {},
     "execution_count": 7
    }
   ],
   "source": [
    "#Elimino todo aquello que no esté categorizado como \"movie\" y comprobamos el nuevo tamaño del dataframe\n",
    "df = df.drop(df[df[\"titleType\"]!= \"movie\"].index)\n",
    "df.shape"
   ]
  },
  {
   "cell_type": "code",
   "execution_count": 8,
   "metadata": {},
   "outputs": [
    {
     "output_type": "execute_result",
     "data": {
      "text/plain": [
       "tconst            object\n",
       "titleType         object\n",
       "primaryTitle      object\n",
       "originalTitle     object\n",
       "isAdult            int64\n",
       "startYear         object\n",
       "endYear           object\n",
       "runtimeMinutes    object\n",
       "genres            object\n",
       "dtype: object"
      ]
     },
     "metadata": {},
     "execution_count": 8
    }
   ],
   "source": [
    "#Comprobamos los tipos de datos que tenemos en el dataframe\n",
    "df.dtypes\n"
   ]
  },
  {
   "cell_type": "code",
   "execution_count": 9,
   "metadata": {},
   "outputs": [
    {
     "output_type": "execute_result",
     "data": {
      "text/plain": [
       "            tconst titleType              primaryTitle  \\\n",
       "70393    tt0071844     movie  Till Marriage Do Us Part   \n",
       "109178   tt0111597     movie           The Veiled Hope   \n",
       "115876   tt0118530     movie                        18   \n",
       "118070   tt0120892     movie             Winding Stair   \n",
       "118208   tt0121062     movie      Alexandru Lapusneanu   \n",
       "...            ...       ...                       ...   \n",
       "7316596  tt9916178     movie        Yesterday's Dreams   \n",
       "7316600  tt9916188     movie                  Minotaur   \n",
       "7316601  tt9916190     movie                 Safeguard   \n",
       "7316640  tt9916270     movie  Il talento del calabrone   \n",
       "7316810  tt9916620     movie         The Copeland Case   \n",
       "\n",
       "                               originalTitle  isAdult startYear endYear  \\\n",
       "70393    Mio Dio, come sono caduta in basso!        0        \\N      \\N   \n",
       "109178                       The Veiled Hope        0        \\N      \\N   \n",
       "115876                                    18        0        \\N      \\N   \n",
       "118070                         Winding Stair        0        \\N      \\N   \n",
       "118208                  Alexandru Lapusneanu        0        \\N      \\N   \n",
       "...                                      ...      ...       ...     ...   \n",
       "7316596                   Yesterday's Dreams        0        \\N      \\N   \n",
       "7316600                             Minotaur        0        \\N      \\N   \n",
       "7316601                            Safeguard        0        \\N      \\N   \n",
       "7316640             Il talento del calabrone        0        \\N      \\N   \n",
       "7316810                    The Copeland Case        0        \\N      \\N   \n",
       "\n",
       "        runtimeMinutes                     genres  \n",
       "70393              110                     Comedy  \n",
       "109178              52                Documentary  \n",
       "115876              \\N                    Romance  \n",
       "118070              \\N                   Thriller  \n",
       "118208              \\N                    History  \n",
       "...                ...                        ...  \n",
       "7316596             \\N                         \\N  \n",
       "7316600             \\N                   Thriller  \n",
       "7316601             90  Action,Adventure,Thriller  \n",
       "7316640             84                   Thriller  \n",
       "7316810             \\N                      Drama  \n",
       "\n",
       "[66708 rows x 9 columns]"
      ],
      "text/html": "<div>\n<style scoped>\n    .dataframe tbody tr th:only-of-type {\n        vertical-align: middle;\n    }\n\n    .dataframe tbody tr th {\n        vertical-align: top;\n    }\n\n    .dataframe thead th {\n        text-align: right;\n    }\n</style>\n<table border=\"1\" class=\"dataframe\">\n  <thead>\n    <tr style=\"text-align: right;\">\n      <th></th>\n      <th>tconst</th>\n      <th>titleType</th>\n      <th>primaryTitle</th>\n      <th>originalTitle</th>\n      <th>isAdult</th>\n      <th>startYear</th>\n      <th>endYear</th>\n      <th>runtimeMinutes</th>\n      <th>genres</th>\n    </tr>\n  </thead>\n  <tbody>\n    <tr>\n      <th>70393</th>\n      <td>tt0071844</td>\n      <td>movie</td>\n      <td>Till Marriage Do Us Part</td>\n      <td>Mio Dio, come sono caduta in basso!</td>\n      <td>0</td>\n      <td>\\N</td>\n      <td>\\N</td>\n      <td>110</td>\n      <td>Comedy</td>\n    </tr>\n    <tr>\n      <th>109178</th>\n      <td>tt0111597</td>\n      <td>movie</td>\n      <td>The Veiled Hope</td>\n      <td>The Veiled Hope</td>\n      <td>0</td>\n      <td>\\N</td>\n      <td>\\N</td>\n      <td>52</td>\n      <td>Documentary</td>\n    </tr>\n    <tr>\n      <th>115876</th>\n      <td>tt0118530</td>\n      <td>movie</td>\n      <td>18</td>\n      <td>18</td>\n      <td>0</td>\n      <td>\\N</td>\n      <td>\\N</td>\n      <td>\\N</td>\n      <td>Romance</td>\n    </tr>\n    <tr>\n      <th>118070</th>\n      <td>tt0120892</td>\n      <td>movie</td>\n      <td>Winding Stair</td>\n      <td>Winding Stair</td>\n      <td>0</td>\n      <td>\\N</td>\n      <td>\\N</td>\n      <td>\\N</td>\n      <td>Thriller</td>\n    </tr>\n    <tr>\n      <th>118208</th>\n      <td>tt0121062</td>\n      <td>movie</td>\n      <td>Alexandru Lapusneanu</td>\n      <td>Alexandru Lapusneanu</td>\n      <td>0</td>\n      <td>\\N</td>\n      <td>\\N</td>\n      <td>\\N</td>\n      <td>History</td>\n    </tr>\n    <tr>\n      <th>...</th>\n      <td>...</td>\n      <td>...</td>\n      <td>...</td>\n      <td>...</td>\n      <td>...</td>\n      <td>...</td>\n      <td>...</td>\n      <td>...</td>\n      <td>...</td>\n    </tr>\n    <tr>\n      <th>7316596</th>\n      <td>tt9916178</td>\n      <td>movie</td>\n      <td>Yesterday's Dreams</td>\n      <td>Yesterday's Dreams</td>\n      <td>0</td>\n      <td>\\N</td>\n      <td>\\N</td>\n      <td>\\N</td>\n      <td>\\N</td>\n    </tr>\n    <tr>\n      <th>7316600</th>\n      <td>tt9916188</td>\n      <td>movie</td>\n      <td>Minotaur</td>\n      <td>Minotaur</td>\n      <td>0</td>\n      <td>\\N</td>\n      <td>\\N</td>\n      <td>\\N</td>\n      <td>Thriller</td>\n    </tr>\n    <tr>\n      <th>7316601</th>\n      <td>tt9916190</td>\n      <td>movie</td>\n      <td>Safeguard</td>\n      <td>Safeguard</td>\n      <td>0</td>\n      <td>\\N</td>\n      <td>\\N</td>\n      <td>90</td>\n      <td>Action,Adventure,Thriller</td>\n    </tr>\n    <tr>\n      <th>7316640</th>\n      <td>tt9916270</td>\n      <td>movie</td>\n      <td>Il talento del calabrone</td>\n      <td>Il talento del calabrone</td>\n      <td>0</td>\n      <td>\\N</td>\n      <td>\\N</td>\n      <td>84</td>\n      <td>Thriller</td>\n    </tr>\n    <tr>\n      <th>7316810</th>\n      <td>tt9916620</td>\n      <td>movie</td>\n      <td>The Copeland Case</td>\n      <td>The Copeland Case</td>\n      <td>0</td>\n      <td>\\N</td>\n      <td>\\N</td>\n      <td>\\N</td>\n      <td>Drama</td>\n    </tr>\n  </tbody>\n</table>\n<p>66708 rows × 9 columns</p>\n</div>"
     },
     "metadata": {},
     "execution_count": 9
    }
   ],
   "source": [
    "#En startYear aparecen valores nulos como N, así que eliminamos esas filas para las películas que no están fechadas\n",
    "df[df[\"startYear\"] == \"\\\\N\"]"
   ]
  },
  {
   "cell_type": "code",
   "execution_count": 10,
   "metadata": {},
   "outputs": [],
   "source": [
    "df = df.drop(df[df[\"startYear\"]== \"\\\\N\"].index)\n",
    "#Dropeamos las celdas donde el año es nulo\n"
   ]
  },
  {
   "cell_type": "code",
   "execution_count": 11,
   "metadata": {},
   "outputs": [
    {
     "output_type": "execute_result",
     "data": {
      "text/plain": [
       "(491349, 9)"
      ]
     },
     "metadata": {},
     "execution_count": 11
    }
   ],
   "source": [
    "df.shape"
   ]
  },
  {
   "cell_type": "code",
   "execution_count": 12,
   "metadata": {},
   "outputs": [],
   "source": [
    "#Convertimos el año a un entero\n",
    "df.startYear = df.startYear.astype(int)\n"
   ]
  },
  {
   "cell_type": "code",
   "execution_count": 13,
   "metadata": {},
   "outputs": [
    {
     "output_type": "stream",
     "name": "stdout",
     "text": [
      "(346660, 7)\n         tconst                    primaryTitle  \\\n8     tt0000009                      Miss Jerry   \n498   tt0000502                        Bohemios   \n570   tt0000574     The Story of the Kelly Gang   \n672   tt0000679  The Fairylogue and Radio-Plays   \n1172  tt0001184         Don Juan de Serrallonga   \n\n                       originalTitle  isAdult  startYear runtimeMinutes  \\\n8                         Miss Jerry        0       1894             45   \n498                         Bohemios        0       1905            100   \n570      The Story of the Kelly Gang        0       1906             70   \n672   The Fairylogue and Radio-Plays        0       1908            120   \n1172         Don Juan de Serrallonga        0       1910             58   \n\n                     genres  \n8                   Romance  \n498                      \\N  \n570   Biography,Crime,Drama  \n672       Adventure,Fantasy  \n1172        Adventure,Drama  \n"
     ]
    }
   ],
   "source": [
    " #No nos interesan ni el año de finalización dela emisión (ya que las películas no tienen), ni el tipo de título (todos son \"movies\"). Así que eliminamos esas columnas. Además, eliminamos las celdas donde runtime es nulo, ya que nos interesa saber si las películas mejor puntuadas tendrán una duración en un rango determinado (ni muy largas ni muy cortas). \n",
    " \n",
    " df = df.drop(columns=[\"endYear\", \"titleType\"])\n",
    " df.shape\n",
    " sum(df[\"runtimeMinutes\"] != \"\\\\N\")\n",
    " df = df.drop(df[df[\"runtimeMinutes\"]== \"\\\\N\"].index)\n",
    " print(df.shape)\n",
    " print(df.head())"
   ]
  },
  {
   "cell_type": "code",
   "execution_count": 14,
   "metadata": {},
   "outputs": [
    {
     "output_type": "stream",
     "name": "stdout",
     "text": [
      "(323669, 7)\n"
     ]
    },
    {
     "output_type": "execute_result",
     "data": {
      "text/plain": [
       "         tconst                    primaryTitle  \\\n",
       "8     tt0000009                      Miss Jerry   \n",
       "570   tt0000574     The Story of the Kelly Gang   \n",
       "672   tt0000679  The Fairylogue and Radio-Plays   \n",
       "1172  tt0001184         Don Juan de Serrallonga   \n",
       "1246  tt0001258           The White Slave Trade   \n",
       "\n",
       "                       originalTitle  isAdult  startYear runtimeMinutes  \\\n",
       "8                         Miss Jerry        0       1894             45   \n",
       "570      The Story of the Kelly Gang        0       1906             70   \n",
       "672   The Fairylogue and Radio-Plays        0       1908            120   \n",
       "1172         Don Juan de Serrallonga        0       1910             58   \n",
       "1246           Den hvide slavehandel        0       1910             45   \n",
       "\n",
       "                     genres  \n",
       "8                   Romance  \n",
       "570   Biography,Crime,Drama  \n",
       "672       Adventure,Fantasy  \n",
       "1172        Adventure,Drama  \n",
       "1246                  Drama  "
      ],
      "text/html": "<div>\n<style scoped>\n    .dataframe tbody tr th:only-of-type {\n        vertical-align: middle;\n    }\n\n    .dataframe tbody tr th {\n        vertical-align: top;\n    }\n\n    .dataframe thead th {\n        text-align: right;\n    }\n</style>\n<table border=\"1\" class=\"dataframe\">\n  <thead>\n    <tr style=\"text-align: right;\">\n      <th></th>\n      <th>tconst</th>\n      <th>primaryTitle</th>\n      <th>originalTitle</th>\n      <th>isAdult</th>\n      <th>startYear</th>\n      <th>runtimeMinutes</th>\n      <th>genres</th>\n    </tr>\n  </thead>\n  <tbody>\n    <tr>\n      <th>8</th>\n      <td>tt0000009</td>\n      <td>Miss Jerry</td>\n      <td>Miss Jerry</td>\n      <td>0</td>\n      <td>1894</td>\n      <td>45</td>\n      <td>Romance</td>\n    </tr>\n    <tr>\n      <th>570</th>\n      <td>tt0000574</td>\n      <td>The Story of the Kelly Gang</td>\n      <td>The Story of the Kelly Gang</td>\n      <td>0</td>\n      <td>1906</td>\n      <td>70</td>\n      <td>Biography,Crime,Drama</td>\n    </tr>\n    <tr>\n      <th>672</th>\n      <td>tt0000679</td>\n      <td>The Fairylogue and Radio-Plays</td>\n      <td>The Fairylogue and Radio-Plays</td>\n      <td>0</td>\n      <td>1908</td>\n      <td>120</td>\n      <td>Adventure,Fantasy</td>\n    </tr>\n    <tr>\n      <th>1172</th>\n      <td>tt0001184</td>\n      <td>Don Juan de Serrallonga</td>\n      <td>Don Juan de Serrallonga</td>\n      <td>0</td>\n      <td>1910</td>\n      <td>58</td>\n      <td>Adventure,Drama</td>\n    </tr>\n    <tr>\n      <th>1246</th>\n      <td>tt0001258</td>\n      <td>The White Slave Trade</td>\n      <td>Den hvide slavehandel</td>\n      <td>0</td>\n      <td>1910</td>\n      <td>45</td>\n      <td>Drama</td>\n    </tr>\n  </tbody>\n</table>\n</div>"
     },
     "metadata": {},
     "execution_count": 14
    }
   ],
   "source": [
    "#Como el género de la película es una de las cosas que más nos conviene tener controlada, dropeamos las celdas que tiene el género como nulo\n",
    "df = df.drop(df[df[\"genres\"]== \"\\\\N\"].index)\n",
    "print(df.shape)\n",
    "df.head()\n"
   ]
  },
  {
   "cell_type": "code",
   "execution_count": 15,
   "metadata": {},
   "outputs": [
    {
     "output_type": "execute_result",
     "data": {
      "text/plain": [
       "array(['Romance', 'Biography,Crime,Drama', 'Adventure,Fantasy', ...,\n",
       "       'History,Reality-TV,War', 'Mystery,Reality-TV,Thriller',\n",
       "       'Music,Musical,Reality-TV'], dtype=object)"
      ]
     },
     "metadata": {},
     "execution_count": 15
    }
   ],
   "source": [
    "df[\"genres\"].unique()\n",
    "#print(df[\"genres\"].nunique())\n",
    "\n",
    "# Hay 1348 géneros distintos\n"
   ]
  },
  {
   "cell_type": "code",
   "execution_count": 16,
   "metadata": {},
   "outputs": [
    {
     "output_type": "execute_result",
     "data": {
      "text/plain": [
       "'Biography,Crime,Drama'"
      ]
     },
     "metadata": {},
     "execution_count": 16
    }
   ],
   "source": [
    "#Como podemos observar en algunas películas, el género en algunas ocasiones es una lista compuesta por varios géneros. Por ejemplo:\n",
    "\n",
    "df.loc[570].genres"
   ]
  },
  {
   "cell_type": "code",
   "execution_count": 17,
   "metadata": {},
   "outputs": [],
   "source": [
    "#Esto lo resolvemos de la siguiente forma:\n",
    "df[\"genres\"] = df[\"genres\"].str.split(\",\")\n",
    "set(itertools.chain.from_iterable(df[\"genres\"]))\n",
    "all_genres = set(itertools.chain.from_iterable(df[\"genres\"]))"
   ]
  },
  {
   "cell_type": "code",
   "execution_count": 18,
   "metadata": {},
   "outputs": [
    {
     "output_type": "execute_result",
     "data": {
      "text/plain": [
       "{'Action',\n",
       " 'Adult',\n",
       " 'Adventure',\n",
       " 'Animation',\n",
       " 'Biography',\n",
       " 'Comedy',\n",
       " 'Crime',\n",
       " 'Documentary',\n",
       " 'Drama',\n",
       " 'Family',\n",
       " 'Fantasy',\n",
       " 'Film-Noir',\n",
       " 'Game-Show',\n",
       " 'History',\n",
       " 'Horror',\n",
       " 'Music',\n",
       " 'Musical',\n",
       " 'Mystery',\n",
       " 'News',\n",
       " 'Reality-TV',\n",
       " 'Romance',\n",
       " 'Sci-Fi',\n",
       " 'Short',\n",
       " 'Sport',\n",
       " 'Talk-Show',\n",
       " 'Thriller',\n",
       " 'War',\n",
       " 'Western'}"
      ]
     },
     "metadata": {},
     "execution_count": 18
    }
   ],
   "source": [
    "all_genres"
   ]
  },
  {
   "cell_type": "code",
   "execution_count": 19,
   "metadata": {},
   "outputs": [],
   "source": [
    "for genre in all_genres:\n",
    "    df[genre] = df.genres.apply(lambda x : True if genre in x else False)"
   ]
  },
  {
   "cell_type": "code",
   "execution_count": 20,
   "metadata": {},
   "outputs": [
    {
     "output_type": "execute_result",
     "data": {
      "text/plain": [
       "            tconst                                       primaryTitle  \\\n",
       "8        tt0000009                                         Miss Jerry   \n",
       "570      tt0000574                        The Story of the Kelly Gang   \n",
       "672      tt0000679                     The Fairylogue and Radio-Plays   \n",
       "1172     tt0001184                            Don Juan de Serrallonga   \n",
       "1246     tt0001258                              The White Slave Trade   \n",
       "...            ...                                                ...   \n",
       "7316685  tt9916362                                              Coven   \n",
       "7316770  tt9916538                                Kuambil Lagi Hatiku   \n",
       "7316811  tt9916622        Rodolpho Teóphilo - O Legado de um Pioneiro   \n",
       "7316838  tt9916680  De la ilusión al desconcierto: cine colombiano...   \n",
       "7316872  tt9916754                     Chico Albuquerque - Revelações   \n",
       "\n",
       "                                             originalTitle  isAdult  \\\n",
       "8                                               Miss Jerry        0   \n",
       "570                            The Story of the Kelly Gang        0   \n",
       "672                         The Fairylogue and Radio-Plays        0   \n",
       "1172                               Don Juan de Serrallonga        0   \n",
       "1246                                 Den hvide slavehandel        0   \n",
       "...                                                    ...      ...   \n",
       "7316685                                           Akelarre        0   \n",
       "7316770                                Kuambil Lagi Hatiku        0   \n",
       "7316811        Rodolpho Teóphilo - O Legado de um Pioneiro        0   \n",
       "7316838  De la ilusión al desconcierto: cine colombiano...        0   \n",
       "7316872                     Chico Albuquerque - Revelações        0   \n",
       "\n",
       "         startYear runtimeMinutes                     genres  Action  \\\n",
       "8             1894             45                  [Romance]   False   \n",
       "570           1906             70  [Biography, Crime, Drama]   False   \n",
       "672           1908            120       [Adventure, Fantasy]   False   \n",
       "1172          1910             58         [Adventure, Drama]   False   \n",
       "1246          1910             45                    [Drama]   False   \n",
       "...            ...            ...                        ...     ...   \n",
       "7316685       2020             90   [Drama, History, Horror]   False   \n",
       "7316770       2019            123                    [Drama]   False   \n",
       "7316811       2015             57              [Documentary]   False   \n",
       "7316838       2007            100              [Documentary]   False   \n",
       "7316872       2013             49              [Documentary]   False   \n",
       "\n",
       "         Game-Show  Romance  ...  Comedy  Music  Musical  Family  Adult  \\\n",
       "8            False     True  ...   False  False    False   False  False   \n",
       "570          False    False  ...   False  False    False   False  False   \n",
       "672          False    False  ...   False  False    False   False  False   \n",
       "1172         False    False  ...   False  False    False   False  False   \n",
       "1246         False    False  ...   False  False    False   False  False   \n",
       "...            ...      ...  ...     ...    ...      ...     ...    ...   \n",
       "7316685      False    False  ...   False  False    False   False  False   \n",
       "7316770      False    False  ...   False  False    False   False  False   \n",
       "7316811      False    False  ...   False  False    False   False  False   \n",
       "7316838      False    False  ...   False  False    False   False  False   \n",
       "7316872      False    False  ...   False  False    False   False  False   \n",
       "\n",
       "         Crime  Mystery    War  Film-Noir  Sci-Fi  \n",
       "8        False    False  False      False   False  \n",
       "570       True    False  False      False   False  \n",
       "672      False    False  False      False   False  \n",
       "1172     False    False  False      False   False  \n",
       "1246     False    False  False      False   False  \n",
       "...        ...      ...    ...        ...     ...  \n",
       "7316685  False    False  False      False   False  \n",
       "7316770  False    False  False      False   False  \n",
       "7316811  False    False  False      False   False  \n",
       "7316838  False    False  False      False   False  \n",
       "7316872  False    False  False      False   False  \n",
       "\n",
       "[323669 rows x 35 columns]"
      ],
      "text/html": "<div>\n<style scoped>\n    .dataframe tbody tr th:only-of-type {\n        vertical-align: middle;\n    }\n\n    .dataframe tbody tr th {\n        vertical-align: top;\n    }\n\n    .dataframe thead th {\n        text-align: right;\n    }\n</style>\n<table border=\"1\" class=\"dataframe\">\n  <thead>\n    <tr style=\"text-align: right;\">\n      <th></th>\n      <th>tconst</th>\n      <th>primaryTitle</th>\n      <th>originalTitle</th>\n      <th>isAdult</th>\n      <th>startYear</th>\n      <th>runtimeMinutes</th>\n      <th>genres</th>\n      <th>Action</th>\n      <th>Game-Show</th>\n      <th>Romance</th>\n      <th>...</th>\n      <th>Comedy</th>\n      <th>Music</th>\n      <th>Musical</th>\n      <th>Family</th>\n      <th>Adult</th>\n      <th>Crime</th>\n      <th>Mystery</th>\n      <th>War</th>\n      <th>Film-Noir</th>\n      <th>Sci-Fi</th>\n    </tr>\n  </thead>\n  <tbody>\n    <tr>\n      <th>8</th>\n      <td>tt0000009</td>\n      <td>Miss Jerry</td>\n      <td>Miss Jerry</td>\n      <td>0</td>\n      <td>1894</td>\n      <td>45</td>\n      <td>[Romance]</td>\n      <td>False</td>\n      <td>False</td>\n      <td>True</td>\n      <td>...</td>\n      <td>False</td>\n      <td>False</td>\n      <td>False</td>\n      <td>False</td>\n      <td>False</td>\n      <td>False</td>\n      <td>False</td>\n      <td>False</td>\n      <td>False</td>\n      <td>False</td>\n    </tr>\n    <tr>\n      <th>570</th>\n      <td>tt0000574</td>\n      <td>The Story of the Kelly Gang</td>\n      <td>The Story of the Kelly Gang</td>\n      <td>0</td>\n      <td>1906</td>\n      <td>70</td>\n      <td>[Biography, Crime, Drama]</td>\n      <td>False</td>\n      <td>False</td>\n      <td>False</td>\n      <td>...</td>\n      <td>False</td>\n      <td>False</td>\n      <td>False</td>\n      <td>False</td>\n      <td>False</td>\n      <td>True</td>\n      <td>False</td>\n      <td>False</td>\n      <td>False</td>\n      <td>False</td>\n    </tr>\n    <tr>\n      <th>672</th>\n      <td>tt0000679</td>\n      <td>The Fairylogue and Radio-Plays</td>\n      <td>The Fairylogue and Radio-Plays</td>\n      <td>0</td>\n      <td>1908</td>\n      <td>120</td>\n      <td>[Adventure, Fantasy]</td>\n      <td>False</td>\n      <td>False</td>\n      <td>False</td>\n      <td>...</td>\n      <td>False</td>\n      <td>False</td>\n      <td>False</td>\n      <td>False</td>\n      <td>False</td>\n      <td>False</td>\n      <td>False</td>\n      <td>False</td>\n      <td>False</td>\n      <td>False</td>\n    </tr>\n    <tr>\n      <th>1172</th>\n      <td>tt0001184</td>\n      <td>Don Juan de Serrallonga</td>\n      <td>Don Juan de Serrallonga</td>\n      <td>0</td>\n      <td>1910</td>\n      <td>58</td>\n      <td>[Adventure, Drama]</td>\n      <td>False</td>\n      <td>False</td>\n      <td>False</td>\n      <td>...</td>\n      <td>False</td>\n      <td>False</td>\n      <td>False</td>\n      <td>False</td>\n      <td>False</td>\n      <td>False</td>\n      <td>False</td>\n      <td>False</td>\n      <td>False</td>\n      <td>False</td>\n    </tr>\n    <tr>\n      <th>1246</th>\n      <td>tt0001258</td>\n      <td>The White Slave Trade</td>\n      <td>Den hvide slavehandel</td>\n      <td>0</td>\n      <td>1910</td>\n      <td>45</td>\n      <td>[Drama]</td>\n      <td>False</td>\n      <td>False</td>\n      <td>False</td>\n      <td>...</td>\n      <td>False</td>\n      <td>False</td>\n      <td>False</td>\n      <td>False</td>\n      <td>False</td>\n      <td>False</td>\n      <td>False</td>\n      <td>False</td>\n      <td>False</td>\n      <td>False</td>\n    </tr>\n    <tr>\n      <th>...</th>\n      <td>...</td>\n      <td>...</td>\n      <td>...</td>\n      <td>...</td>\n      <td>...</td>\n      <td>...</td>\n      <td>...</td>\n      <td>...</td>\n      <td>...</td>\n      <td>...</td>\n      <td>...</td>\n      <td>...</td>\n      <td>...</td>\n      <td>...</td>\n      <td>...</td>\n      <td>...</td>\n      <td>...</td>\n      <td>...</td>\n      <td>...</td>\n      <td>...</td>\n      <td>...</td>\n    </tr>\n    <tr>\n      <th>7316685</th>\n      <td>tt9916362</td>\n      <td>Coven</td>\n      <td>Akelarre</td>\n      <td>0</td>\n      <td>2020</td>\n      <td>90</td>\n      <td>[Drama, History, Horror]</td>\n      <td>False</td>\n      <td>False</td>\n      <td>False</td>\n      <td>...</td>\n      <td>False</td>\n      <td>False</td>\n      <td>False</td>\n      <td>False</td>\n      <td>False</td>\n      <td>False</td>\n      <td>False</td>\n      <td>False</td>\n      <td>False</td>\n      <td>False</td>\n    </tr>\n    <tr>\n      <th>7316770</th>\n      <td>tt9916538</td>\n      <td>Kuambil Lagi Hatiku</td>\n      <td>Kuambil Lagi Hatiku</td>\n      <td>0</td>\n      <td>2019</td>\n      <td>123</td>\n      <td>[Drama]</td>\n      <td>False</td>\n      <td>False</td>\n      <td>False</td>\n      <td>...</td>\n      <td>False</td>\n      <td>False</td>\n      <td>False</td>\n      <td>False</td>\n      <td>False</td>\n      <td>False</td>\n      <td>False</td>\n      <td>False</td>\n      <td>False</td>\n      <td>False</td>\n    </tr>\n    <tr>\n      <th>7316811</th>\n      <td>tt9916622</td>\n      <td>Rodolpho Teóphilo - O Legado de um Pioneiro</td>\n      <td>Rodolpho Teóphilo - O Legado de um Pioneiro</td>\n      <td>0</td>\n      <td>2015</td>\n      <td>57</td>\n      <td>[Documentary]</td>\n      <td>False</td>\n      <td>False</td>\n      <td>False</td>\n      <td>...</td>\n      <td>False</td>\n      <td>False</td>\n      <td>False</td>\n      <td>False</td>\n      <td>False</td>\n      <td>False</td>\n      <td>False</td>\n      <td>False</td>\n      <td>False</td>\n      <td>False</td>\n    </tr>\n    <tr>\n      <th>7316838</th>\n      <td>tt9916680</td>\n      <td>De la ilusión al desconcierto: cine colombiano...</td>\n      <td>De la ilusión al desconcierto: cine colombiano...</td>\n      <td>0</td>\n      <td>2007</td>\n      <td>100</td>\n      <td>[Documentary]</td>\n      <td>False</td>\n      <td>False</td>\n      <td>False</td>\n      <td>...</td>\n      <td>False</td>\n      <td>False</td>\n      <td>False</td>\n      <td>False</td>\n      <td>False</td>\n      <td>False</td>\n      <td>False</td>\n      <td>False</td>\n      <td>False</td>\n      <td>False</td>\n    </tr>\n    <tr>\n      <th>7316872</th>\n      <td>tt9916754</td>\n      <td>Chico Albuquerque - Revelações</td>\n      <td>Chico Albuquerque - Revelações</td>\n      <td>0</td>\n      <td>2013</td>\n      <td>49</td>\n      <td>[Documentary]</td>\n      <td>False</td>\n      <td>False</td>\n      <td>False</td>\n      <td>...</td>\n      <td>False</td>\n      <td>False</td>\n      <td>False</td>\n      <td>False</td>\n      <td>False</td>\n      <td>False</td>\n      <td>False</td>\n      <td>False</td>\n      <td>False</td>\n      <td>False</td>\n    </tr>\n  </tbody>\n</table>\n<p>323669 rows × 35 columns</p>\n</div>"
     },
     "metadata": {},
     "execution_count": 20
    }
   ],
   "source": [
    "# Con esto conseguimos ver si cada película contiene cada uno de los géneros. \n",
    "df"
   ]
  },
  {
   "cell_type": "code",
   "execution_count": 21,
   "metadata": {},
   "outputs": [
    {
     "output_type": "execute_result",
     "data": {
      "text/plain": [
       "Drama          137907\n",
       "Documentary     75361\n",
       "Comedy          72454\n",
       "Romance         31402\n",
       "Action          29729\n",
       "Crime           24793\n",
       "Thriller        22760\n",
       "Horror          19041\n",
       "Adventure       18478\n",
       "Family          11919\n",
       "Biography       11631\n",
       "Mystery         11014\n",
       "History          9924\n",
       "Music            8620\n",
       "Fantasy          8566\n",
       "Musical          6884\n",
       "Sci-Fi           6732\n",
       "War              6527\n",
       "Adult            5337\n",
       "Western          5149\n",
       "Animation        4993\n",
       "Sport            4382\n",
       "News             1338\n",
       "Film-Noir         786\n",
       "Reality-TV        150\n",
       "Talk-Show          44\n",
       "Short              39\n",
       "Game-Show           4\n",
       "dtype: int64"
      ]
     },
     "metadata": {},
     "execution_count": 21
    }
   ],
   "source": [
    "# Las películas más populares como podemos observar, son los dramas, seguidos de documentales y comedias\n",
    "df[all_genres].sum(axis=0).sort_values(ascending = False)"
   ]
  },
  {
   "cell_type": "code",
   "execution_count": 22,
   "metadata": {},
   "outputs": [
    {
     "output_type": "execute_result",
     "data": {
      "text/plain": [
       "Drama          88907\n",
       "Documentary    64551\n",
       "Comedy         62631\n",
       "Action         29729\n",
       "Crime          13798\n",
       "Adventure      12051\n",
       "Horror         10740\n",
       "Biography      10689\n",
       "Adult           5300\n",
       "Thriller        4500\n",
       "Romance         3113\n",
       "Animation       2979\n",
       "Western         2600\n",
       "Family          2394\n",
       "Mystery         1853\n",
       "Fantasy         1752\n",
       "Musical         1472\n",
       "Sci-Fi          1230\n",
       "Music           1119\n",
       "Sport            805\n",
       "History          702\n",
       "War              565\n",
       "Reality-TV       100\n",
       "Film-Noir         32\n",
       "Talk-Show         30\n",
       "News              20\n",
       "Game-Show          4\n",
       "Short              3\n",
       "Name: genres, dtype: int64"
      ]
     },
     "metadata": {},
     "execution_count": 22
    }
   ],
   "source": [
    "# El primer género que aparece lo consideramos como el género principal:\n",
    "df.genres.apply(lambda x: x[0]).value_counts()"
   ]
  },
  {
   "cell_type": "code",
   "execution_count": 23,
   "metadata": {},
   "outputs": [],
   "source": [
    "# Vemos que aunque lo primero que hicimos fue quitar el tipo short, vuelven a aparecer dentro del género de la película. Así que quitamos las que tengan valor True en el género Short:\n",
    "\n",
    "df = df.drop(df[df[\"Short\"]].index)"
   ]
  },
  {
   "cell_type": "code",
   "execution_count": 24,
   "metadata": {},
   "outputs": [],
   "source": [
    "# Ya solo tenemos los largometrajes y categorizados por género\n"
   ]
  },
  {
   "cell_type": "code",
   "execution_count": 25,
   "metadata": {},
   "outputs": [
    {
     "output_type": "execute_result",
     "data": {
      "text/plain": [
       "            tconst                   primaryTitle  \\\n",
       "61952    tt0063176                          Karla   \n",
       "64113    tt0065397     The Adult Workshop of Love   \n",
       "64157    tt0065442                     Bacchanale   \n",
       "64571    tt0065869             Why Do They Do It?   \n",
       "64605    tt0065904  The Party at Kitty and Stud's   \n",
       "...            ...                            ...   \n",
       "7220276  tt9713908                  Costa Dogging   \n",
       "7230604  tt9735434             Dogging in the sun   \n",
       "7245023  tt9765780   Hemmafruarnas hemliga sexliv   \n",
       "7266758  tt9811452    Chikati Gadilo Chithakotudu   \n",
       "7269897  tt9818148               Dans Madame Rose   \n",
       "\n",
       "                         originalTitle  isAdult  startYear runtimeMinutes  \\\n",
       "61952                            Karla        1       1969             80   \n",
       "64113         Anatomie des Liebesaktes        1       1970             90   \n",
       "64157                       Bacchanale        1       1970             70   \n",
       "64571              Hvorfor gør de det?        1       1971             90   \n",
       "64605    The Party at Kitty and Stud's        1       1970             71   \n",
       "...                                ...      ...        ...            ...   \n",
       "7220276                  Costa Dogging        1       2018             94   \n",
       "7230604             Dogging in the sun        1       2018             87   \n",
       "7245023   Hemmafruarnas hemliga sexliv        1       1981             73   \n",
       "7266758    Chikati Gadilo Chitakottudu        1       2019            152   \n",
       "7269897               Dans Madame Rose        1       1980             51   \n",
       "\n",
       "                           genres  Action  Game-Show  Romance  ...  Comedy  \\\n",
       "61952              [Adult, Drama]   False      False    False  ...   False   \n",
       "64113                     [Adult]   False      False    False  ...   False   \n",
       "64157    [Adult, Fantasy, Horror]   False      False    False  ...   False   \n",
       "64571        [Adult, Documentary]   False      False    False  ...   False   \n",
       "64605      [Adult, Comedy, Drama]   False      False    False  ...    True   \n",
       "...                           ...     ...        ...      ...  ...     ...   \n",
       "7220276                   [Adult]   False      False    False  ...   False   \n",
       "7230604                   [Adult]   False      False    False  ...   False   \n",
       "7245023                   [Adult]   False      False    False  ...   False   \n",
       "7266758           [Adult, Comedy]   False      False    False  ...    True   \n",
       "7269897                   [Adult]   False      False    False  ...   False   \n",
       "\n",
       "         Music  Musical  Family  Adult  Crime  Mystery    War  Film-Noir  \\\n",
       "61952    False    False   False   True  False    False  False      False   \n",
       "64113    False    False   False   True  False    False  False      False   \n",
       "64157    False    False   False   True  False    False  False      False   \n",
       "64571    False    False   False   True  False    False  False      False   \n",
       "64605    False    False   False   True  False    False  False      False   \n",
       "...        ...      ...     ...    ...    ...      ...    ...        ...   \n",
       "7220276  False    False   False   True  False    False  False      False   \n",
       "7230604  False    False   False   True  False    False  False      False   \n",
       "7245023  False    False   False   True  False    False  False      False   \n",
       "7266758  False    False   False   True  False    False  False      False   \n",
       "7269897  False    False   False   True  False    False  False      False   \n",
       "\n",
       "         Sci-Fi  \n",
       "61952     False  \n",
       "64113     False  \n",
       "64157     False  \n",
       "64571     False  \n",
       "64605     False  \n",
       "...         ...  \n",
       "7220276   False  \n",
       "7230604   False  \n",
       "7245023   False  \n",
       "7266758   False  \n",
       "7269897   False  \n",
       "\n",
       "[5337 rows x 35 columns]"
      ],
      "text/html": "<div>\n<style scoped>\n    .dataframe tbody tr th:only-of-type {\n        vertical-align: middle;\n    }\n\n    .dataframe tbody tr th {\n        vertical-align: top;\n    }\n\n    .dataframe thead th {\n        text-align: right;\n    }\n</style>\n<table border=\"1\" class=\"dataframe\">\n  <thead>\n    <tr style=\"text-align: right;\">\n      <th></th>\n      <th>tconst</th>\n      <th>primaryTitle</th>\n      <th>originalTitle</th>\n      <th>isAdult</th>\n      <th>startYear</th>\n      <th>runtimeMinutes</th>\n      <th>genres</th>\n      <th>Action</th>\n      <th>Game-Show</th>\n      <th>Romance</th>\n      <th>...</th>\n      <th>Comedy</th>\n      <th>Music</th>\n      <th>Musical</th>\n      <th>Family</th>\n      <th>Adult</th>\n      <th>Crime</th>\n      <th>Mystery</th>\n      <th>War</th>\n      <th>Film-Noir</th>\n      <th>Sci-Fi</th>\n    </tr>\n  </thead>\n  <tbody>\n    <tr>\n      <th>61952</th>\n      <td>tt0063176</td>\n      <td>Karla</td>\n      <td>Karla</td>\n      <td>1</td>\n      <td>1969</td>\n      <td>80</td>\n      <td>[Adult, Drama]</td>\n      <td>False</td>\n      <td>False</td>\n      <td>False</td>\n      <td>...</td>\n      <td>False</td>\n      <td>False</td>\n      <td>False</td>\n      <td>False</td>\n      <td>True</td>\n      <td>False</td>\n      <td>False</td>\n      <td>False</td>\n      <td>False</td>\n      <td>False</td>\n    </tr>\n    <tr>\n      <th>64113</th>\n      <td>tt0065397</td>\n      <td>The Adult Workshop of Love</td>\n      <td>Anatomie des Liebesaktes</td>\n      <td>1</td>\n      <td>1970</td>\n      <td>90</td>\n      <td>[Adult]</td>\n      <td>False</td>\n      <td>False</td>\n      <td>False</td>\n      <td>...</td>\n      <td>False</td>\n      <td>False</td>\n      <td>False</td>\n      <td>False</td>\n      <td>True</td>\n      <td>False</td>\n      <td>False</td>\n      <td>False</td>\n      <td>False</td>\n      <td>False</td>\n    </tr>\n    <tr>\n      <th>64157</th>\n      <td>tt0065442</td>\n      <td>Bacchanale</td>\n      <td>Bacchanale</td>\n      <td>1</td>\n      <td>1970</td>\n      <td>70</td>\n      <td>[Adult, Fantasy, Horror]</td>\n      <td>False</td>\n      <td>False</td>\n      <td>False</td>\n      <td>...</td>\n      <td>False</td>\n      <td>False</td>\n      <td>False</td>\n      <td>False</td>\n      <td>True</td>\n      <td>False</td>\n      <td>False</td>\n      <td>False</td>\n      <td>False</td>\n      <td>False</td>\n    </tr>\n    <tr>\n      <th>64571</th>\n      <td>tt0065869</td>\n      <td>Why Do They Do It?</td>\n      <td>Hvorfor gør de det?</td>\n      <td>1</td>\n      <td>1971</td>\n      <td>90</td>\n      <td>[Adult, Documentary]</td>\n      <td>False</td>\n      <td>False</td>\n      <td>False</td>\n      <td>...</td>\n      <td>False</td>\n      <td>False</td>\n      <td>False</td>\n      <td>False</td>\n      <td>True</td>\n      <td>False</td>\n      <td>False</td>\n      <td>False</td>\n      <td>False</td>\n      <td>False</td>\n    </tr>\n    <tr>\n      <th>64605</th>\n      <td>tt0065904</td>\n      <td>The Party at Kitty and Stud's</td>\n      <td>The Party at Kitty and Stud's</td>\n      <td>1</td>\n      <td>1970</td>\n      <td>71</td>\n      <td>[Adult, Comedy, Drama]</td>\n      <td>False</td>\n      <td>False</td>\n      <td>False</td>\n      <td>...</td>\n      <td>True</td>\n      <td>False</td>\n      <td>False</td>\n      <td>False</td>\n      <td>True</td>\n      <td>False</td>\n      <td>False</td>\n      <td>False</td>\n      <td>False</td>\n      <td>False</td>\n    </tr>\n    <tr>\n      <th>...</th>\n      <td>...</td>\n      <td>...</td>\n      <td>...</td>\n      <td>...</td>\n      <td>...</td>\n      <td>...</td>\n      <td>...</td>\n      <td>...</td>\n      <td>...</td>\n      <td>...</td>\n      <td>...</td>\n      <td>...</td>\n      <td>...</td>\n      <td>...</td>\n      <td>...</td>\n      <td>...</td>\n      <td>...</td>\n      <td>...</td>\n      <td>...</td>\n      <td>...</td>\n      <td>...</td>\n    </tr>\n    <tr>\n      <th>7220276</th>\n      <td>tt9713908</td>\n      <td>Costa Dogging</td>\n      <td>Costa Dogging</td>\n      <td>1</td>\n      <td>2018</td>\n      <td>94</td>\n      <td>[Adult]</td>\n      <td>False</td>\n      <td>False</td>\n      <td>False</td>\n      <td>...</td>\n      <td>False</td>\n      <td>False</td>\n      <td>False</td>\n      <td>False</td>\n      <td>True</td>\n      <td>False</td>\n      <td>False</td>\n      <td>False</td>\n      <td>False</td>\n      <td>False</td>\n    </tr>\n    <tr>\n      <th>7230604</th>\n      <td>tt9735434</td>\n      <td>Dogging in the sun</td>\n      <td>Dogging in the sun</td>\n      <td>1</td>\n      <td>2018</td>\n      <td>87</td>\n      <td>[Adult]</td>\n      <td>False</td>\n      <td>False</td>\n      <td>False</td>\n      <td>...</td>\n      <td>False</td>\n      <td>False</td>\n      <td>False</td>\n      <td>False</td>\n      <td>True</td>\n      <td>False</td>\n      <td>False</td>\n      <td>False</td>\n      <td>False</td>\n      <td>False</td>\n    </tr>\n    <tr>\n      <th>7245023</th>\n      <td>tt9765780</td>\n      <td>Hemmafruarnas hemliga sexliv</td>\n      <td>Hemmafruarnas hemliga sexliv</td>\n      <td>1</td>\n      <td>1981</td>\n      <td>73</td>\n      <td>[Adult]</td>\n      <td>False</td>\n      <td>False</td>\n      <td>False</td>\n      <td>...</td>\n      <td>False</td>\n      <td>False</td>\n      <td>False</td>\n      <td>False</td>\n      <td>True</td>\n      <td>False</td>\n      <td>False</td>\n      <td>False</td>\n      <td>False</td>\n      <td>False</td>\n    </tr>\n    <tr>\n      <th>7266758</th>\n      <td>tt9811452</td>\n      <td>Chikati Gadilo Chithakotudu</td>\n      <td>Chikati Gadilo Chitakottudu</td>\n      <td>1</td>\n      <td>2019</td>\n      <td>152</td>\n      <td>[Adult, Comedy]</td>\n      <td>False</td>\n      <td>False</td>\n      <td>False</td>\n      <td>...</td>\n      <td>True</td>\n      <td>False</td>\n      <td>False</td>\n      <td>False</td>\n      <td>True</td>\n      <td>False</td>\n      <td>False</td>\n      <td>False</td>\n      <td>False</td>\n      <td>False</td>\n    </tr>\n    <tr>\n      <th>7269897</th>\n      <td>tt9818148</td>\n      <td>Dans Madame Rose</td>\n      <td>Dans Madame Rose</td>\n      <td>1</td>\n      <td>1980</td>\n      <td>51</td>\n      <td>[Adult]</td>\n      <td>False</td>\n      <td>False</td>\n      <td>False</td>\n      <td>...</td>\n      <td>False</td>\n      <td>False</td>\n      <td>False</td>\n      <td>False</td>\n      <td>True</td>\n      <td>False</td>\n      <td>False</td>\n      <td>False</td>\n      <td>False</td>\n      <td>False</td>\n    </tr>\n  </tbody>\n</table>\n<p>5337 rows × 35 columns</p>\n</div>"
     },
     "metadata": {},
     "execution_count": 25
    }
   ],
   "source": [
    "df[df[\"Adult\"]]"
   ]
  },
  {
   "cell_type": "code",
   "execution_count": 26,
   "metadata": {},
   "outputs": [
    {
     "output_type": "execute_result",
     "data": {
      "text/plain": [
       "            tconst                  primaryTitle  \\\n",
       "59174    tt0060313                Dingle, Dangle   \n",
       "60740    tt0061926                  Lust Weekend   \n",
       "61158    tt0062361                     Thigh Spy   \n",
       "61213    tt0062417      Un épais manteau de sang   \n",
       "61895    tt0063118                   I Want You!   \n",
       "...            ...                           ...   \n",
       "7220276  tt9713908                 Costa Dogging   \n",
       "7230604  tt9735434            Dogging in the sun   \n",
       "7245023  tt9765780  Hemmafruarnas hemliga sexliv   \n",
       "7266758  tt9811452   Chikati Gadilo Chithakotudu   \n",
       "7269897  tt9818148              Dans Madame Rose   \n",
       "\n",
       "                        originalTitle  isAdult  startYear runtimeMinutes  \\\n",
       "59174                  Dingle, Dangle        1       1966             61   \n",
       "60740                    Lust Weekend        1       1967             70   \n",
       "61158                       Thigh Spy        1       1967             70   \n",
       "61213        Un épais manteau de sang        1       1968             88   \n",
       "61895                     I Want You!        1       1969             59   \n",
       "...                               ...      ...        ...            ...   \n",
       "7220276                 Costa Dogging        1       2018             94   \n",
       "7230604            Dogging in the sun        1       2018             87   \n",
       "7245023  Hemmafruarnas hemliga sexliv        1       1981             73   \n",
       "7266758   Chikati Gadilo Chitakottudu        1       2019            152   \n",
       "7269897              Dans Madame Rose        1       1980             51   \n",
       "\n",
       "                  genres  Action  Game-Show  Romance  ...  Comedy  Music  \\\n",
       "59174           [Comedy]   False      False    False  ...    True  False   \n",
       "60740            [Drama]   False      False    False  ...   False  False   \n",
       "61158            [Drama]   False      False    False  ...   False  False   \n",
       "61213            [Drama]   False      False    False  ...   False  False   \n",
       "61895            [Drama]   False      False    False  ...   False  False   \n",
       "...                  ...     ...        ...      ...  ...     ...    ...   \n",
       "7220276          [Adult]   False      False    False  ...   False  False   \n",
       "7230604          [Adult]   False      False    False  ...   False  False   \n",
       "7245023          [Adult]   False      False    False  ...   False  False   \n",
       "7266758  [Adult, Comedy]   False      False    False  ...    True  False   \n",
       "7269897          [Adult]   False      False    False  ...   False  False   \n",
       "\n",
       "         Musical  Family  Adult  Crime  Mystery    War  Film-Noir  Sci-Fi  \n",
       "59174      False   False  False  False    False  False      False   False  \n",
       "60740      False   False  False  False    False  False      False   False  \n",
       "61158      False   False  False  False    False  False      False   False  \n",
       "61213      False   False  False  False    False  False      False   False  \n",
       "61895      False   False  False  False    False  False      False   False  \n",
       "...          ...     ...    ...    ...      ...    ...        ...     ...  \n",
       "7220276    False   False   True  False    False  False      False   False  \n",
       "7230604    False   False   True  False    False  False      False   False  \n",
       "7245023    False   False   True  False    False  False      False   False  \n",
       "7266758    False   False   True  False    False  False      False   False  \n",
       "7269897    False   False   True  False    False  False      False   False  \n",
       "\n",
       "[5511 rows x 35 columns]"
      ],
      "text/html": "<div>\n<style scoped>\n    .dataframe tbody tr th:only-of-type {\n        vertical-align: middle;\n    }\n\n    .dataframe tbody tr th {\n        vertical-align: top;\n    }\n\n    .dataframe thead th {\n        text-align: right;\n    }\n</style>\n<table border=\"1\" class=\"dataframe\">\n  <thead>\n    <tr style=\"text-align: right;\">\n      <th></th>\n      <th>tconst</th>\n      <th>primaryTitle</th>\n      <th>originalTitle</th>\n      <th>isAdult</th>\n      <th>startYear</th>\n      <th>runtimeMinutes</th>\n      <th>genres</th>\n      <th>Action</th>\n      <th>Game-Show</th>\n      <th>Romance</th>\n      <th>...</th>\n      <th>Comedy</th>\n      <th>Music</th>\n      <th>Musical</th>\n      <th>Family</th>\n      <th>Adult</th>\n      <th>Crime</th>\n      <th>Mystery</th>\n      <th>War</th>\n      <th>Film-Noir</th>\n      <th>Sci-Fi</th>\n    </tr>\n  </thead>\n  <tbody>\n    <tr>\n      <th>59174</th>\n      <td>tt0060313</td>\n      <td>Dingle, Dangle</td>\n      <td>Dingle, Dangle</td>\n      <td>1</td>\n      <td>1966</td>\n      <td>61</td>\n      <td>[Comedy]</td>\n      <td>False</td>\n      <td>False</td>\n      <td>False</td>\n      <td>...</td>\n      <td>True</td>\n      <td>False</td>\n      <td>False</td>\n      <td>False</td>\n      <td>False</td>\n      <td>False</td>\n      <td>False</td>\n      <td>False</td>\n      <td>False</td>\n      <td>False</td>\n    </tr>\n    <tr>\n      <th>60740</th>\n      <td>tt0061926</td>\n      <td>Lust Weekend</td>\n      <td>Lust Weekend</td>\n      <td>1</td>\n      <td>1967</td>\n      <td>70</td>\n      <td>[Drama]</td>\n      <td>False</td>\n      <td>False</td>\n      <td>False</td>\n      <td>...</td>\n      <td>False</td>\n      <td>False</td>\n      <td>False</td>\n      <td>False</td>\n      <td>False</td>\n      <td>False</td>\n      <td>False</td>\n      <td>False</td>\n      <td>False</td>\n      <td>False</td>\n    </tr>\n    <tr>\n      <th>61158</th>\n      <td>tt0062361</td>\n      <td>Thigh Spy</td>\n      <td>Thigh Spy</td>\n      <td>1</td>\n      <td>1967</td>\n      <td>70</td>\n      <td>[Drama]</td>\n      <td>False</td>\n      <td>False</td>\n      <td>False</td>\n      <td>...</td>\n      <td>False</td>\n      <td>False</td>\n      <td>False</td>\n      <td>False</td>\n      <td>False</td>\n      <td>False</td>\n      <td>False</td>\n      <td>False</td>\n      <td>False</td>\n      <td>False</td>\n    </tr>\n    <tr>\n      <th>61213</th>\n      <td>tt0062417</td>\n      <td>Un épais manteau de sang</td>\n      <td>Un épais manteau de sang</td>\n      <td>1</td>\n      <td>1968</td>\n      <td>88</td>\n      <td>[Drama]</td>\n      <td>False</td>\n      <td>False</td>\n      <td>False</td>\n      <td>...</td>\n      <td>False</td>\n      <td>False</td>\n      <td>False</td>\n      <td>False</td>\n      <td>False</td>\n      <td>False</td>\n      <td>False</td>\n      <td>False</td>\n      <td>False</td>\n      <td>False</td>\n    </tr>\n    <tr>\n      <th>61895</th>\n      <td>tt0063118</td>\n      <td>I Want You!</td>\n      <td>I Want You!</td>\n      <td>1</td>\n      <td>1969</td>\n      <td>59</td>\n      <td>[Drama]</td>\n      <td>False</td>\n      <td>False</td>\n      <td>False</td>\n      <td>...</td>\n      <td>False</td>\n      <td>False</td>\n      <td>False</td>\n      <td>False</td>\n      <td>False</td>\n      <td>False</td>\n      <td>False</td>\n      <td>False</td>\n      <td>False</td>\n      <td>False</td>\n    </tr>\n    <tr>\n      <th>...</th>\n      <td>...</td>\n      <td>...</td>\n      <td>...</td>\n      <td>...</td>\n      <td>...</td>\n      <td>...</td>\n      <td>...</td>\n      <td>...</td>\n      <td>...</td>\n      <td>...</td>\n      <td>...</td>\n      <td>...</td>\n      <td>...</td>\n      <td>...</td>\n      <td>...</td>\n      <td>...</td>\n      <td>...</td>\n      <td>...</td>\n      <td>...</td>\n      <td>...</td>\n      <td>...</td>\n    </tr>\n    <tr>\n      <th>7220276</th>\n      <td>tt9713908</td>\n      <td>Costa Dogging</td>\n      <td>Costa Dogging</td>\n      <td>1</td>\n      <td>2018</td>\n      <td>94</td>\n      <td>[Adult]</td>\n      <td>False</td>\n      <td>False</td>\n      <td>False</td>\n      <td>...</td>\n      <td>False</td>\n      <td>False</td>\n      <td>False</td>\n      <td>False</td>\n      <td>True</td>\n      <td>False</td>\n      <td>False</td>\n      <td>False</td>\n      <td>False</td>\n      <td>False</td>\n    </tr>\n    <tr>\n      <th>7230604</th>\n      <td>tt9735434</td>\n      <td>Dogging in the sun</td>\n      <td>Dogging in the sun</td>\n      <td>1</td>\n      <td>2018</td>\n      <td>87</td>\n      <td>[Adult]</td>\n      <td>False</td>\n      <td>False</td>\n      <td>False</td>\n      <td>...</td>\n      <td>False</td>\n      <td>False</td>\n      <td>False</td>\n      <td>False</td>\n      <td>True</td>\n      <td>False</td>\n      <td>False</td>\n      <td>False</td>\n      <td>False</td>\n      <td>False</td>\n    </tr>\n    <tr>\n      <th>7245023</th>\n      <td>tt9765780</td>\n      <td>Hemmafruarnas hemliga sexliv</td>\n      <td>Hemmafruarnas hemliga sexliv</td>\n      <td>1</td>\n      <td>1981</td>\n      <td>73</td>\n      <td>[Adult]</td>\n      <td>False</td>\n      <td>False</td>\n      <td>False</td>\n      <td>...</td>\n      <td>False</td>\n      <td>False</td>\n      <td>False</td>\n      <td>False</td>\n      <td>True</td>\n      <td>False</td>\n      <td>False</td>\n      <td>False</td>\n      <td>False</td>\n      <td>False</td>\n    </tr>\n    <tr>\n      <th>7266758</th>\n      <td>tt9811452</td>\n      <td>Chikati Gadilo Chithakotudu</td>\n      <td>Chikati Gadilo Chitakottudu</td>\n      <td>1</td>\n      <td>2019</td>\n      <td>152</td>\n      <td>[Adult, Comedy]</td>\n      <td>False</td>\n      <td>False</td>\n      <td>False</td>\n      <td>...</td>\n      <td>True</td>\n      <td>False</td>\n      <td>False</td>\n      <td>False</td>\n      <td>True</td>\n      <td>False</td>\n      <td>False</td>\n      <td>False</td>\n      <td>False</td>\n      <td>False</td>\n    </tr>\n    <tr>\n      <th>7269897</th>\n      <td>tt9818148</td>\n      <td>Dans Madame Rose</td>\n      <td>Dans Madame Rose</td>\n      <td>1</td>\n      <td>1980</td>\n      <td>51</td>\n      <td>[Adult]</td>\n      <td>False</td>\n      <td>False</td>\n      <td>False</td>\n      <td>...</td>\n      <td>False</td>\n      <td>False</td>\n      <td>False</td>\n      <td>False</td>\n      <td>True</td>\n      <td>False</td>\n      <td>False</td>\n      <td>False</td>\n      <td>False</td>\n      <td>False</td>\n    </tr>\n  </tbody>\n</table>\n<p>5511 rows × 35 columns</p>\n</div>"
     },
     "metadata": {},
     "execution_count": 26
    }
   ],
   "source": [
    "df[df[\"isAdult\"] == 1] \n"
   ]
  },
  {
   "cell_type": "code",
   "execution_count": 27,
   "metadata": {},
   "outputs": [
    {
     "output_type": "execute_result",
     "data": {
      "text/plain": [
       "            tconst                               primaryTitle  \\\n",
       "59174    tt0060313                             Dingle, Dangle   \n",
       "60740    tt0061926                               Lust Weekend   \n",
       "61158    tt0062361                                  Thigh Spy   \n",
       "61213    tt0062417                   Un épais manteau de sang   \n",
       "61895    tt0063118                                I Want You!   \n",
       "...            ...                                        ...   \n",
       "4596377  tt3993632                                 Doomed Dom   \n",
       "4604329  tt4011038                              Deadly Dreams   \n",
       "6050022  tt7224136                       Experto en ortología   \n",
       "6130713  tt7397146                                     Adonis   \n",
       "6306818  tt7773450  James Ken the Movie: Battle from Pakistan   \n",
       "\n",
       "                                     originalTitle  isAdult  startYear  \\\n",
       "59174                               Dingle, Dangle        1       1966   \n",
       "60740                                 Lust Weekend        1       1967   \n",
       "61158                                    Thigh Spy        1       1967   \n",
       "61213                     Un épais manteau de sang        1       1968   \n",
       "61895                                  I Want You!        1       1969   \n",
       "...                                            ...      ...        ...   \n",
       "4596377                                 Doomed Dom        1       2013   \n",
       "4604329                              Deadly Dreams        1       2013   \n",
       "6050022                       Experto en ortología        1       1991   \n",
       "6130713                              San shi er li        1       2017   \n",
       "6306818  James Ken the Movie: Battle from Pakistan        1       2018   \n",
       "\n",
       "        runtimeMinutes                         genres  Action  Game-Show  \\\n",
       "59174               61                       [Comedy]   False      False   \n",
       "60740               70                        [Drama]   False      False   \n",
       "61158               70                        [Drama]   False      False   \n",
       "61213               88                        [Drama]   False      False   \n",
       "61895               59                        [Drama]   False      False   \n",
       "...                ...                            ...     ...        ...   \n",
       "4596377             86                       [Horror]   False      False   \n",
       "4604329             58                       [Horror]   False      False   \n",
       "6050022             60                       [Comedy]   False      False   \n",
       "6130713             97                        [Drama]   False      False   \n",
       "6306818            124  [Action, Animation, Thriller]    True      False   \n",
       "\n",
       "         Romance  ...  Comedy  Music  Musical  Family  Adult  Crime  Mystery  \\\n",
       "59174      False  ...    True  False    False   False  False  False    False   \n",
       "60740      False  ...   False  False    False   False  False  False    False   \n",
       "61158      False  ...   False  False    False   False  False  False    False   \n",
       "61213      False  ...   False  False    False   False  False  False    False   \n",
       "61895      False  ...   False  False    False   False  False  False    False   \n",
       "...          ...  ...     ...    ...      ...     ...    ...    ...      ...   \n",
       "4596377    False  ...   False  False    False   False  False  False    False   \n",
       "4604329    False  ...   False  False    False   False  False  False    False   \n",
       "6050022    False  ...    True  False    False   False  False  False    False   \n",
       "6130713    False  ...   False  False    False   False  False  False    False   \n",
       "6306818    False  ...   False  False    False   False  False  False    False   \n",
       "\n",
       "           War  Film-Noir  Sci-Fi  \n",
       "59174    False      False   False  \n",
       "60740    False      False   False  \n",
       "61158    False      False   False  \n",
       "61213    False      False   False  \n",
       "61895    False      False   False  \n",
       "...        ...        ...     ...  \n",
       "4596377  False      False   False  \n",
       "4604329  False      False   False  \n",
       "6050022  False      False   False  \n",
       "6130713  False      False   False  \n",
       "6306818  False      False   False  \n",
       "\n",
       "[198 rows x 35 columns]"
      ],
      "text/html": "<div>\n<style scoped>\n    .dataframe tbody tr th:only-of-type {\n        vertical-align: middle;\n    }\n\n    .dataframe tbody tr th {\n        vertical-align: top;\n    }\n\n    .dataframe thead th {\n        text-align: right;\n    }\n</style>\n<table border=\"1\" class=\"dataframe\">\n  <thead>\n    <tr style=\"text-align: right;\">\n      <th></th>\n      <th>tconst</th>\n      <th>primaryTitle</th>\n      <th>originalTitle</th>\n      <th>isAdult</th>\n      <th>startYear</th>\n      <th>runtimeMinutes</th>\n      <th>genres</th>\n      <th>Action</th>\n      <th>Game-Show</th>\n      <th>Romance</th>\n      <th>...</th>\n      <th>Comedy</th>\n      <th>Music</th>\n      <th>Musical</th>\n      <th>Family</th>\n      <th>Adult</th>\n      <th>Crime</th>\n      <th>Mystery</th>\n      <th>War</th>\n      <th>Film-Noir</th>\n      <th>Sci-Fi</th>\n    </tr>\n  </thead>\n  <tbody>\n    <tr>\n      <th>59174</th>\n      <td>tt0060313</td>\n      <td>Dingle, Dangle</td>\n      <td>Dingle, Dangle</td>\n      <td>1</td>\n      <td>1966</td>\n      <td>61</td>\n      <td>[Comedy]</td>\n      <td>False</td>\n      <td>False</td>\n      <td>False</td>\n      <td>...</td>\n      <td>True</td>\n      <td>False</td>\n      <td>False</td>\n      <td>False</td>\n      <td>False</td>\n      <td>False</td>\n      <td>False</td>\n      <td>False</td>\n      <td>False</td>\n      <td>False</td>\n    </tr>\n    <tr>\n      <th>60740</th>\n      <td>tt0061926</td>\n      <td>Lust Weekend</td>\n      <td>Lust Weekend</td>\n      <td>1</td>\n      <td>1967</td>\n      <td>70</td>\n      <td>[Drama]</td>\n      <td>False</td>\n      <td>False</td>\n      <td>False</td>\n      <td>...</td>\n      <td>False</td>\n      <td>False</td>\n      <td>False</td>\n      <td>False</td>\n      <td>False</td>\n      <td>False</td>\n      <td>False</td>\n      <td>False</td>\n      <td>False</td>\n      <td>False</td>\n    </tr>\n    <tr>\n      <th>61158</th>\n      <td>tt0062361</td>\n      <td>Thigh Spy</td>\n      <td>Thigh Spy</td>\n      <td>1</td>\n      <td>1967</td>\n      <td>70</td>\n      <td>[Drama]</td>\n      <td>False</td>\n      <td>False</td>\n      <td>False</td>\n      <td>...</td>\n      <td>False</td>\n      <td>False</td>\n      <td>False</td>\n      <td>False</td>\n      <td>False</td>\n      <td>False</td>\n      <td>False</td>\n      <td>False</td>\n      <td>False</td>\n      <td>False</td>\n    </tr>\n    <tr>\n      <th>61213</th>\n      <td>tt0062417</td>\n      <td>Un épais manteau de sang</td>\n      <td>Un épais manteau de sang</td>\n      <td>1</td>\n      <td>1968</td>\n      <td>88</td>\n      <td>[Drama]</td>\n      <td>False</td>\n      <td>False</td>\n      <td>False</td>\n      <td>...</td>\n      <td>False</td>\n      <td>False</td>\n      <td>False</td>\n      <td>False</td>\n      <td>False</td>\n      <td>False</td>\n      <td>False</td>\n      <td>False</td>\n      <td>False</td>\n      <td>False</td>\n    </tr>\n    <tr>\n      <th>61895</th>\n      <td>tt0063118</td>\n      <td>I Want You!</td>\n      <td>I Want You!</td>\n      <td>1</td>\n      <td>1969</td>\n      <td>59</td>\n      <td>[Drama]</td>\n      <td>False</td>\n      <td>False</td>\n      <td>False</td>\n      <td>...</td>\n      <td>False</td>\n      <td>False</td>\n      <td>False</td>\n      <td>False</td>\n      <td>False</td>\n      <td>False</td>\n      <td>False</td>\n      <td>False</td>\n      <td>False</td>\n      <td>False</td>\n    </tr>\n    <tr>\n      <th>...</th>\n      <td>...</td>\n      <td>...</td>\n      <td>...</td>\n      <td>...</td>\n      <td>...</td>\n      <td>...</td>\n      <td>...</td>\n      <td>...</td>\n      <td>...</td>\n      <td>...</td>\n      <td>...</td>\n      <td>...</td>\n      <td>...</td>\n      <td>...</td>\n      <td>...</td>\n      <td>...</td>\n      <td>...</td>\n      <td>...</td>\n      <td>...</td>\n      <td>...</td>\n      <td>...</td>\n    </tr>\n    <tr>\n      <th>4596377</th>\n      <td>tt3993632</td>\n      <td>Doomed Dom</td>\n      <td>Doomed Dom</td>\n      <td>1</td>\n      <td>2013</td>\n      <td>86</td>\n      <td>[Horror]</td>\n      <td>False</td>\n      <td>False</td>\n      <td>False</td>\n      <td>...</td>\n      <td>False</td>\n      <td>False</td>\n      <td>False</td>\n      <td>False</td>\n      <td>False</td>\n      <td>False</td>\n      <td>False</td>\n      <td>False</td>\n      <td>False</td>\n      <td>False</td>\n    </tr>\n    <tr>\n      <th>4604329</th>\n      <td>tt4011038</td>\n      <td>Deadly Dreams</td>\n      <td>Deadly Dreams</td>\n      <td>1</td>\n      <td>2013</td>\n      <td>58</td>\n      <td>[Horror]</td>\n      <td>False</td>\n      <td>False</td>\n      <td>False</td>\n      <td>...</td>\n      <td>False</td>\n      <td>False</td>\n      <td>False</td>\n      <td>False</td>\n      <td>False</td>\n      <td>False</td>\n      <td>False</td>\n      <td>False</td>\n      <td>False</td>\n      <td>False</td>\n    </tr>\n    <tr>\n      <th>6050022</th>\n      <td>tt7224136</td>\n      <td>Experto en ortología</td>\n      <td>Experto en ortología</td>\n      <td>1</td>\n      <td>1991</td>\n      <td>60</td>\n      <td>[Comedy]</td>\n      <td>False</td>\n      <td>False</td>\n      <td>False</td>\n      <td>...</td>\n      <td>True</td>\n      <td>False</td>\n      <td>False</td>\n      <td>False</td>\n      <td>False</td>\n      <td>False</td>\n      <td>False</td>\n      <td>False</td>\n      <td>False</td>\n      <td>False</td>\n    </tr>\n    <tr>\n      <th>6130713</th>\n      <td>tt7397146</td>\n      <td>Adonis</td>\n      <td>San shi er li</td>\n      <td>1</td>\n      <td>2017</td>\n      <td>97</td>\n      <td>[Drama]</td>\n      <td>False</td>\n      <td>False</td>\n      <td>False</td>\n      <td>...</td>\n      <td>False</td>\n      <td>False</td>\n      <td>False</td>\n      <td>False</td>\n      <td>False</td>\n      <td>False</td>\n      <td>False</td>\n      <td>False</td>\n      <td>False</td>\n      <td>False</td>\n    </tr>\n    <tr>\n      <th>6306818</th>\n      <td>tt7773450</td>\n      <td>James Ken the Movie: Battle from Pakistan</td>\n      <td>James Ken the Movie: Battle from Pakistan</td>\n      <td>1</td>\n      <td>2018</td>\n      <td>124</td>\n      <td>[Action, Animation, Thriller]</td>\n      <td>True</td>\n      <td>False</td>\n      <td>False</td>\n      <td>...</td>\n      <td>False</td>\n      <td>False</td>\n      <td>False</td>\n      <td>False</td>\n      <td>False</td>\n      <td>False</td>\n      <td>False</td>\n      <td>False</td>\n      <td>False</td>\n      <td>False</td>\n    </tr>\n  </tbody>\n</table>\n<p>198 rows × 35 columns</p>\n</div>"
     },
     "metadata": {},
     "execution_count": 27
    }
   ],
   "source": [
    "df.loc[(df[\"Adult\"] == False) & (df[\"isAdult\"] ==1)]"
   ]
  },
  {
   "cell_type": "code",
   "execution_count": 28,
   "metadata": {},
   "outputs": [],
   "source": [
    "# En Adult al igual que en isAdult, prácticamente todas las películas son pornográficas, y esas no vamos a meterlas en el dataset. Así que dropeamos isAdult\n",
    "\n",
    "df = df.drop(df[df[\"isAdult\"] == 1].index)"
   ]
  },
  {
   "cell_type": "code",
   "execution_count": 29,
   "metadata": {},
   "outputs": [],
   "source": [
    "df = df.drop(columns= [\"isAdult\", \"Short\", \"Adult\" ])"
   ]
  },
  {
   "cell_type": "code",
   "execution_count": 30,
   "metadata": {},
   "outputs": [
    {
     "output_type": "execute_result",
     "data": {
      "text/plain": [
       "            tconst                                       primaryTitle  \\\n",
       "8        tt0000009                                         Miss Jerry   \n",
       "570      tt0000574                        The Story of the Kelly Gang   \n",
       "672      tt0000679                     The Fairylogue and Radio-Plays   \n",
       "1172     tt0001184                            Don Juan de Serrallonga   \n",
       "1246     tt0001258                              The White Slave Trade   \n",
       "...            ...                                                ...   \n",
       "7316685  tt9916362                                              Coven   \n",
       "7316770  tt9916538                                Kuambil Lagi Hatiku   \n",
       "7316811  tt9916622        Rodolpho Teóphilo - O Legado de um Pioneiro   \n",
       "7316838  tt9916680  De la ilusión al desconcierto: cine colombiano...   \n",
       "7316872  tt9916754                     Chico Albuquerque - Revelações   \n",
       "\n",
       "                                             originalTitle  startYear  \\\n",
       "8                                               Miss Jerry       1894   \n",
       "570                            The Story of the Kelly Gang       1906   \n",
       "672                         The Fairylogue and Radio-Plays       1908   \n",
       "1172                               Don Juan de Serrallonga       1910   \n",
       "1246                                 Den hvide slavehandel       1910   \n",
       "...                                                    ...        ...   \n",
       "7316685                                           Akelarre       2020   \n",
       "7316770                                Kuambil Lagi Hatiku       2019   \n",
       "7316811        Rodolpho Teóphilo - O Legado de um Pioneiro       2015   \n",
       "7316838  De la ilusión al desconcierto: cine colombiano...       2007   \n",
       "7316872                     Chico Albuquerque - Revelações       2013   \n",
       "\n",
       "        runtimeMinutes                     genres  Action  Game-Show  Romance  \\\n",
       "8                   45                  [Romance]   False      False     True   \n",
       "570                 70  [Biography, Crime, Drama]   False      False    False   \n",
       "672                120       [Adventure, Fantasy]   False      False    False   \n",
       "1172                58         [Adventure, Drama]   False      False    False   \n",
       "1246                45                    [Drama]   False      False    False   \n",
       "...                ...                        ...     ...        ...      ...   \n",
       "7316685             90   [Drama, History, Horror]   False      False    False   \n",
       "7316770            123                    [Drama]   False      False    False   \n",
       "7316811             57              [Documentary]   False      False    False   \n",
       "7316838            100              [Documentary]   False      False    False   \n",
       "7316872             49              [Documentary]   False      False    False   \n",
       "\n",
       "         Western  ...  Adventure  Comedy  Music  Musical  Family  Crime  \\\n",
       "8          False  ...      False   False  False    False   False  False   \n",
       "570        False  ...      False   False  False    False   False   True   \n",
       "672        False  ...       True   False  False    False   False  False   \n",
       "1172       False  ...       True   False  False    False   False  False   \n",
       "1246       False  ...      False   False  False    False   False  False   \n",
       "...          ...  ...        ...     ...    ...      ...     ...    ...   \n",
       "7316685    False  ...      False   False  False    False   False  False   \n",
       "7316770    False  ...      False   False  False    False   False  False   \n",
       "7316811    False  ...      False   False  False    False   False  False   \n",
       "7316838    False  ...      False   False  False    False   False  False   \n",
       "7316872    False  ...      False   False  False    False   False  False   \n",
       "\n",
       "         Mystery    War  Film-Noir  Sci-Fi  \n",
       "8          False  False      False   False  \n",
       "570        False  False      False   False  \n",
       "672        False  False      False   False  \n",
       "1172       False  False      False   False  \n",
       "1246       False  False      False   False  \n",
       "...          ...    ...        ...     ...  \n",
       "7316685    False  False      False   False  \n",
       "7316770    False  False      False   False  \n",
       "7316811    False  False      False   False  \n",
       "7316838    False  False      False   False  \n",
       "7316872    False  False      False   False  \n",
       "\n",
       "[318119 rows x 32 columns]"
      ],
      "text/html": "<div>\n<style scoped>\n    .dataframe tbody tr th:only-of-type {\n        vertical-align: middle;\n    }\n\n    .dataframe tbody tr th {\n        vertical-align: top;\n    }\n\n    .dataframe thead th {\n        text-align: right;\n    }\n</style>\n<table border=\"1\" class=\"dataframe\">\n  <thead>\n    <tr style=\"text-align: right;\">\n      <th></th>\n      <th>tconst</th>\n      <th>primaryTitle</th>\n      <th>originalTitle</th>\n      <th>startYear</th>\n      <th>runtimeMinutes</th>\n      <th>genres</th>\n      <th>Action</th>\n      <th>Game-Show</th>\n      <th>Romance</th>\n      <th>Western</th>\n      <th>...</th>\n      <th>Adventure</th>\n      <th>Comedy</th>\n      <th>Music</th>\n      <th>Musical</th>\n      <th>Family</th>\n      <th>Crime</th>\n      <th>Mystery</th>\n      <th>War</th>\n      <th>Film-Noir</th>\n      <th>Sci-Fi</th>\n    </tr>\n  </thead>\n  <tbody>\n    <tr>\n      <th>8</th>\n      <td>tt0000009</td>\n      <td>Miss Jerry</td>\n      <td>Miss Jerry</td>\n      <td>1894</td>\n      <td>45</td>\n      <td>[Romance]</td>\n      <td>False</td>\n      <td>False</td>\n      <td>True</td>\n      <td>False</td>\n      <td>...</td>\n      <td>False</td>\n      <td>False</td>\n      <td>False</td>\n      <td>False</td>\n      <td>False</td>\n      <td>False</td>\n      <td>False</td>\n      <td>False</td>\n      <td>False</td>\n      <td>False</td>\n    </tr>\n    <tr>\n      <th>570</th>\n      <td>tt0000574</td>\n      <td>The Story of the Kelly Gang</td>\n      <td>The Story of the Kelly Gang</td>\n      <td>1906</td>\n      <td>70</td>\n      <td>[Biography, Crime, Drama]</td>\n      <td>False</td>\n      <td>False</td>\n      <td>False</td>\n      <td>False</td>\n      <td>...</td>\n      <td>False</td>\n      <td>False</td>\n      <td>False</td>\n      <td>False</td>\n      <td>False</td>\n      <td>True</td>\n      <td>False</td>\n      <td>False</td>\n      <td>False</td>\n      <td>False</td>\n    </tr>\n    <tr>\n      <th>672</th>\n      <td>tt0000679</td>\n      <td>The Fairylogue and Radio-Plays</td>\n      <td>The Fairylogue and Radio-Plays</td>\n      <td>1908</td>\n      <td>120</td>\n      <td>[Adventure, Fantasy]</td>\n      <td>False</td>\n      <td>False</td>\n      <td>False</td>\n      <td>False</td>\n      <td>...</td>\n      <td>True</td>\n      <td>False</td>\n      <td>False</td>\n      <td>False</td>\n      <td>False</td>\n      <td>False</td>\n      <td>False</td>\n      <td>False</td>\n      <td>False</td>\n      <td>False</td>\n    </tr>\n    <tr>\n      <th>1172</th>\n      <td>tt0001184</td>\n      <td>Don Juan de Serrallonga</td>\n      <td>Don Juan de Serrallonga</td>\n      <td>1910</td>\n      <td>58</td>\n      <td>[Adventure, Drama]</td>\n      <td>False</td>\n      <td>False</td>\n      <td>False</td>\n      <td>False</td>\n      <td>...</td>\n      <td>True</td>\n      <td>False</td>\n      <td>False</td>\n      <td>False</td>\n      <td>False</td>\n      <td>False</td>\n      <td>False</td>\n      <td>False</td>\n      <td>False</td>\n      <td>False</td>\n    </tr>\n    <tr>\n      <th>1246</th>\n      <td>tt0001258</td>\n      <td>The White Slave Trade</td>\n      <td>Den hvide slavehandel</td>\n      <td>1910</td>\n      <td>45</td>\n      <td>[Drama]</td>\n      <td>False</td>\n      <td>False</td>\n      <td>False</td>\n      <td>False</td>\n      <td>...</td>\n      <td>False</td>\n      <td>False</td>\n      <td>False</td>\n      <td>False</td>\n      <td>False</td>\n      <td>False</td>\n      <td>False</td>\n      <td>False</td>\n      <td>False</td>\n      <td>False</td>\n    </tr>\n    <tr>\n      <th>...</th>\n      <td>...</td>\n      <td>...</td>\n      <td>...</td>\n      <td>...</td>\n      <td>...</td>\n      <td>...</td>\n      <td>...</td>\n      <td>...</td>\n      <td>...</td>\n      <td>...</td>\n      <td>...</td>\n      <td>...</td>\n      <td>...</td>\n      <td>...</td>\n      <td>...</td>\n      <td>...</td>\n      <td>...</td>\n      <td>...</td>\n      <td>...</td>\n      <td>...</td>\n      <td>...</td>\n    </tr>\n    <tr>\n      <th>7316685</th>\n      <td>tt9916362</td>\n      <td>Coven</td>\n      <td>Akelarre</td>\n      <td>2020</td>\n      <td>90</td>\n      <td>[Drama, History, Horror]</td>\n      <td>False</td>\n      <td>False</td>\n      <td>False</td>\n      <td>False</td>\n      <td>...</td>\n      <td>False</td>\n      <td>False</td>\n      <td>False</td>\n      <td>False</td>\n      <td>False</td>\n      <td>False</td>\n      <td>False</td>\n      <td>False</td>\n      <td>False</td>\n      <td>False</td>\n    </tr>\n    <tr>\n      <th>7316770</th>\n      <td>tt9916538</td>\n      <td>Kuambil Lagi Hatiku</td>\n      <td>Kuambil Lagi Hatiku</td>\n      <td>2019</td>\n      <td>123</td>\n      <td>[Drama]</td>\n      <td>False</td>\n      <td>False</td>\n      <td>False</td>\n      <td>False</td>\n      <td>...</td>\n      <td>False</td>\n      <td>False</td>\n      <td>False</td>\n      <td>False</td>\n      <td>False</td>\n      <td>False</td>\n      <td>False</td>\n      <td>False</td>\n      <td>False</td>\n      <td>False</td>\n    </tr>\n    <tr>\n      <th>7316811</th>\n      <td>tt9916622</td>\n      <td>Rodolpho Teóphilo - O Legado de um Pioneiro</td>\n      <td>Rodolpho Teóphilo - O Legado de um Pioneiro</td>\n      <td>2015</td>\n      <td>57</td>\n      <td>[Documentary]</td>\n      <td>False</td>\n      <td>False</td>\n      <td>False</td>\n      <td>False</td>\n      <td>...</td>\n      <td>False</td>\n      <td>False</td>\n      <td>False</td>\n      <td>False</td>\n      <td>False</td>\n      <td>False</td>\n      <td>False</td>\n      <td>False</td>\n      <td>False</td>\n      <td>False</td>\n    </tr>\n    <tr>\n      <th>7316838</th>\n      <td>tt9916680</td>\n      <td>De la ilusión al desconcierto: cine colombiano...</td>\n      <td>De la ilusión al desconcierto: cine colombiano...</td>\n      <td>2007</td>\n      <td>100</td>\n      <td>[Documentary]</td>\n      <td>False</td>\n      <td>False</td>\n      <td>False</td>\n      <td>False</td>\n      <td>...</td>\n      <td>False</td>\n      <td>False</td>\n      <td>False</td>\n      <td>False</td>\n      <td>False</td>\n      <td>False</td>\n      <td>False</td>\n      <td>False</td>\n      <td>False</td>\n      <td>False</td>\n    </tr>\n    <tr>\n      <th>7316872</th>\n      <td>tt9916754</td>\n      <td>Chico Albuquerque - Revelações</td>\n      <td>Chico Albuquerque - Revelações</td>\n      <td>2013</td>\n      <td>49</td>\n      <td>[Documentary]</td>\n      <td>False</td>\n      <td>False</td>\n      <td>False</td>\n      <td>False</td>\n      <td>...</td>\n      <td>False</td>\n      <td>False</td>\n      <td>False</td>\n      <td>False</td>\n      <td>False</td>\n      <td>False</td>\n      <td>False</td>\n      <td>False</td>\n      <td>False</td>\n      <td>False</td>\n    </tr>\n  </tbody>\n</table>\n<p>318119 rows × 32 columns</p>\n</div>"
     },
     "metadata": {},
     "execution_count": 30
    }
   ],
   "source": [
    "df"
   ]
  },
  {
   "cell_type": "code",
   "execution_count": 31,
   "metadata": {},
   "outputs": [],
   "source": [
    "# Reindexamos las películas para que no tengan índices separados entre sí y sigan un orden lógico\n",
    "df = df.reset_index()"
   ]
  },
  {
   "cell_type": "code",
   "execution_count": 32,
   "metadata": {},
   "outputs": [
    {
     "output_type": "execute_result",
     "data": {
      "text/plain": [
       "   index     tconst                    primaryTitle  \\\n",
       "0      8  tt0000009                      Miss Jerry   \n",
       "1    570  tt0000574     The Story of the Kelly Gang   \n",
       "2    672  tt0000679  The Fairylogue and Radio-Plays   \n",
       "3   1172  tt0001184         Don Juan de Serrallonga   \n",
       "4   1246  tt0001258           The White Slave Trade   \n",
       "\n",
       "                    originalTitle  startYear runtimeMinutes  \\\n",
       "0                      Miss Jerry       1894             45   \n",
       "1     The Story of the Kelly Gang       1906             70   \n",
       "2  The Fairylogue and Radio-Plays       1908            120   \n",
       "3         Don Juan de Serrallonga       1910             58   \n",
       "4           Den hvide slavehandel       1910             45   \n",
       "\n",
       "                      genres  Action  Game-Show  Romance  ...  Adventure  \\\n",
       "0                  [Romance]   False      False     True  ...      False   \n",
       "1  [Biography, Crime, Drama]   False      False    False  ...      False   \n",
       "2       [Adventure, Fantasy]   False      False    False  ...       True   \n",
       "3         [Adventure, Drama]   False      False    False  ...       True   \n",
       "4                    [Drama]   False      False    False  ...      False   \n",
       "\n",
       "   Comedy  Music  Musical  Family  Crime  Mystery    War  Film-Noir  Sci-Fi  \n",
       "0   False  False    False   False  False    False  False      False   False  \n",
       "1   False  False    False   False   True    False  False      False   False  \n",
       "2   False  False    False   False  False    False  False      False   False  \n",
       "3   False  False    False   False  False    False  False      False   False  \n",
       "4   False  False    False   False  False    False  False      False   False  \n",
       "\n",
       "[5 rows x 33 columns]"
      ],
      "text/html": "<div>\n<style scoped>\n    .dataframe tbody tr th:only-of-type {\n        vertical-align: middle;\n    }\n\n    .dataframe tbody tr th {\n        vertical-align: top;\n    }\n\n    .dataframe thead th {\n        text-align: right;\n    }\n</style>\n<table border=\"1\" class=\"dataframe\">\n  <thead>\n    <tr style=\"text-align: right;\">\n      <th></th>\n      <th>index</th>\n      <th>tconst</th>\n      <th>primaryTitle</th>\n      <th>originalTitle</th>\n      <th>startYear</th>\n      <th>runtimeMinutes</th>\n      <th>genres</th>\n      <th>Action</th>\n      <th>Game-Show</th>\n      <th>Romance</th>\n      <th>...</th>\n      <th>Adventure</th>\n      <th>Comedy</th>\n      <th>Music</th>\n      <th>Musical</th>\n      <th>Family</th>\n      <th>Crime</th>\n      <th>Mystery</th>\n      <th>War</th>\n      <th>Film-Noir</th>\n      <th>Sci-Fi</th>\n    </tr>\n  </thead>\n  <tbody>\n    <tr>\n      <th>0</th>\n      <td>8</td>\n      <td>tt0000009</td>\n      <td>Miss Jerry</td>\n      <td>Miss Jerry</td>\n      <td>1894</td>\n      <td>45</td>\n      <td>[Romance]</td>\n      <td>False</td>\n      <td>False</td>\n      <td>True</td>\n      <td>...</td>\n      <td>False</td>\n      <td>False</td>\n      <td>False</td>\n      <td>False</td>\n      <td>False</td>\n      <td>False</td>\n      <td>False</td>\n      <td>False</td>\n      <td>False</td>\n      <td>False</td>\n    </tr>\n    <tr>\n      <th>1</th>\n      <td>570</td>\n      <td>tt0000574</td>\n      <td>The Story of the Kelly Gang</td>\n      <td>The Story of the Kelly Gang</td>\n      <td>1906</td>\n      <td>70</td>\n      <td>[Biography, Crime, Drama]</td>\n      <td>False</td>\n      <td>False</td>\n      <td>False</td>\n      <td>...</td>\n      <td>False</td>\n      <td>False</td>\n      <td>False</td>\n      <td>False</td>\n      <td>False</td>\n      <td>True</td>\n      <td>False</td>\n      <td>False</td>\n      <td>False</td>\n      <td>False</td>\n    </tr>\n    <tr>\n      <th>2</th>\n      <td>672</td>\n      <td>tt0000679</td>\n      <td>The Fairylogue and Radio-Plays</td>\n      <td>The Fairylogue and Radio-Plays</td>\n      <td>1908</td>\n      <td>120</td>\n      <td>[Adventure, Fantasy]</td>\n      <td>False</td>\n      <td>False</td>\n      <td>False</td>\n      <td>...</td>\n      <td>True</td>\n      <td>False</td>\n      <td>False</td>\n      <td>False</td>\n      <td>False</td>\n      <td>False</td>\n      <td>False</td>\n      <td>False</td>\n      <td>False</td>\n      <td>False</td>\n    </tr>\n    <tr>\n      <th>3</th>\n      <td>1172</td>\n      <td>tt0001184</td>\n      <td>Don Juan de Serrallonga</td>\n      <td>Don Juan de Serrallonga</td>\n      <td>1910</td>\n      <td>58</td>\n      <td>[Adventure, Drama]</td>\n      <td>False</td>\n      <td>False</td>\n      <td>False</td>\n      <td>...</td>\n      <td>True</td>\n      <td>False</td>\n      <td>False</td>\n      <td>False</td>\n      <td>False</td>\n      <td>False</td>\n      <td>False</td>\n      <td>False</td>\n      <td>False</td>\n      <td>False</td>\n    </tr>\n    <tr>\n      <th>4</th>\n      <td>1246</td>\n      <td>tt0001258</td>\n      <td>The White Slave Trade</td>\n      <td>Den hvide slavehandel</td>\n      <td>1910</td>\n      <td>45</td>\n      <td>[Drama]</td>\n      <td>False</td>\n      <td>False</td>\n      <td>False</td>\n      <td>...</td>\n      <td>False</td>\n      <td>False</td>\n      <td>False</td>\n      <td>False</td>\n      <td>False</td>\n      <td>False</td>\n      <td>False</td>\n      <td>False</td>\n      <td>False</td>\n      <td>False</td>\n    </tr>\n  </tbody>\n</table>\n<p>5 rows × 33 columns</p>\n</div>"
     },
     "metadata": {},
     "execution_count": 32
    }
   ],
   "source": [
    "df.head()"
   ]
  },
  {
   "cell_type": "code",
   "execution_count": 33,
   "metadata": {},
   "outputs": [
    {
     "output_type": "execute_result",
     "data": {
      "text/plain": [
       "(318119, 33)"
      ]
     },
     "metadata": {},
     "execution_count": 33
    }
   ],
   "source": [
    "df.shape"
   ]
  },
  {
   "source": [
    "### Con todo lo anterior hemos reducido el dataframe de ≈ 700k menciones de archivos de vídeo (cortos, largometrajes, series, etc) a ≈300k largometrajes"
   ],
   "cell_type": "markdown",
   "metadata": {}
  },
  {
   "cell_type": "code",
   "execution_count": null,
   "metadata": {},
   "outputs": [],
   "source": [
    "# Ahora unimos este dataset mucho más limpio con otro dataset de IMDb donde aparecen las puntuaciones de las películas (el punto de unión de las dos será el identificador interno de IMDb: tconst).\n",
    "\n"
   ]
  },
  {
   "cell_type": "code",
   "execution_count": 34,
   "metadata": {},
   "outputs": [],
   "source": [
    "df_rat = pd.read_csv(\"dataratings.tsv\", delimiter='\\t')"
   ]
  },
  {
   "cell_type": "code",
   "execution_count": 35,
   "metadata": {},
   "outputs": [
    {
     "output_type": "execute_result",
     "data": {
      "text/plain": [
       "            tconst  averageRating  numVotes\n",
       "0        tt0000001            5.6      1658\n",
       "1        tt0000002            6.1       201\n",
       "2        tt0000003            6.5      1371\n",
       "3        tt0000004            6.2       122\n",
       "4        tt0000005            6.2      2158\n",
       "...            ...            ...       ...\n",
       "1088492  tt9916580            7.2         5\n",
       "1088493  tt9916690            6.6         5\n",
       "1088494  tt9916720            6.0        66\n",
       "1088495  tt9916766            6.9        14\n",
       "1088496  tt9916778            7.3        24\n",
       "\n",
       "[1088497 rows x 3 columns]"
      ],
      "text/html": "<div>\n<style scoped>\n    .dataframe tbody tr th:only-of-type {\n        vertical-align: middle;\n    }\n\n    .dataframe tbody tr th {\n        vertical-align: top;\n    }\n\n    .dataframe thead th {\n        text-align: right;\n    }\n</style>\n<table border=\"1\" class=\"dataframe\">\n  <thead>\n    <tr style=\"text-align: right;\">\n      <th></th>\n      <th>tconst</th>\n      <th>averageRating</th>\n      <th>numVotes</th>\n    </tr>\n  </thead>\n  <tbody>\n    <tr>\n      <th>0</th>\n      <td>tt0000001</td>\n      <td>5.6</td>\n      <td>1658</td>\n    </tr>\n    <tr>\n      <th>1</th>\n      <td>tt0000002</td>\n      <td>6.1</td>\n      <td>201</td>\n    </tr>\n    <tr>\n      <th>2</th>\n      <td>tt0000003</td>\n      <td>6.5</td>\n      <td>1371</td>\n    </tr>\n    <tr>\n      <th>3</th>\n      <td>tt0000004</td>\n      <td>6.2</td>\n      <td>122</td>\n    </tr>\n    <tr>\n      <th>4</th>\n      <td>tt0000005</td>\n      <td>6.2</td>\n      <td>2158</td>\n    </tr>\n    <tr>\n      <th>...</th>\n      <td>...</td>\n      <td>...</td>\n      <td>...</td>\n    </tr>\n    <tr>\n      <th>1088492</th>\n      <td>tt9916580</td>\n      <td>7.2</td>\n      <td>5</td>\n    </tr>\n    <tr>\n      <th>1088493</th>\n      <td>tt9916690</td>\n      <td>6.6</td>\n      <td>5</td>\n    </tr>\n    <tr>\n      <th>1088494</th>\n      <td>tt9916720</td>\n      <td>6.0</td>\n      <td>66</td>\n    </tr>\n    <tr>\n      <th>1088495</th>\n      <td>tt9916766</td>\n      <td>6.9</td>\n      <td>14</td>\n    </tr>\n    <tr>\n      <th>1088496</th>\n      <td>tt9916778</td>\n      <td>7.3</td>\n      <td>24</td>\n    </tr>\n  </tbody>\n</table>\n<p>1088497 rows × 3 columns</p>\n</div>"
     },
     "metadata": {},
     "execution_count": 35
    }
   ],
   "source": [
    "df_rat"
   ]
  },
  {
   "cell_type": "code",
   "execution_count": 51,
   "metadata": {},
   "outputs": [
    {
     "output_type": "execute_result",
     "data": {
      "text/plain": [
       "           tconst  averageRating  numVotes\n",
       "43975   tt0066921            8.3    747120\n",
       "45504   tt0068646            9.2   1589095\n",
       "48027   tt0071562            9.0   1110301\n",
       "49665   tt0073486            8.7    904034\n",
       "51213   tt0075314            8.3    711464\n",
       "...           ...            ...       ...\n",
       "805939  tt3659388            8.0    747875\n",
       "834200  tt4154756            8.4    810395\n",
       "834202  tt4154796            8.4    776763\n",
       "857425  tt4574334            8.8    784113\n",
       "998938  tt7286456            8.5    890354\n",
       "\n",
       "[110 rows x 3 columns]"
      ],
      "text/html": "<div>\n<style scoped>\n    .dataframe tbody tr th:only-of-type {\n        vertical-align: middle;\n    }\n\n    .dataframe tbody tr th {\n        vertical-align: top;\n    }\n\n    .dataframe thead th {\n        text-align: right;\n    }\n</style>\n<table border=\"1\" class=\"dataframe\">\n  <thead>\n    <tr style=\"text-align: right;\">\n      <th></th>\n      <th>tconst</th>\n      <th>averageRating</th>\n      <th>numVotes</th>\n    </tr>\n  </thead>\n  <tbody>\n    <tr>\n      <th>43975</th>\n      <td>tt0066921</td>\n      <td>8.3</td>\n      <td>747120</td>\n    </tr>\n    <tr>\n      <th>45504</th>\n      <td>tt0068646</td>\n      <td>9.2</td>\n      <td>1589095</td>\n    </tr>\n    <tr>\n      <th>48027</th>\n      <td>tt0071562</td>\n      <td>9.0</td>\n      <td>1110301</td>\n    </tr>\n    <tr>\n      <th>49665</th>\n      <td>tt0073486</td>\n      <td>8.7</td>\n      <td>904034</td>\n    </tr>\n    <tr>\n      <th>51213</th>\n      <td>tt0075314</td>\n      <td>8.3</td>\n      <td>711464</td>\n    </tr>\n    <tr>\n      <th>...</th>\n      <td>...</td>\n      <td>...</td>\n      <td>...</td>\n    </tr>\n    <tr>\n      <th>805939</th>\n      <td>tt3659388</td>\n      <td>8.0</td>\n      <td>747875</td>\n    </tr>\n    <tr>\n      <th>834200</th>\n      <td>tt4154756</td>\n      <td>8.4</td>\n      <td>810395</td>\n    </tr>\n    <tr>\n      <th>834202</th>\n      <td>tt4154796</td>\n      <td>8.4</td>\n      <td>776763</td>\n    </tr>\n    <tr>\n      <th>857425</th>\n      <td>tt4574334</td>\n      <td>8.8</td>\n      <td>784113</td>\n    </tr>\n    <tr>\n      <th>998938</th>\n      <td>tt7286456</td>\n      <td>8.5</td>\n      <td>890354</td>\n    </tr>\n  </tbody>\n</table>\n<p>110 rows × 3 columns</p>\n</div>"
     },
     "metadata": {},
     "execution_count": 51
    }
   ],
   "source": [
    "#Para una puntuación más precisa, cogemos los que tengan más de 700k votos. Esto nos permitirá quedarnos con las 100 películas más votadas para enriquecer el dataset más tarde. \n",
    "\n",
    "df_rat[df_rat[\"numVotes\"]>=700000]"
   ]
  },
  {
   "cell_type": "code",
   "execution_count": 52,
   "metadata": {},
   "outputs": [],
   "source": [
    "#Dropeamos las filas que tienen menos de 700k votos\n",
    "df_rat = df_rat.drop(df_rat[df_rat[\"numVotes\"] < 700000].index)"
   ]
  },
  {
   "cell_type": "code",
   "execution_count": 53,
   "metadata": {},
   "outputs": [
    {
     "output_type": "execute_result",
     "data": {
      "text/plain": [
       "(110, 3)"
      ]
     },
     "metadata": {},
     "execution_count": 53
    }
   ],
   "source": [
    "df_rat.shape"
   ]
  },
  {
   "cell_type": "code",
   "execution_count": 55,
   "metadata": {},
   "outputs": [],
   "source": [
    "new_df = df.merge(df_rat, on=\"tconst\")"
   ]
  },
  {
   "cell_type": "code",
   "execution_count": 62,
   "metadata": {},
   "outputs": [],
   "source": [
    "best_films = new_df.sort_values(by= \"averageRating\", ascending= False)[:100]"
   ]
  },
  {
   "cell_type": "code",
   "execution_count": 63,
   "metadata": {},
   "outputs": [
    {
     "output_type": "execute_result",
     "data": {
      "text/plain": [
       "(100, 35)"
      ]
     },
     "metadata": {},
     "execution_count": 63
    }
   ],
   "source": [
    "best_films.shape"
   ]
  },
  {
   "cell_type": "code",
   "execution_count": 64,
   "metadata": {},
   "outputs": [
    {
     "output_type": "execute_result",
     "data": {
      "text/plain": [
       "     index     tconst              primaryTitle             originalTitle  \\\n",
       "25  108756  tt0111161  The Shawshank Redemption  The Shawshank Redemption   \n",
       "1    67293  tt0068646             The Godfather             The Godfather   \n",
       "67  450691  tt0468569           The Dark Knight           The Dark Knight   \n",
       "2    70116  tt0071562    The Godfather: Part II    The Godfather: Part II   \n",
       "20  105705  tt0108052          Schindler's List          Schindler's List   \n",
       "\n",
       "    startYear runtimeMinutes                       genres  Action  Game-Show  \\\n",
       "25       1994            142                      [Drama]   False      False   \n",
       "1        1972            175               [Crime, Drama]   False      False   \n",
       "67       2008            152       [Action, Crime, Drama]    True      False   \n",
       "2        1974            202               [Crime, Drama]   False      False   \n",
       "20       1993            195  [Biography, Drama, History]   False      False   \n",
       "\n",
       "    Romance  ...  Music  Musical  Family  Crime  Mystery    War  Film-Noir  \\\n",
       "25    False  ...  False    False   False  False    False  False      False   \n",
       "1     False  ...  False    False   False   True    False  False      False   \n",
       "67    False  ...  False    False   False   True    False  False      False   \n",
       "2     False  ...  False    False   False   True    False  False      False   \n",
       "20    False  ...  False    False   False  False    False  False      False   \n",
       "\n",
       "    Sci-Fi  averageRating  numVotes  \n",
       "25   False            9.3   2302420  \n",
       "1    False            9.2   1589095  \n",
       "67   False            9.0   2266082  \n",
       "2    False            9.0   1110301  \n",
       "20   False            8.9   1194788  \n",
       "\n",
       "[5 rows x 35 columns]"
      ],
      "text/html": "<div>\n<style scoped>\n    .dataframe tbody tr th:only-of-type {\n        vertical-align: middle;\n    }\n\n    .dataframe tbody tr th {\n        vertical-align: top;\n    }\n\n    .dataframe thead th {\n        text-align: right;\n    }\n</style>\n<table border=\"1\" class=\"dataframe\">\n  <thead>\n    <tr style=\"text-align: right;\">\n      <th></th>\n      <th>index</th>\n      <th>tconst</th>\n      <th>primaryTitle</th>\n      <th>originalTitle</th>\n      <th>startYear</th>\n      <th>runtimeMinutes</th>\n      <th>genres</th>\n      <th>Action</th>\n      <th>Game-Show</th>\n      <th>Romance</th>\n      <th>...</th>\n      <th>Music</th>\n      <th>Musical</th>\n      <th>Family</th>\n      <th>Crime</th>\n      <th>Mystery</th>\n      <th>War</th>\n      <th>Film-Noir</th>\n      <th>Sci-Fi</th>\n      <th>averageRating</th>\n      <th>numVotes</th>\n    </tr>\n  </thead>\n  <tbody>\n    <tr>\n      <th>25</th>\n      <td>108756</td>\n      <td>tt0111161</td>\n      <td>The Shawshank Redemption</td>\n      <td>The Shawshank Redemption</td>\n      <td>1994</td>\n      <td>142</td>\n      <td>[Drama]</td>\n      <td>False</td>\n      <td>False</td>\n      <td>False</td>\n      <td>...</td>\n      <td>False</td>\n      <td>False</td>\n      <td>False</td>\n      <td>False</td>\n      <td>False</td>\n      <td>False</td>\n      <td>False</td>\n      <td>False</td>\n      <td>9.3</td>\n      <td>2302420</td>\n    </tr>\n    <tr>\n      <th>1</th>\n      <td>67293</td>\n      <td>tt0068646</td>\n      <td>The Godfather</td>\n      <td>The Godfather</td>\n      <td>1972</td>\n      <td>175</td>\n      <td>[Crime, Drama]</td>\n      <td>False</td>\n      <td>False</td>\n      <td>False</td>\n      <td>...</td>\n      <td>False</td>\n      <td>False</td>\n      <td>False</td>\n      <td>True</td>\n      <td>False</td>\n      <td>False</td>\n      <td>False</td>\n      <td>False</td>\n      <td>9.2</td>\n      <td>1589095</td>\n    </tr>\n    <tr>\n      <th>67</th>\n      <td>450691</td>\n      <td>tt0468569</td>\n      <td>The Dark Knight</td>\n      <td>The Dark Knight</td>\n      <td>2008</td>\n      <td>152</td>\n      <td>[Action, Crime, Drama]</td>\n      <td>True</td>\n      <td>False</td>\n      <td>False</td>\n      <td>...</td>\n      <td>False</td>\n      <td>False</td>\n      <td>False</td>\n      <td>True</td>\n      <td>False</td>\n      <td>False</td>\n      <td>False</td>\n      <td>False</td>\n      <td>9.0</td>\n      <td>2266082</td>\n    </tr>\n    <tr>\n      <th>2</th>\n      <td>70116</td>\n      <td>tt0071562</td>\n      <td>The Godfather: Part II</td>\n      <td>The Godfather: Part II</td>\n      <td>1974</td>\n      <td>202</td>\n      <td>[Crime, Drama]</td>\n      <td>False</td>\n      <td>False</td>\n      <td>False</td>\n      <td>...</td>\n      <td>False</td>\n      <td>False</td>\n      <td>False</td>\n      <td>True</td>\n      <td>False</td>\n      <td>False</td>\n      <td>False</td>\n      <td>False</td>\n      <td>9.0</td>\n      <td>1110301</td>\n    </tr>\n    <tr>\n      <th>20</th>\n      <td>105705</td>\n      <td>tt0108052</td>\n      <td>Schindler's List</td>\n      <td>Schindler's List</td>\n      <td>1993</td>\n      <td>195</td>\n      <td>[Biography, Drama, History]</td>\n      <td>False</td>\n      <td>False</td>\n      <td>False</td>\n      <td>...</td>\n      <td>False</td>\n      <td>False</td>\n      <td>False</td>\n      <td>False</td>\n      <td>False</td>\n      <td>False</td>\n      <td>False</td>\n      <td>False</td>\n      <td>8.9</td>\n      <td>1194788</td>\n    </tr>\n  </tbody>\n</table>\n<p>5 rows × 35 columns</p>\n</div>"
     },
     "metadata": {},
     "execution_count": 64
    }
   ],
   "source": [
    "best_films.head()"
   ]
  },
  {
   "cell_type": "code",
   "execution_count": null,
   "metadata": {},
   "outputs": [],
   "source": [
    "all_genres.remove(\"Adult\")\n",
    "all_genres.remove(\"Short\")"
   ]
  },
  {
   "cell_type": "code",
   "execution_count": 74,
   "metadata": {},
   "outputs": [
    {
     "output_type": "execute_result",
     "data": {
      "text/plain": [
       "Drama          57\n",
       "Adventure      40\n",
       "Action         36\n",
       "Sci-Fi         25\n",
       "Crime          23\n",
       "Thriller       14\n",
       "Comedy         13\n",
       "Fantasy         9\n",
       "Mystery         8\n",
       "Biography       8\n",
       "Animation       7\n",
       "Romance         5\n",
       "Music           2\n",
       "War             2\n",
       "History         2\n",
       "Horror          2\n",
       "Western         1\n",
       "Sport           1\n",
       "Family          1\n",
       "Talk-Show       0\n",
       "Documentary     0\n",
       "News            0\n",
       "Film-Noir       0\n",
       "Musical         0\n",
       "Game-Show       0\n",
       "Reality-TV      0\n",
       "dtype: int64"
      ]
     },
     "metadata": {},
     "execution_count": 74
    }
   ],
   "source": [
    "best_films[all_genres].sum(axis=0).sort_values(ascending=False)"
   ]
  },
  {
   "cell_type": "code",
   "execution_count": 76,
   "metadata": {},
   "outputs": [
    {
     "output_type": "execute_result",
     "data": {
      "text/plain": [
       "Action       36\n",
       "Drama        21\n",
       "Crime        15\n",
       "Adventure    13\n",
       "Biography     8\n",
       "Comedy        4\n",
       "Mystery       2\n",
       "Horror        1\n",
       "Name: genres, dtype: int64"
      ]
     },
     "metadata": {},
     "execution_count": 76
    }
   ],
   "source": [
    "# El género principal de las películas más valoradas es acción, seguido de drama y crimen: los tres géneros que por ejemplo contiene una de las más valoradas (\"El padrino\").\n",
    "\n",
    "best_films[\"genres\"].apply(lambda x: x[0]).value_counts()\n",
    "\n"
   ]
  },
  {
   "cell_type": "code",
   "execution_count": 80,
   "metadata": {},
   "outputs": [
    {
     "output_type": "execute_result",
     "data": {
      "text/plain": [
       "100"
      ]
     },
     "metadata": {},
     "execution_count": 80
    }
   ],
   "source": [
    "best_films[\"startYear\"].notna().sum()"
   ]
  },
  {
   "cell_type": "code",
   "execution_count": null,
   "metadata": {},
   "outputs": [],
   "source": [
    "best_films"
   ]
  },
  {
   "cell_type": "code",
   "execution_count": 82,
   "metadata": {},
   "outputs": [
    {
     "output_type": "execute_result",
     "data": {
      "text/plain": [
       "{'Black Panther (2018)': '97',\n",
       " 'Avengers: Endgame (2019)': '94',\n",
       " 'Us (2019)': '93',\n",
       " 'Toy Story 4 (2019)': '97',\n",
       " 'Lady Bird (2017)': '99',\n",
       " 'Citizen Kane (1941)': '100',\n",
       " 'Mission: Impossible - Fallout (2018)': '97',\n",
       " 'The Wizard of Oz (1939)': '98',\n",
       " 'The Irishman (2019)': '96',\n",
       " 'BlacKkKlansman (2018)': '96',\n",
       " 'Get Out (2017)': '98',\n",
       " 'Mad Max: Fury Road (2015)': '97',\n",
       " 'Casablanca (1942)': '99',\n",
       " 'Spider-Man: Into the Spider-Verse (2018)': '97',\n",
       " 'Moonlight (2016)': '98',\n",
       " 'Wonder Woman (2017)': '93',\n",
       " 'A Star Is Born (2018)': '90',\n",
       " 'Roma (2018)': '96',\n",
       " 'Dunkirk (2017)': '93',\n",
       " 'Inside Out (2015)': '98',\n",
       " 'The Farewell (2019)': '98',\n",
       " 'Modern Times (1936)': '100',\n",
       " 'A Quiet Place (2018)': '96',\n",
       " 'The Third Man (1949)': '99',\n",
       " 'It Happened One Night (1934)': '98',\n",
       " 'Eighth Grade (2018)': '99',\n",
       " 'Booksmart (2019)': '96',\n",
       " 'Coco (2017)': '97',\n",
       " 'Thor: Ragnarok (2017)': '93',\n",
       " 'The Shape of Water (2017)': '92',\n",
       " 'Selma (2014)': '99',\n",
       " 'Spotlight (2015)': '97',\n",
       " 'La Grande illusion (Grand Illusion) (1938)': '97',\n",
       " 'The Godfather (1972)': '98',\n",
       " \"Singin' in the Rain (1952)\": '100',\n",
       " 'Snow White and the Seven Dwarfs (1937)': '98',\n",
       " 'Arrival (2016)': '94',\n",
       " 'The Cabinet of Dr. Caligari (Das Cabinet des Dr. Caligari) (1920)': '98',\n",
       " 'Logan (2017)': '93',\n",
       " 'All About Eve (1950)': '99',\n",
       " 'The Favourite (2018)': '93',\n",
       " 'The Kid (1921)': '100',\n",
       " 'E.T. The Extra-Terrestrial (1982)': '98',\n",
       " 'The Big Sick (2017)': '98',\n",
       " 'Star Wars: The Last Jedi (2017)': '90',\n",
       " 'Shadow of a Doubt (1943)': '100',\n",
       " 'Gravity (2013)': '96',\n",
       " 'The Adventures of Robin Hood (1938)': '100',\n",
       " 'Paddington 2 (2018)': '100',\n",
       " 'King Kong (1933)': '98',\n",
       " 'Boyhood (2014)': '97',\n",
       " 'Laura (1944)': '100',\n",
       " 'Once Upon a Time In Hollywood (2019)': '85',\n",
       " 'Argo (2012)': '96',\n",
       " 'Manchester by the Sea (2016)': '96',\n",
       " 'Nosferatu, a Symphony of Horror (Nosferatu, eine Symphonie des Grauens) (Nosferatu the Vampire) (1922)': '97',\n",
       " 'Leave No Trace (2018)': '100',\n",
       " '12 Years a Slave (2013)': '95',\n",
       " 'Alien (1979)': '98',\n",
       " 'Spider-Man: Far From Home (2019)': '90',\n",
       " 'La La Land (2016)': '91',\n",
       " 'Incredibles 2 (2018)': '93',\n",
       " 'Zootopia (2016)': '98',\n",
       " 'Star Wars: Episode VII - The Force Awakens (2015)': '92',\n",
       " 'Sunset Boulevard (1950)': '99',\n",
       " 'Psycho (1960)': '96',\n",
       " 'Call Me by Your Name (2018)': '94',\n",
       " 'Metropolis (1927)': '97',\n",
       " 'War for the Planet of the Apes (2017)': '94',\n",
       " 'The Maltese Falcon (1941)': '100',\n",
       " 'The Battle of Algiers (La Battaglia di Algeri) (1967)': '99',\n",
       " 'Widows (2018)': '91',\n",
       " \"A Hard Day's Night (1964)\": '98',\n",
       " 'The Florida Project (2017)': '96',\n",
       " 'Top Hat (1935)': '100',\n",
       " 'Seven Samurai (Shichinin no Samurai) (1956)': '100',\n",
       " 'Spider-Man: Homecoming (2017)': '92',\n",
       " 'The Philadelphia Story (1940)': '100',\n",
       " 'Baby Driver (2017)': '92',\n",
       " 'M (1931)': '100',\n",
       " 'Rebecca (1940)': '100',\n",
       " 'North by Northwest (1959)': '99',\n",
       " 'Shoplifters (Manbiki kazoku) (2018)': '99',\n",
       " 'The Bride of Frankenstein (1935)': '98',\n",
       " 'Hell or High Water (2016)': '97',\n",
       " 'Bicycle Thieves (Ladri di biciclette) (The Bicycle Thief) (1949)': '98',\n",
       " 'Shazam! (2019)': '90',\n",
       " 'Up (2009)': '98',\n",
       " 'Jaws (1975)': '98',\n",
       " 'Toy Story 2 (1999)': '100',\n",
       " 'Rear Window (1954)': '99',\n",
       " 'Toy Story 3 (2010)': '98',\n",
       " 'Three Billboards Outside Ebbing, Missouri (2017)': '90',\n",
       " 'The Godfather, Part II (1974)': '98',\n",
       " \"Won't You Be My Neighbor? (2018)\": '97',\n",
       " 'Chinatown (1974)': '99',\n",
       " 'The Lady Eve (1941)': '100',\n",
       " 'Pinocchio (1940)': '100',\n",
       " '12 Angry Men (Twelve Angry Men) (1957)': '100',\n",
       " 'The Dark Knight (2008)': '94'}"
      ]
     },
     "metadata": {},
     "execution_count": 82
    }
   ],
   "source": [
    "with open(\"rotto_scores.json\", \"r\") as f:    \n",
    "    rotto_scores = json.load(f)\n",
    "rotto_scores"
   ]
  },
  {
   "cell_type": "code",
   "execution_count": 90,
   "metadata": {},
   "outputs": [],
   "source": [
    "best_films[\"rotten_tomatoes\"] = -1"
   ]
  },
  {
   "cell_type": "code",
   "execution_count": 96,
   "metadata": {},
   "outputs": [
    {
     "output_type": "stream",
     "name": "stdout",
     "text": [
      "The Godfather (1972)/The Godfather/1972/98\nThe Dark Knight (2008)/The Dark Knight/2008/94\nAlien (1979)/Alien/1979/98\nAvengers: Endgame (2019)/Avengers: Endgame/2019/94\nToy Story 3 (2010)/Toy Story 3/2010/98\nUp (2009)/Up/2009/98\nMad Max: Fury Road (2015)/Mad Max: Fury Road/2015/97\nStar Wars: Episode VII - The Force Awakens (2015)/Star Wars: Episode VII - The Force Awakens/2015/92\nGravity (2013)/Gravity/2013/96\n"
     ]
    }
   ],
   "source": [
    "for i, row in best_films.iterrows():\n",
    "    for key in rotto_scores.keys():\n",
    "        if (row[\"primaryTitle\"] in key or row[\"originalTitle\"] in key) and str(row[\"startYear\"]) in key:\n",
    "            print(key, row[\"primaryTitle\"], row[\"startYear\"], rotto_scores[key], sep = \"/\")\n",
    "            best_films.loc[i,\"rotten_tomatoes\"] = rotto_scores[key]\n",
    "            break\n"
   ]
  },
  {
   "cell_type": "code",
   "execution_count": 97,
   "metadata": {},
   "outputs": [
    {
     "output_type": "execute_result",
     "data": {
      "text/plain": [
       "-1    91\n",
       "98     4\n",
       "94     2\n",
       "97     1\n",
       "96     1\n",
       "92     1\n",
       "Name: rotten_tomatoes, dtype: int64"
      ]
     },
     "metadata": {},
     "execution_count": 97
    }
   ],
   "source": [
    "best_films[\"rotten_tomatoes\"].value_counts()"
   ]
  },
  {
   "cell_type": "code",
   "execution_count": 99,
   "metadata": {},
   "outputs": [
    {
     "output_type": "execute_result",
     "data": {
      "text/plain": [
       "<matplotlib.axes._subplots.AxesSubplot at 0x17d12a99f40>"
      ]
     },
     "metadata": {},
     "execution_count": 99
    },
    {
     "output_type": "display_data",
     "data": {
      "text/plain": "<Figure size 432x288 with 1 Axes>",
      "image/svg+xml": "<?xml version=\"1.0\" encoding=\"utf-8\" standalone=\"no\"?>\r\n<!DOCTYPE svg PUBLIC \"-//W3C//DTD SVG 1.1//EN\"\r\n  \"http://www.w3.org/Graphics/SVG/1.1/DTD/svg11.dtd\">\r\n<!-- Created with matplotlib (https://matplotlib.org/) -->\r\n<svg height=\"248.518125pt\" version=\"1.1\" viewBox=\"0 0 382.313352 248.518125\" width=\"382.313352pt\" xmlns=\"http://www.w3.org/2000/svg\" xmlns:xlink=\"http://www.w3.org/1999/xlink\">\r\n <defs>\r\n  <style type=\"text/css\">\r\n*{stroke-linecap:butt;stroke-linejoin:round;}\r\n  </style>\r\n </defs>\r\n <g id=\"figure_1\">\r\n  <g id=\"patch_1\">\r\n   <path d=\"M 0 248.518125 \r\nL 382.313352 248.518125 \r\nL 382.313352 0 \r\nL 0 0 \r\nz\r\n\" style=\"fill:none;\"/>\r\n  </g>\r\n  <g id=\"axes_1\">\r\n   <g id=\"patch_2\">\r\n    <path d=\"M 36.465625 224.64 \r\nL 371.265625 224.64 \r\nL 371.265625 7.2 \r\nL 36.465625 7.2 \r\nz\r\n\" style=\"fill:#ffffff;\"/>\r\n   </g>\r\n   <g id=\"patch_3\">\r\n    <path clip-path=\"url(#p03ca66e2f6)\" d=\"M 51.683807 224.64 \r\nL 82.12017 224.64 \r\nL 82.12017 181.043008 \r\nL 51.683807 181.043008 \r\nz\r\n\" style=\"fill:#1f77b4;\"/>\r\n   </g>\r\n   <g id=\"patch_4\">\r\n    <path clip-path=\"url(#p03ca66e2f6)\" d=\"M 82.12017 224.64 \r\nL 112.556534 224.64 \r\nL 112.556534 170.143759 \r\nL 82.12017 170.143759 \r\nz\r\n\" style=\"fill:#1f77b4;\"/>\r\n   </g>\r\n   <g id=\"patch_5\">\r\n    <path clip-path=\"url(#p03ca66e2f6)\" d=\"M 112.556534 224.64 \r\nL 142.992898 224.64 \r\nL 142.992898 170.143759 \r\nL 112.556534 170.143759 \r\nz\r\n\" style=\"fill:#1f77b4;\"/>\r\n   </g>\r\n   <g id=\"patch_6\">\r\n    <path clip-path=\"url(#p03ca66e2f6)\" d=\"M 142.992898 224.64 \r\nL 173.429261 224.64 \r\nL 173.429261 202.841504 \r\nL 142.992898 202.841504 \r\nz\r\n\" style=\"fill:#1f77b4;\"/>\r\n   </g>\r\n   <g id=\"patch_7\">\r\n    <path clip-path=\"url(#p03ca66e2f6)\" d=\"M 173.429261 224.64 \r\nL 203.865625 224.64 \r\nL 203.865625 115.647519 \r\nL 173.429261 115.647519 \r\nz\r\n\" style=\"fill:#1f77b4;\"/>\r\n   </g>\r\n   <g id=\"patch_8\">\r\n    <path clip-path=\"url(#p03ca66e2f6)\" d=\"M 203.865625 224.64 \r\nL 234.301989 224.64 \r\nL 234.301989 61.151278 \r\nL 203.865625 61.151278 \r\nz\r\n\" style=\"fill:#1f77b4;\"/>\r\n   </g>\r\n   <g id=\"patch_9\">\r\n    <path clip-path=\"url(#p03ca66e2f6)\" d=\"M 234.301989 224.64 \r\nL 264.738352 224.64 \r\nL 264.738352 50.25203 \r\nL 234.301989 50.25203 \r\nz\r\n\" style=\"fill:#1f77b4;\"/>\r\n   </g>\r\n   <g id=\"patch_10\">\r\n    <path clip-path=\"url(#p03ca66e2f6)\" d=\"M 264.738352 224.64 \r\nL 295.174716 224.64 \r\nL 295.174716 50.25203 \r\nL 264.738352 50.25203 \r\nz\r\n\" style=\"fill:#1f77b4;\"/>\r\n   </g>\r\n   <g id=\"patch_11\">\r\n    <path clip-path=\"url(#p03ca66e2f6)\" d=\"M 295.174716 224.64 \r\nL 325.61108 224.64 \r\nL 325.61108 17.554286 \r\nL 295.174716 17.554286 \r\nz\r\n\" style=\"fill:#1f77b4;\"/>\r\n   </g>\r\n   <g id=\"patch_12\">\r\n    <path clip-path=\"url(#p03ca66e2f6)\" d=\"M 325.61108 224.64 \r\nL 356.047443 224.64 \r\nL 356.047443 137.446015 \r\nL 325.61108 137.446015 \r\nz\r\n\" style=\"fill:#1f77b4;\"/>\r\n   </g>\r\n   <g id=\"matplotlib.axis_1\">\r\n    <g id=\"xtick_1\">\r\n     <g id=\"line2d_1\">\r\n      <path clip-path=\"url(#p03ca66e2f6)\" d=\"M 45.342898 224.64 \r\nL 45.342898 7.2 \r\n\" style=\"fill:none;stroke:#b0b0b0;stroke-linecap:square;stroke-width:0.8;\"/>\r\n     </g>\r\n     <g id=\"line2d_2\">\r\n      <defs>\r\n       <path d=\"M 0 0 \r\nL 0 3.5 \r\n\" id=\"m7b8612817d\" style=\"stroke:#000000;stroke-width:0.8;\"/>\r\n      </defs>\r\n      <g>\r\n       <use style=\"stroke:#000000;stroke-width:0.8;\" x=\"45.342898\" xlink:href=\"#m7b8612817d\" y=\"224.64\"/>\r\n      </g>\r\n     </g>\r\n     <g id=\"text_1\">\r\n      <!-- 1970 -->\r\n      <defs>\r\n       <path d=\"M 12.40625 8.296875 \r\nL 28.515625 8.296875 \r\nL 28.515625 63.921875 \r\nL 10.984375 60.40625 \r\nL 10.984375 69.390625 \r\nL 28.421875 72.90625 \r\nL 38.28125 72.90625 \r\nL 38.28125 8.296875 \r\nL 54.390625 8.296875 \r\nL 54.390625 0 \r\nL 12.40625 0 \r\nz\r\n\" id=\"DejaVuSans-49\"/>\r\n       <path d=\"M 10.984375 1.515625 \r\nL 10.984375 10.5 \r\nQ 14.703125 8.734375 18.5 7.8125 \r\nQ 22.3125 6.890625 25.984375 6.890625 \r\nQ 35.75 6.890625 40.890625 13.453125 \r\nQ 46.046875 20.015625 46.78125 33.40625 \r\nQ 43.953125 29.203125 39.59375 26.953125 \r\nQ 35.25 24.703125 29.984375 24.703125 \r\nQ 19.046875 24.703125 12.671875 31.3125 \r\nQ 6.296875 37.9375 6.296875 49.421875 \r\nQ 6.296875 60.640625 12.9375 67.421875 \r\nQ 19.578125 74.21875 30.609375 74.21875 \r\nQ 43.265625 74.21875 49.921875 64.515625 \r\nQ 56.59375 54.828125 56.59375 36.375 \r\nQ 56.59375 19.140625 48.40625 8.859375 \r\nQ 40.234375 -1.421875 26.421875 -1.421875 \r\nQ 22.703125 -1.421875 18.890625 -0.6875 \r\nQ 15.09375 0.046875 10.984375 1.515625 \r\nz\r\nM 30.609375 32.421875 \r\nQ 37.25 32.421875 41.125 36.953125 \r\nQ 45.015625 41.5 45.015625 49.421875 \r\nQ 45.015625 57.28125 41.125 61.84375 \r\nQ 37.25 66.40625 30.609375 66.40625 \r\nQ 23.96875 66.40625 20.09375 61.84375 \r\nQ 16.21875 57.28125 16.21875 49.421875 \r\nQ 16.21875 41.5 20.09375 36.953125 \r\nQ 23.96875 32.421875 30.609375 32.421875 \r\nz\r\n\" id=\"DejaVuSans-57\"/>\r\n       <path d=\"M 8.203125 72.90625 \r\nL 55.078125 72.90625 \r\nL 55.078125 68.703125 \r\nL 28.609375 0 \r\nL 18.3125 0 \r\nL 43.21875 64.59375 \r\nL 8.203125 64.59375 \r\nz\r\n\" id=\"DejaVuSans-55\"/>\r\n       <path d=\"M 31.78125 66.40625 \r\nQ 24.171875 66.40625 20.328125 58.90625 \r\nQ 16.5 51.421875 16.5 36.375 \r\nQ 16.5 21.390625 20.328125 13.890625 \r\nQ 24.171875 6.390625 31.78125 6.390625 \r\nQ 39.453125 6.390625 43.28125 13.890625 \r\nQ 47.125 21.390625 47.125 36.375 \r\nQ 47.125 51.421875 43.28125 58.90625 \r\nQ 39.453125 66.40625 31.78125 66.40625 \r\nz\r\nM 31.78125 74.21875 \r\nQ 44.046875 74.21875 50.515625 64.515625 \r\nQ 56.984375 54.828125 56.984375 36.375 \r\nQ 56.984375 17.96875 50.515625 8.265625 \r\nQ 44.046875 -1.421875 31.78125 -1.421875 \r\nQ 19.53125 -1.421875 13.0625 8.265625 \r\nQ 6.59375 17.96875 6.59375 36.375 \r\nQ 6.59375 54.828125 13.0625 64.515625 \r\nQ 19.53125 74.21875 31.78125 74.21875 \r\nz\r\n\" id=\"DejaVuSans-48\"/>\r\n      </defs>\r\n      <g transform=\"translate(32.617898 239.238437)scale(0.1 -0.1)\">\r\n       <use xlink:href=\"#DejaVuSans-49\"/>\r\n       <use x=\"63.623047\" xlink:href=\"#DejaVuSans-57\"/>\r\n       <use x=\"127.246094\" xlink:href=\"#DejaVuSans-55\"/>\r\n       <use x=\"190.869141\" xlink:href=\"#DejaVuSans-48\"/>\r\n      </g>\r\n     </g>\r\n    </g>\r\n    <g id=\"xtick_2\">\r\n     <g id=\"line2d_3\">\r\n      <path clip-path=\"url(#p03ca66e2f6)\" d=\"M 108.751989 224.64 \r\nL 108.751989 7.2 \r\n\" style=\"fill:none;stroke:#b0b0b0;stroke-linecap:square;stroke-width:0.8;\"/>\r\n     </g>\r\n     <g id=\"line2d_4\">\r\n      <g>\r\n       <use style=\"stroke:#000000;stroke-width:0.8;\" x=\"108.751989\" xlink:href=\"#m7b8612817d\" y=\"224.64\"/>\r\n      </g>\r\n     </g>\r\n     <g id=\"text_2\">\r\n      <!-- 1980 -->\r\n      <defs>\r\n       <path d=\"M 31.78125 34.625 \r\nQ 24.75 34.625 20.71875 30.859375 \r\nQ 16.703125 27.09375 16.703125 20.515625 \r\nQ 16.703125 13.921875 20.71875 10.15625 \r\nQ 24.75 6.390625 31.78125 6.390625 \r\nQ 38.8125 6.390625 42.859375 10.171875 \r\nQ 46.921875 13.96875 46.921875 20.515625 \r\nQ 46.921875 27.09375 42.890625 30.859375 \r\nQ 38.875 34.625 31.78125 34.625 \r\nz\r\nM 21.921875 38.8125 \r\nQ 15.578125 40.375 12.03125 44.71875 \r\nQ 8.5 49.078125 8.5 55.328125 \r\nQ 8.5 64.0625 14.71875 69.140625 \r\nQ 20.953125 74.21875 31.78125 74.21875 \r\nQ 42.671875 74.21875 48.875 69.140625 \r\nQ 55.078125 64.0625 55.078125 55.328125 \r\nQ 55.078125 49.078125 51.53125 44.71875 \r\nQ 48 40.375 41.703125 38.8125 \r\nQ 48.828125 37.15625 52.796875 32.3125 \r\nQ 56.78125 27.484375 56.78125 20.515625 \r\nQ 56.78125 9.90625 50.3125 4.234375 \r\nQ 43.84375 -1.421875 31.78125 -1.421875 \r\nQ 19.734375 -1.421875 13.25 4.234375 \r\nQ 6.78125 9.90625 6.78125 20.515625 \r\nQ 6.78125 27.484375 10.78125 32.3125 \r\nQ 14.796875 37.15625 21.921875 38.8125 \r\nz\r\nM 18.3125 54.390625 \r\nQ 18.3125 48.734375 21.84375 45.5625 \r\nQ 25.390625 42.390625 31.78125 42.390625 \r\nQ 38.140625 42.390625 41.71875 45.5625 \r\nQ 45.3125 48.734375 45.3125 54.390625 \r\nQ 45.3125 60.0625 41.71875 63.234375 \r\nQ 38.140625 66.40625 31.78125 66.40625 \r\nQ 25.390625 66.40625 21.84375 63.234375 \r\nQ 18.3125 60.0625 18.3125 54.390625 \r\nz\r\n\" id=\"DejaVuSans-56\"/>\r\n      </defs>\r\n      <g transform=\"translate(96.026989 239.238437)scale(0.1 -0.1)\">\r\n       <use xlink:href=\"#DejaVuSans-49\"/>\r\n       <use x=\"63.623047\" xlink:href=\"#DejaVuSans-57\"/>\r\n       <use x=\"127.246094\" xlink:href=\"#DejaVuSans-56\"/>\r\n       <use x=\"190.869141\" xlink:href=\"#DejaVuSans-48\"/>\r\n      </g>\r\n     </g>\r\n    </g>\r\n    <g id=\"xtick_3\">\r\n     <g id=\"line2d_5\">\r\n      <path clip-path=\"url(#p03ca66e2f6)\" d=\"M 172.16108 224.64 \r\nL 172.16108 7.2 \r\n\" style=\"fill:none;stroke:#b0b0b0;stroke-linecap:square;stroke-width:0.8;\"/>\r\n     </g>\r\n     <g id=\"line2d_6\">\r\n      <g>\r\n       <use style=\"stroke:#000000;stroke-width:0.8;\" x=\"172.16108\" xlink:href=\"#m7b8612817d\" y=\"224.64\"/>\r\n      </g>\r\n     </g>\r\n     <g id=\"text_3\">\r\n      <!-- 1990 -->\r\n      <g transform=\"translate(159.43608 239.238437)scale(0.1 -0.1)\">\r\n       <use xlink:href=\"#DejaVuSans-49\"/>\r\n       <use x=\"63.623047\" xlink:href=\"#DejaVuSans-57\"/>\r\n       <use x=\"127.246094\" xlink:href=\"#DejaVuSans-57\"/>\r\n       <use x=\"190.869141\" xlink:href=\"#DejaVuSans-48\"/>\r\n      </g>\r\n     </g>\r\n    </g>\r\n    <g id=\"xtick_4\">\r\n     <g id=\"line2d_7\">\r\n      <path clip-path=\"url(#p03ca66e2f6)\" d=\"M 235.57017 224.64 \r\nL 235.57017 7.2 \r\n\" style=\"fill:none;stroke:#b0b0b0;stroke-linecap:square;stroke-width:0.8;\"/>\r\n     </g>\r\n     <g id=\"line2d_8\">\r\n      <g>\r\n       <use style=\"stroke:#000000;stroke-width:0.8;\" x=\"235.57017\" xlink:href=\"#m7b8612817d\" y=\"224.64\"/>\r\n      </g>\r\n     </g>\r\n     <g id=\"text_4\">\r\n      <!-- 2000 -->\r\n      <defs>\r\n       <path d=\"M 19.1875 8.296875 \r\nL 53.609375 8.296875 \r\nL 53.609375 0 \r\nL 7.328125 0 \r\nL 7.328125 8.296875 \r\nQ 12.9375 14.109375 22.625 23.890625 \r\nQ 32.328125 33.6875 34.8125 36.53125 \r\nQ 39.546875 41.84375 41.421875 45.53125 \r\nQ 43.3125 49.21875 43.3125 52.78125 \r\nQ 43.3125 58.59375 39.234375 62.25 \r\nQ 35.15625 65.921875 28.609375 65.921875 \r\nQ 23.96875 65.921875 18.8125 64.3125 \r\nQ 13.671875 62.703125 7.8125 59.421875 \r\nL 7.8125 69.390625 \r\nQ 13.765625 71.78125 18.9375 73 \r\nQ 24.125 74.21875 28.421875 74.21875 \r\nQ 39.75 74.21875 46.484375 68.546875 \r\nQ 53.21875 62.890625 53.21875 53.421875 \r\nQ 53.21875 48.921875 51.53125 44.890625 \r\nQ 49.859375 40.875 45.40625 35.40625 \r\nQ 44.1875 33.984375 37.640625 27.21875 \r\nQ 31.109375 20.453125 19.1875 8.296875 \r\nz\r\n\" id=\"DejaVuSans-50\"/>\r\n      </defs>\r\n      <g transform=\"translate(222.84517 239.238437)scale(0.1 -0.1)\">\r\n       <use xlink:href=\"#DejaVuSans-50\"/>\r\n       <use x=\"63.623047\" xlink:href=\"#DejaVuSans-48\"/>\r\n       <use x=\"127.246094\" xlink:href=\"#DejaVuSans-48\"/>\r\n       <use x=\"190.869141\" xlink:href=\"#DejaVuSans-48\"/>\r\n      </g>\r\n     </g>\r\n    </g>\r\n    <g id=\"xtick_5\">\r\n     <g id=\"line2d_9\">\r\n      <path clip-path=\"url(#p03ca66e2f6)\" d=\"M 298.979261 224.64 \r\nL 298.979261 7.2 \r\n\" style=\"fill:none;stroke:#b0b0b0;stroke-linecap:square;stroke-width:0.8;\"/>\r\n     </g>\r\n     <g id=\"line2d_10\">\r\n      <g>\r\n       <use style=\"stroke:#000000;stroke-width:0.8;\" x=\"298.979261\" xlink:href=\"#m7b8612817d\" y=\"224.64\"/>\r\n      </g>\r\n     </g>\r\n     <g id=\"text_5\">\r\n      <!-- 2010 -->\r\n      <g transform=\"translate(286.254261 239.238437)scale(0.1 -0.1)\">\r\n       <use xlink:href=\"#DejaVuSans-50\"/>\r\n       <use x=\"63.623047\" xlink:href=\"#DejaVuSans-48\"/>\r\n       <use x=\"127.246094\" xlink:href=\"#DejaVuSans-49\"/>\r\n       <use x=\"190.869141\" xlink:href=\"#DejaVuSans-48\"/>\r\n      </g>\r\n     </g>\r\n    </g>\r\n    <g id=\"xtick_6\">\r\n     <g id=\"line2d_11\">\r\n      <path clip-path=\"url(#p03ca66e2f6)\" d=\"M 362.388352 224.64 \r\nL 362.388352 7.2 \r\n\" style=\"fill:none;stroke:#b0b0b0;stroke-linecap:square;stroke-width:0.8;\"/>\r\n     </g>\r\n     <g id=\"line2d_12\">\r\n      <g>\r\n       <use style=\"stroke:#000000;stroke-width:0.8;\" x=\"362.388352\" xlink:href=\"#m7b8612817d\" y=\"224.64\"/>\r\n      </g>\r\n     </g>\r\n     <g id=\"text_6\">\r\n      <!-- 2020 -->\r\n      <g transform=\"translate(349.663352 239.238437)scale(0.1 -0.1)\">\r\n       <use xlink:href=\"#DejaVuSans-50\"/>\r\n       <use x=\"63.623047\" xlink:href=\"#DejaVuSans-48\"/>\r\n       <use x=\"127.246094\" xlink:href=\"#DejaVuSans-50\"/>\r\n       <use x=\"190.869141\" xlink:href=\"#DejaVuSans-48\"/>\r\n      </g>\r\n     </g>\r\n    </g>\r\n   </g>\r\n   <g id=\"matplotlib.axis_2\">\r\n    <g id=\"ytick_1\">\r\n     <g id=\"line2d_13\">\r\n      <path clip-path=\"url(#p03ca66e2f6)\" d=\"M 36.465625 224.64 \r\nL 371.265625 224.64 \r\n\" style=\"fill:none;stroke:#b0b0b0;stroke-linecap:square;stroke-width:0.8;\"/>\r\n     </g>\r\n     <g id=\"line2d_14\">\r\n      <defs>\r\n       <path d=\"M 0 0 \r\nL -3.5 0 \r\n\" id=\"mca99c343dd\" style=\"stroke:#000000;stroke-width:0.8;\"/>\r\n      </defs>\r\n      <g>\r\n       <use style=\"stroke:#000000;stroke-width:0.8;\" x=\"36.465625\" xlink:href=\"#mca99c343dd\" y=\"224.64\"/>\r\n      </g>\r\n     </g>\r\n     <g id=\"text_7\">\r\n      <!-- 0.0 -->\r\n      <defs>\r\n       <path d=\"M 10.6875 12.40625 \r\nL 21 12.40625 \r\nL 21 0 \r\nL 10.6875 0 \r\nz\r\n\" id=\"DejaVuSans-46\"/>\r\n      </defs>\r\n      <g transform=\"translate(13.5625 228.439219)scale(0.1 -0.1)\">\r\n       <use xlink:href=\"#DejaVuSans-48\"/>\r\n       <use x=\"63.623047\" xlink:href=\"#DejaVuSans-46\"/>\r\n       <use x=\"95.410156\" xlink:href=\"#DejaVuSans-48\"/>\r\n      </g>\r\n     </g>\r\n    </g>\r\n    <g id=\"ytick_2\">\r\n     <g id=\"line2d_15\">\r\n      <path clip-path=\"url(#p03ca66e2f6)\" d=\"M 36.465625 197.39188 \r\nL 371.265625 197.39188 \r\n\" style=\"fill:none;stroke:#b0b0b0;stroke-linecap:square;stroke-width:0.8;\"/>\r\n     </g>\r\n     <g id=\"line2d_16\">\r\n      <g>\r\n       <use style=\"stroke:#000000;stroke-width:0.8;\" x=\"36.465625\" xlink:href=\"#mca99c343dd\" y=\"197.39188\"/>\r\n      </g>\r\n     </g>\r\n     <g id=\"text_8\">\r\n      <!-- 2.5 -->\r\n      <defs>\r\n       <path d=\"M 10.796875 72.90625 \r\nL 49.515625 72.90625 \r\nL 49.515625 64.59375 \r\nL 19.828125 64.59375 \r\nL 19.828125 46.734375 \r\nQ 21.96875 47.46875 24.109375 47.828125 \r\nQ 26.265625 48.1875 28.421875 48.1875 \r\nQ 40.625 48.1875 47.75 41.5 \r\nQ 54.890625 34.8125 54.890625 23.390625 \r\nQ 54.890625 11.625 47.5625 5.09375 \r\nQ 40.234375 -1.421875 26.90625 -1.421875 \r\nQ 22.3125 -1.421875 17.546875 -0.640625 \r\nQ 12.796875 0.140625 7.71875 1.703125 \r\nL 7.71875 11.625 \r\nQ 12.109375 9.234375 16.796875 8.0625 \r\nQ 21.484375 6.890625 26.703125 6.890625 \r\nQ 35.15625 6.890625 40.078125 11.328125 \r\nQ 45.015625 15.765625 45.015625 23.390625 \r\nQ 45.015625 31 40.078125 35.4375 \r\nQ 35.15625 39.890625 26.703125 39.890625 \r\nQ 22.75 39.890625 18.8125 39.015625 \r\nQ 14.890625 38.140625 10.796875 36.28125 \r\nz\r\n\" id=\"DejaVuSans-53\"/>\r\n      </defs>\r\n      <g transform=\"translate(13.5625 201.191098)scale(0.1 -0.1)\">\r\n       <use xlink:href=\"#DejaVuSans-50\"/>\r\n       <use x=\"63.623047\" xlink:href=\"#DejaVuSans-46\"/>\r\n       <use x=\"95.410156\" xlink:href=\"#DejaVuSans-53\"/>\r\n      </g>\r\n     </g>\r\n    </g>\r\n    <g id=\"ytick_3\">\r\n     <g id=\"line2d_17\">\r\n      <path clip-path=\"url(#p03ca66e2f6)\" d=\"M 36.465625 170.143759 \r\nL 371.265625 170.143759 \r\n\" style=\"fill:none;stroke:#b0b0b0;stroke-linecap:square;stroke-width:0.8;\"/>\r\n     </g>\r\n     <g id=\"line2d_18\">\r\n      <g>\r\n       <use style=\"stroke:#000000;stroke-width:0.8;\" x=\"36.465625\" xlink:href=\"#mca99c343dd\" y=\"170.143759\"/>\r\n      </g>\r\n     </g>\r\n     <g id=\"text_9\">\r\n      <!-- 5.0 -->\r\n      <g transform=\"translate(13.5625 173.942978)scale(0.1 -0.1)\">\r\n       <use xlink:href=\"#DejaVuSans-53\"/>\r\n       <use x=\"63.623047\" xlink:href=\"#DejaVuSans-46\"/>\r\n       <use x=\"95.410156\" xlink:href=\"#DejaVuSans-48\"/>\r\n      </g>\r\n     </g>\r\n    </g>\r\n    <g id=\"ytick_4\">\r\n     <g id=\"line2d_19\">\r\n      <path clip-path=\"url(#p03ca66e2f6)\" d=\"M 36.465625 142.895639 \r\nL 371.265625 142.895639 \r\n\" style=\"fill:none;stroke:#b0b0b0;stroke-linecap:square;stroke-width:0.8;\"/>\r\n     </g>\r\n     <g id=\"line2d_20\">\r\n      <g>\r\n       <use style=\"stroke:#000000;stroke-width:0.8;\" x=\"36.465625\" xlink:href=\"#mca99c343dd\" y=\"142.895639\"/>\r\n      </g>\r\n     </g>\r\n     <g id=\"text_10\">\r\n      <!-- 7.5 -->\r\n      <g transform=\"translate(13.5625 146.694858)scale(0.1 -0.1)\">\r\n       <use xlink:href=\"#DejaVuSans-55\"/>\r\n       <use x=\"63.623047\" xlink:href=\"#DejaVuSans-46\"/>\r\n       <use x=\"95.410156\" xlink:href=\"#DejaVuSans-53\"/>\r\n      </g>\r\n     </g>\r\n    </g>\r\n    <g id=\"ytick_5\">\r\n     <g id=\"line2d_21\">\r\n      <path clip-path=\"url(#p03ca66e2f6)\" d=\"M 36.465625 115.647519 \r\nL 371.265625 115.647519 \r\n\" style=\"fill:none;stroke:#b0b0b0;stroke-linecap:square;stroke-width:0.8;\"/>\r\n     </g>\r\n     <g id=\"line2d_22\">\r\n      <g>\r\n       <use style=\"stroke:#000000;stroke-width:0.8;\" x=\"36.465625\" xlink:href=\"#mca99c343dd\" y=\"115.647519\"/>\r\n      </g>\r\n     </g>\r\n     <g id=\"text_11\">\r\n      <!-- 10.0 -->\r\n      <g transform=\"translate(7.2 119.446738)scale(0.1 -0.1)\">\r\n       <use xlink:href=\"#DejaVuSans-49\"/>\r\n       <use x=\"63.623047\" xlink:href=\"#DejaVuSans-48\"/>\r\n       <use x=\"127.246094\" xlink:href=\"#DejaVuSans-46\"/>\r\n       <use x=\"159.033203\" xlink:href=\"#DejaVuSans-48\"/>\r\n      </g>\r\n     </g>\r\n    </g>\r\n    <g id=\"ytick_6\">\r\n     <g id=\"line2d_23\">\r\n      <path clip-path=\"url(#p03ca66e2f6)\" d=\"M 36.465625 88.399398 \r\nL 371.265625 88.399398 \r\n\" style=\"fill:none;stroke:#b0b0b0;stroke-linecap:square;stroke-width:0.8;\"/>\r\n     </g>\r\n     <g id=\"line2d_24\">\r\n      <g>\r\n       <use style=\"stroke:#000000;stroke-width:0.8;\" x=\"36.465625\" xlink:href=\"#mca99c343dd\" y=\"88.399398\"/>\r\n      </g>\r\n     </g>\r\n     <g id=\"text_12\">\r\n      <!-- 12.5 -->\r\n      <g transform=\"translate(7.2 92.198617)scale(0.1 -0.1)\">\r\n       <use xlink:href=\"#DejaVuSans-49\"/>\r\n       <use x=\"63.623047\" xlink:href=\"#DejaVuSans-50\"/>\r\n       <use x=\"127.246094\" xlink:href=\"#DejaVuSans-46\"/>\r\n       <use x=\"159.033203\" xlink:href=\"#DejaVuSans-53\"/>\r\n      </g>\r\n     </g>\r\n    </g>\r\n    <g id=\"ytick_7\">\r\n     <g id=\"line2d_25\">\r\n      <path clip-path=\"url(#p03ca66e2f6)\" d=\"M 36.465625 61.151278 \r\nL 371.265625 61.151278 \r\n\" style=\"fill:none;stroke:#b0b0b0;stroke-linecap:square;stroke-width:0.8;\"/>\r\n     </g>\r\n     <g id=\"line2d_26\">\r\n      <g>\r\n       <use style=\"stroke:#000000;stroke-width:0.8;\" x=\"36.465625\" xlink:href=\"#mca99c343dd\" y=\"61.151278\"/>\r\n      </g>\r\n     </g>\r\n     <g id=\"text_13\">\r\n      <!-- 15.0 -->\r\n      <g transform=\"translate(7.2 64.950497)scale(0.1 -0.1)\">\r\n       <use xlink:href=\"#DejaVuSans-49\"/>\r\n       <use x=\"63.623047\" xlink:href=\"#DejaVuSans-53\"/>\r\n       <use x=\"127.246094\" xlink:href=\"#DejaVuSans-46\"/>\r\n       <use x=\"159.033203\" xlink:href=\"#DejaVuSans-48\"/>\r\n      </g>\r\n     </g>\r\n    </g>\r\n    <g id=\"ytick_8\">\r\n     <g id=\"line2d_27\">\r\n      <path clip-path=\"url(#p03ca66e2f6)\" d=\"M 36.465625 33.903158 \r\nL 371.265625 33.903158 \r\n\" style=\"fill:none;stroke:#b0b0b0;stroke-linecap:square;stroke-width:0.8;\"/>\r\n     </g>\r\n     <g id=\"line2d_28\">\r\n      <g>\r\n       <use style=\"stroke:#000000;stroke-width:0.8;\" x=\"36.465625\" xlink:href=\"#mca99c343dd\" y=\"33.903158\"/>\r\n      </g>\r\n     </g>\r\n     <g id=\"text_14\">\r\n      <!-- 17.5 -->\r\n      <g transform=\"translate(7.2 37.702377)scale(0.1 -0.1)\">\r\n       <use xlink:href=\"#DejaVuSans-49\"/>\r\n       <use x=\"63.623047\" xlink:href=\"#DejaVuSans-55\"/>\r\n       <use x=\"127.246094\" xlink:href=\"#DejaVuSans-46\"/>\r\n       <use x=\"159.033203\" xlink:href=\"#DejaVuSans-53\"/>\r\n      </g>\r\n     </g>\r\n    </g>\r\n   </g>\r\n   <g id=\"patch_13\">\r\n    <path d=\"M 36.465625 224.64 \r\nL 36.465625 7.2 \r\n\" style=\"fill:none;stroke:#000000;stroke-linecap:square;stroke-linejoin:miter;stroke-width:0.8;\"/>\r\n   </g>\r\n   <g id=\"patch_14\">\r\n    <path d=\"M 371.265625 224.64 \r\nL 371.265625 7.2 \r\n\" style=\"fill:none;stroke:#000000;stroke-linecap:square;stroke-linejoin:miter;stroke-width:0.8;\"/>\r\n   </g>\r\n   <g id=\"patch_15\">\r\n    <path d=\"M 36.465625 224.64 \r\nL 371.265625 224.64 \r\n\" style=\"fill:none;stroke:#000000;stroke-linecap:square;stroke-linejoin:miter;stroke-width:0.8;\"/>\r\n   </g>\r\n   <g id=\"patch_16\">\r\n    <path d=\"M 36.465625 7.2 \r\nL 371.265625 7.2 \r\n\" style=\"fill:none;stroke:#000000;stroke-linecap:square;stroke-linejoin:miter;stroke-width:0.8;\"/>\r\n   </g>\r\n  </g>\r\n </g>\r\n <defs>\r\n  <clipPath id=\"p03ca66e2f6\">\r\n   <rect height=\"217.44\" width=\"334.8\" x=\"36.465625\" y=\"7.2\"/>\r\n  </clipPath>\r\n </defs>\r\n</svg>\r\n",
      "image/png": "[encoded data removed]"
     },
     "metadata": {
      "needs_background": "light"
     }
    }
   ],
   "source": [
    "best_films[\"startYear\"].hist()"
   ]
  },
  {
   "cell_type": "code",
   "execution_count": 102,
   "metadata": {},
   "outputs": [
    {
     "output_type": "execute_result",
     "data": {
      "text/plain": [
       "<matplotlib.axes._subplots.AxesSubplot at 0x17d3d7fb760>"
      ]
     },
     "metadata": {},
     "execution_count": 102
    },
    {
     "output_type": "display_data",
     "data": {
      "text/plain": "<Figure size 432x288 with 1 Axes>",
      "image/svg+xml": "<?xml version=\"1.0\" encoding=\"utf-8\" standalone=\"no\"?>\r\n<!DOCTYPE svg PUBLIC \"-//W3C//DTD SVG 1.1//EN\"\r\n  \"http://www.w3.org/Graphics/SVG/1.1/DTD/svg11.dtd\">\r\n<!-- Created with matplotlib (https://matplotlib.org/) -->\r\n<svg height=\"249.103945pt\" version=\"1.1\" viewBox=\"0 0 383.184323 249.103945\" width=\"383.184323pt\" xmlns=\"http://www.w3.org/2000/svg\" xmlns:xlink=\"http://www.w3.org/1999/xlink\">\r\n <defs>\r\n  <style type=\"text/css\">\r\n*{stroke-linecap:butt;stroke-linejoin:round;}\r\n  </style>\r\n </defs>\r\n <g id=\"figure_1\">\r\n  <g id=\"patch_1\">\r\n   <path d=\"M 0 249.103945 \r\nL 383.184323 249.103945 \r\nL 383.184323 0 \r\nL 0 0 \r\nz\r\n\" style=\"fill:none;\"/>\r\n  </g>\r\n  <g id=\"axes_1\">\r\n   <g id=\"patch_2\">\r\n    <path d=\"M 40.603125 225.22582 \r\nL 375.403125 225.22582 \r\nL 375.403125 7.78582 \r\nL 40.603125 7.78582 \r\nz\r\n\" style=\"fill:#ffffff;\"/>\r\n   </g>\r\n   <g id=\"patch_3\">\r\n    <path clip-path=\"url(#pee74d78579)\" d=\"M 55.821307 225.22582 \r\nL 93.866761 225.22582 \r\nL 93.866761 207.373603 \r\nL 55.821307 207.373603 \r\nz\r\n\" style=\"fill:#1f77b4;fill-opacity:0.75;stroke:#000000;stroke-linejoin:miter;\"/>\r\n   </g>\r\n   <g id=\"patch_4\">\r\n    <path clip-path=\"url(#pee74d78579)\" d=\"M 93.866761 225.22582 \r\nL 131.912216 225.22582 \r\nL 131.912216 160.957839 \r\nL 93.866761 160.957839 \r\nz\r\n\" style=\"fill:#1f77b4;fill-opacity:0.75;stroke:#000000;stroke-linejoin:miter;\"/>\r\n   </g>\r\n   <g id=\"patch_5\">\r\n    <path clip-path=\"url(#pee74d78579)\" d=\"M 131.912216 225.22582 \r\nL 169.95767 225.22582 \r\nL 169.95767 196.662273 \r\nL 131.912216 196.662273 \r\nz\r\n\" style=\"fill:#1f77b4;fill-opacity:0.75;stroke:#000000;stroke-linejoin:miter;\"/>\r\n   </g>\r\n   <g id=\"patch_6\">\r\n    <path clip-path=\"url(#pee74d78579)\" d=\"M 169.95767 225.22582 \r\nL 208.003125 225.22582 \r\nL 208.003125 210.944046 \r\nL 169.95767 210.944046 \r\nz\r\n\" style=\"fill:#1f77b4;fill-opacity:0.75;stroke:#000000;stroke-linejoin:miter;\"/>\r\n   </g>\r\n   <g id=\"patch_7\">\r\n    <path clip-path=\"url(#pee74d78579)\" d=\"M 208.003125 225.22582 \r\nL 246.04858 225.22582 \r\nL 246.04858 207.373603 \r\nL 208.003125 207.373603 \r\nz\r\n\" style=\"fill:#1f77b4;fill-opacity:0.75;stroke:#000000;stroke-linejoin:miter;\"/>\r\n   </g>\r\n   <g id=\"patch_8\">\r\n    <path clip-path=\"url(#pee74d78579)\" d=\"M 246.04858 225.22582 \r\nL 284.094034 225.22582 \r\nL 284.094034 221.655376 \r\nL 246.04858 221.655376 \r\nz\r\n\" style=\"fill:#1f77b4;fill-opacity:0.75;stroke:#000000;stroke-linejoin:miter;\"/>\r\n   </g>\r\n   <g id=\"patch_9\">\r\n    <path clip-path=\"url(#pee74d78579)\" d=\"M 284.094034 225.22582 \r\nL 322.139489 225.22582 \r\nL 322.139489 221.655376 \r\nL 284.094034 221.655376 \r\nz\r\n\" style=\"fill:#1f77b4;fill-opacity:0.75;stroke:#000000;stroke-linejoin:miter;\"/>\r\n   </g>\r\n   <g id=\"patch_10\">\r\n    <path clip-path=\"url(#pee74d78579)\" d=\"M 322.139489 225.22582 \r\nL 360.184943 225.22582 \r\nL 360.184943 18.140105 \r\nL 322.139489 18.140105 \r\nz\r\n\" style=\"fill:#1f77b4;fill-opacity:0.75;stroke:#000000;stroke-linejoin:miter;\"/>\r\n   </g>\r\n   <g id=\"matplotlib.axis_1\">\r\n    <g id=\"xtick_1\">\r\n     <g id=\"line2d_1\">\r\n      <defs>\r\n       <path d=\"M 0 0 \r\nL 0 3.5 \r\n\" id=\"m491df17a2a\" style=\"stroke:#000000;stroke-width:0.8;\"/>\r\n      </defs>\r\n      <g>\r\n       <use style=\"stroke:#000000;stroke-width:0.8;\" x=\"55.821307\" xlink:href=\"#m491df17a2a\" y=\"225.22582\"/>\r\n      </g>\r\n     </g>\r\n     <g id=\"text_1\">\r\n      <!-- 1920 -->\r\n      <defs>\r\n       <path d=\"M 12.40625 8.296875 \r\nL 28.515625 8.296875 \r\nL 28.515625 63.921875 \r\nL 10.984375 60.40625 \r\nL 10.984375 69.390625 \r\nL 28.421875 72.90625 \r\nL 38.28125 72.90625 \r\nL 38.28125 8.296875 \r\nL 54.390625 8.296875 \r\nL 54.390625 0 \r\nL 12.40625 0 \r\nz\r\n\" id=\"DejaVuSans-49\"/>\r\n       <path d=\"M 10.984375 1.515625 \r\nL 10.984375 10.5 \r\nQ 14.703125 8.734375 18.5 7.8125 \r\nQ 22.3125 6.890625 25.984375 6.890625 \r\nQ 35.75 6.890625 40.890625 13.453125 \r\nQ 46.046875 20.015625 46.78125 33.40625 \r\nQ 43.953125 29.203125 39.59375 26.953125 \r\nQ 35.25 24.703125 29.984375 24.703125 \r\nQ 19.046875 24.703125 12.671875 31.3125 \r\nQ 6.296875 37.9375 6.296875 49.421875 \r\nQ 6.296875 60.640625 12.9375 67.421875 \r\nQ 19.578125 74.21875 30.609375 74.21875 \r\nQ 43.265625 74.21875 49.921875 64.515625 \r\nQ 56.59375 54.828125 56.59375 36.375 \r\nQ 56.59375 19.140625 48.40625 8.859375 \r\nQ 40.234375 -1.421875 26.421875 -1.421875 \r\nQ 22.703125 -1.421875 18.890625 -0.6875 \r\nQ 15.09375 0.046875 10.984375 1.515625 \r\nz\r\nM 30.609375 32.421875 \r\nQ 37.25 32.421875 41.125 36.953125 \r\nQ 45.015625 41.5 45.015625 49.421875 \r\nQ 45.015625 57.28125 41.125 61.84375 \r\nQ 37.25 66.40625 30.609375 66.40625 \r\nQ 23.96875 66.40625 20.09375 61.84375 \r\nQ 16.21875 57.28125 16.21875 49.421875 \r\nQ 16.21875 41.5 20.09375 36.953125 \r\nQ 23.96875 32.421875 30.609375 32.421875 \r\nz\r\n\" id=\"DejaVuSans-57\"/>\r\n       <path d=\"M 19.1875 8.296875 \r\nL 53.609375 8.296875 \r\nL 53.609375 0 \r\nL 7.328125 0 \r\nL 7.328125 8.296875 \r\nQ 12.9375 14.109375 22.625 23.890625 \r\nQ 32.328125 33.6875 34.8125 36.53125 \r\nQ 39.546875 41.84375 41.421875 45.53125 \r\nQ 43.3125 49.21875 43.3125 52.78125 \r\nQ 43.3125 58.59375 39.234375 62.25 \r\nQ 35.15625 65.921875 28.609375 65.921875 \r\nQ 23.96875 65.921875 18.8125 64.3125 \r\nQ 13.671875 62.703125 7.8125 59.421875 \r\nL 7.8125 69.390625 \r\nQ 13.765625 71.78125 18.9375 73 \r\nQ 24.125 74.21875 28.421875 74.21875 \r\nQ 39.75 74.21875 46.484375 68.546875 \r\nQ 53.21875 62.890625 53.21875 53.421875 \r\nQ 53.21875 48.921875 51.53125 44.890625 \r\nQ 49.859375 40.875 45.40625 35.40625 \r\nQ 44.1875 33.984375 37.640625 27.21875 \r\nQ 31.109375 20.453125 19.1875 8.296875 \r\nz\r\n\" id=\"DejaVuSans-50\"/>\r\n       <path d=\"M 31.78125 66.40625 \r\nQ 24.171875 66.40625 20.328125 58.90625 \r\nQ 16.5 51.421875 16.5 36.375 \r\nQ 16.5 21.390625 20.328125 13.890625 \r\nQ 24.171875 6.390625 31.78125 6.390625 \r\nQ 39.453125 6.390625 43.28125 13.890625 \r\nQ 47.125 21.390625 47.125 36.375 \r\nQ 47.125 51.421875 43.28125 58.90625 \r\nQ 39.453125 66.40625 31.78125 66.40625 \r\nz\r\nM 31.78125 74.21875 \r\nQ 44.046875 74.21875 50.515625 64.515625 \r\nQ 56.984375 54.828125 56.984375 36.375 \r\nQ 56.984375 17.96875 50.515625 8.265625 \r\nQ 44.046875 -1.421875 31.78125 -1.421875 \r\nQ 19.53125 -1.421875 13.0625 8.265625 \r\nQ 6.59375 17.96875 6.59375 36.375 \r\nQ 6.59375 54.828125 13.0625 64.515625 \r\nQ 19.53125 74.21875 31.78125 74.21875 \r\nz\r\n\" id=\"DejaVuSans-48\"/>\r\n      </defs>\r\n      <g transform=\"translate(43.096307 239.824257)scale(0.1 -0.1)\">\r\n       <use xlink:href=\"#DejaVuSans-49\"/>\r\n       <use x=\"63.623047\" xlink:href=\"#DejaVuSans-57\"/>\r\n       <use x=\"127.246094\" xlink:href=\"#DejaVuSans-50\"/>\r\n       <use x=\"190.869141\" xlink:href=\"#DejaVuSans-48\"/>\r\n      </g>\r\n     </g>\r\n    </g>\r\n    <g id=\"xtick_2\">\r\n     <g id=\"line2d_2\">\r\n      <g>\r\n       <use style=\"stroke:#000000;stroke-width:0.8;\" x=\"117.30891\" xlink:href=\"#m491df17a2a\" y=\"225.22582\"/>\r\n      </g>\r\n     </g>\r\n     <g id=\"text_2\">\r\n      <!-- 1940 -->\r\n      <defs>\r\n       <path d=\"M 37.796875 64.3125 \r\nL 12.890625 25.390625 \r\nL 37.796875 25.390625 \r\nz\r\nM 35.203125 72.90625 \r\nL 47.609375 72.90625 \r\nL 47.609375 25.390625 \r\nL 58.015625 25.390625 \r\nL 58.015625 17.1875 \r\nL 47.609375 17.1875 \r\nL 47.609375 0 \r\nL 37.796875 0 \r\nL 37.796875 17.1875 \r\nL 4.890625 17.1875 \r\nL 4.890625 26.703125 \r\nz\r\n\" id=\"DejaVuSans-52\"/>\r\n      </defs>\r\n      <g transform=\"translate(104.58391 239.824257)scale(0.1 -0.1)\">\r\n       <use xlink:href=\"#DejaVuSans-49\"/>\r\n       <use x=\"63.623047\" xlink:href=\"#DejaVuSans-57\"/>\r\n       <use x=\"127.246094\" xlink:href=\"#DejaVuSans-52\"/>\r\n       <use x=\"190.869141\" xlink:href=\"#DejaVuSans-48\"/>\r\n      </g>\r\n     </g>\r\n    </g>\r\n    <g id=\"xtick_3\">\r\n     <g id=\"line2d_3\">\r\n      <g>\r\n       <use style=\"stroke:#000000;stroke-width:0.8;\" x=\"178.796513\" xlink:href=\"#m491df17a2a\" y=\"225.22582\"/>\r\n      </g>\r\n     </g>\r\n     <g id=\"text_3\">\r\n      <!-- 1960 -->\r\n      <defs>\r\n       <path d=\"M 33.015625 40.375 \r\nQ 26.375 40.375 22.484375 35.828125 \r\nQ 18.609375 31.296875 18.609375 23.390625 \r\nQ 18.609375 15.53125 22.484375 10.953125 \r\nQ 26.375 6.390625 33.015625 6.390625 \r\nQ 39.65625 6.390625 43.53125 10.953125 \r\nQ 47.40625 15.53125 47.40625 23.390625 \r\nQ 47.40625 31.296875 43.53125 35.828125 \r\nQ 39.65625 40.375 33.015625 40.375 \r\nz\r\nM 52.59375 71.296875 \r\nL 52.59375 62.3125 \r\nQ 48.875 64.0625 45.09375 64.984375 \r\nQ 41.3125 65.921875 37.59375 65.921875 \r\nQ 27.828125 65.921875 22.671875 59.328125 \r\nQ 17.53125 52.734375 16.796875 39.40625 \r\nQ 19.671875 43.65625 24.015625 45.921875 \r\nQ 28.375 48.1875 33.59375 48.1875 \r\nQ 44.578125 48.1875 50.953125 41.515625 \r\nQ 57.328125 34.859375 57.328125 23.390625 \r\nQ 57.328125 12.15625 50.6875 5.359375 \r\nQ 44.046875 -1.421875 33.015625 -1.421875 \r\nQ 20.359375 -1.421875 13.671875 8.265625 \r\nQ 6.984375 17.96875 6.984375 36.375 \r\nQ 6.984375 53.65625 15.1875 63.9375 \r\nQ 23.390625 74.21875 37.203125 74.21875 \r\nQ 40.921875 74.21875 44.703125 73.484375 \r\nQ 48.484375 72.75 52.59375 71.296875 \r\nz\r\n\" id=\"DejaVuSans-54\"/>\r\n      </defs>\r\n      <g transform=\"translate(166.071513 239.824257)scale(0.1 -0.1)\">\r\n       <use xlink:href=\"#DejaVuSans-49\"/>\r\n       <use x=\"63.623047\" xlink:href=\"#DejaVuSans-57\"/>\r\n       <use x=\"127.246094\" xlink:href=\"#DejaVuSans-54\"/>\r\n       <use x=\"190.869141\" xlink:href=\"#DejaVuSans-48\"/>\r\n      </g>\r\n     </g>\r\n    </g>\r\n    <g id=\"xtick_4\">\r\n     <g id=\"line2d_4\">\r\n      <g>\r\n       <use style=\"stroke:#000000;stroke-width:0.8;\" x=\"240.284117\" xlink:href=\"#m491df17a2a\" y=\"225.22582\"/>\r\n      </g>\r\n     </g>\r\n     <g id=\"text_4\">\r\n      <!-- 1980 -->\r\n      <defs>\r\n       <path d=\"M 31.78125 34.625 \r\nQ 24.75 34.625 20.71875 30.859375 \r\nQ 16.703125 27.09375 16.703125 20.515625 \r\nQ 16.703125 13.921875 20.71875 10.15625 \r\nQ 24.75 6.390625 31.78125 6.390625 \r\nQ 38.8125 6.390625 42.859375 10.171875 \r\nQ 46.921875 13.96875 46.921875 20.515625 \r\nQ 46.921875 27.09375 42.890625 30.859375 \r\nQ 38.875 34.625 31.78125 34.625 \r\nz\r\nM 21.921875 38.8125 \r\nQ 15.578125 40.375 12.03125 44.71875 \r\nQ 8.5 49.078125 8.5 55.328125 \r\nQ 8.5 64.0625 14.71875 69.140625 \r\nQ 20.953125 74.21875 31.78125 74.21875 \r\nQ 42.671875 74.21875 48.875 69.140625 \r\nQ 55.078125 64.0625 55.078125 55.328125 \r\nQ 55.078125 49.078125 51.53125 44.71875 \r\nQ 48 40.375 41.703125 38.8125 \r\nQ 48.828125 37.15625 52.796875 32.3125 \r\nQ 56.78125 27.484375 56.78125 20.515625 \r\nQ 56.78125 9.90625 50.3125 4.234375 \r\nQ 43.84375 -1.421875 31.78125 -1.421875 \r\nQ 19.734375 -1.421875 13.25 4.234375 \r\nQ 6.78125 9.90625 6.78125 20.515625 \r\nQ 6.78125 27.484375 10.78125 32.3125 \r\nQ 14.796875 37.15625 21.921875 38.8125 \r\nz\r\nM 18.3125 54.390625 \r\nQ 18.3125 48.734375 21.84375 45.5625 \r\nQ 25.390625 42.390625 31.78125 42.390625 \r\nQ 38.140625 42.390625 41.71875 45.5625 \r\nQ 45.3125 48.734375 45.3125 54.390625 \r\nQ 45.3125 60.0625 41.71875 63.234375 \r\nQ 38.140625 66.40625 31.78125 66.40625 \r\nQ 25.390625 66.40625 21.84375 63.234375 \r\nQ 18.3125 60.0625 18.3125 54.390625 \r\nz\r\n\" id=\"DejaVuSans-56\"/>\r\n      </defs>\r\n      <g transform=\"translate(227.559117 239.824257)scale(0.1 -0.1)\">\r\n       <use xlink:href=\"#DejaVuSans-49\"/>\r\n       <use x=\"63.623047\" xlink:href=\"#DejaVuSans-57\"/>\r\n       <use x=\"127.246094\" xlink:href=\"#DejaVuSans-56\"/>\r\n       <use x=\"190.869141\" xlink:href=\"#DejaVuSans-48\"/>\r\n      </g>\r\n     </g>\r\n    </g>\r\n    <g id=\"xtick_5\">\r\n     <g id=\"line2d_5\">\r\n      <g>\r\n       <use style=\"stroke:#000000;stroke-width:0.8;\" x=\"301.77172\" xlink:href=\"#m491df17a2a\" y=\"225.22582\"/>\r\n      </g>\r\n     </g>\r\n     <g id=\"text_5\">\r\n      <!-- 2000 -->\r\n      <g transform=\"translate(289.04672 239.824257)scale(0.1 -0.1)\">\r\n       <use xlink:href=\"#DejaVuSans-50\"/>\r\n       <use x=\"63.623047\" xlink:href=\"#DejaVuSans-48\"/>\r\n       <use x=\"127.246094\" xlink:href=\"#DejaVuSans-48\"/>\r\n       <use x=\"190.869141\" xlink:href=\"#DejaVuSans-48\"/>\r\n      </g>\r\n     </g>\r\n    </g>\r\n    <g id=\"xtick_6\">\r\n     <g id=\"line2d_6\">\r\n      <g>\r\n       <use style=\"stroke:#000000;stroke-width:0.8;\" x=\"363.259323\" xlink:href=\"#m491df17a2a\" y=\"225.22582\"/>\r\n      </g>\r\n     </g>\r\n     <g id=\"text_6\">\r\n      <!-- 2020 -->\r\n      <g transform=\"translate(350.534323 239.824257)scale(0.1 -0.1)\">\r\n       <use xlink:href=\"#DejaVuSans-50\"/>\r\n       <use x=\"63.623047\" xlink:href=\"#DejaVuSans-48\"/>\r\n       <use x=\"127.246094\" xlink:href=\"#DejaVuSans-50\"/>\r\n       <use x=\"190.869141\" xlink:href=\"#DejaVuSans-48\"/>\r\n      </g>\r\n     </g>\r\n    </g>\r\n   </g>\r\n   <g id=\"matplotlib.axis_2\">\r\n    <g id=\"ytick_1\">\r\n     <g id=\"line2d_7\">\r\n      <defs>\r\n       <path d=\"M 0 0 \r\nL -3.5 0 \r\n\" id=\"m29460c1644\" style=\"stroke:#000000;stroke-width:0.8;\"/>\r\n      </defs>\r\n      <g>\r\n       <use style=\"stroke:#000000;stroke-width:0.8;\" x=\"40.603125\" xlink:href=\"#m29460c1644\" y=\"225.22582\"/>\r\n      </g>\r\n     </g>\r\n     <g id=\"text_7\">\r\n      <!-- 0 -->\r\n      <g transform=\"translate(27.240625 229.025038)scale(0.1 -0.1)\">\r\n       <use xlink:href=\"#DejaVuSans-48\"/>\r\n      </g>\r\n     </g>\r\n    </g>\r\n    <g id=\"ytick_2\">\r\n     <g id=\"line2d_8\">\r\n      <g>\r\n       <use style=\"stroke:#000000;stroke-width:0.8;\" x=\"40.603125\" xlink:href=\"#m29460c1644\" y=\"189.521386\"/>\r\n      </g>\r\n     </g>\r\n     <g id=\"text_8\">\r\n      <!-- 10 -->\r\n      <g transform=\"translate(20.878125 193.320605)scale(0.1 -0.1)\">\r\n       <use xlink:href=\"#DejaVuSans-49\"/>\r\n       <use x=\"63.623047\" xlink:href=\"#DejaVuSans-48\"/>\r\n      </g>\r\n     </g>\r\n    </g>\r\n    <g id=\"ytick_3\">\r\n     <g id=\"line2d_9\">\r\n      <g>\r\n       <use style=\"stroke:#000000;stroke-width:0.8;\" x=\"40.603125\" xlink:href=\"#m29460c1644\" y=\"153.816953\"/>\r\n      </g>\r\n     </g>\r\n     <g id=\"text_9\">\r\n      <!-- 20 -->\r\n      <g transform=\"translate(20.878125 157.616171)scale(0.1 -0.1)\">\r\n       <use xlink:href=\"#DejaVuSans-50\"/>\r\n       <use x=\"63.623047\" xlink:href=\"#DejaVuSans-48\"/>\r\n      </g>\r\n     </g>\r\n    </g>\r\n    <g id=\"ytick_4\">\r\n     <g id=\"line2d_10\">\r\n      <g>\r\n       <use style=\"stroke:#000000;stroke-width:0.8;\" x=\"40.603125\" xlink:href=\"#m29460c1644\" y=\"118.112519\"/>\r\n      </g>\r\n     </g>\r\n     <g id=\"text_10\">\r\n      <!-- 30 -->\r\n      <defs>\r\n       <path d=\"M 40.578125 39.3125 \r\nQ 47.65625 37.796875 51.625 33 \r\nQ 55.609375 28.21875 55.609375 21.1875 \r\nQ 55.609375 10.40625 48.1875 4.484375 \r\nQ 40.765625 -1.421875 27.09375 -1.421875 \r\nQ 22.515625 -1.421875 17.65625 -0.515625 \r\nQ 12.796875 0.390625 7.625 2.203125 \r\nL 7.625 11.71875 \r\nQ 11.71875 9.328125 16.59375 8.109375 \r\nQ 21.484375 6.890625 26.8125 6.890625 \r\nQ 36.078125 6.890625 40.9375 10.546875 \r\nQ 45.796875 14.203125 45.796875 21.1875 \r\nQ 45.796875 27.640625 41.28125 31.265625 \r\nQ 36.765625 34.90625 28.71875 34.90625 \r\nL 20.21875 34.90625 \r\nL 20.21875 43.015625 \r\nL 29.109375 43.015625 \r\nQ 36.375 43.015625 40.234375 45.921875 \r\nQ 44.09375 48.828125 44.09375 54.296875 \r\nQ 44.09375 59.90625 40.109375 62.90625 \r\nQ 36.140625 65.921875 28.71875 65.921875 \r\nQ 24.65625 65.921875 20.015625 65.03125 \r\nQ 15.375 64.15625 9.8125 62.3125 \r\nL 9.8125 71.09375 \r\nQ 15.4375 72.65625 20.34375 73.4375 \r\nQ 25.25 74.21875 29.59375 74.21875 \r\nQ 40.828125 74.21875 47.359375 69.109375 \r\nQ 53.90625 64.015625 53.90625 55.328125 \r\nQ 53.90625 49.265625 50.4375 45.09375 \r\nQ 46.96875 40.921875 40.578125 39.3125 \r\nz\r\n\" id=\"DejaVuSans-51\"/>\r\n      </defs>\r\n      <g transform=\"translate(20.878125 121.911738)scale(0.1 -0.1)\">\r\n       <use xlink:href=\"#DejaVuSans-51\"/>\r\n       <use x=\"63.623047\" xlink:href=\"#DejaVuSans-48\"/>\r\n      </g>\r\n     </g>\r\n    </g>\r\n    <g id=\"ytick_5\">\r\n     <g id=\"line2d_11\">\r\n      <g>\r\n       <use style=\"stroke:#000000;stroke-width:0.8;\" x=\"40.603125\" xlink:href=\"#m29460c1644\" y=\"82.408086\"/>\r\n      </g>\r\n     </g>\r\n     <g id=\"text_11\">\r\n      <!-- 40 -->\r\n      <g transform=\"translate(20.878125 86.207304)scale(0.1 -0.1)\">\r\n       <use xlink:href=\"#DejaVuSans-52\"/>\r\n       <use x=\"63.623047\" xlink:href=\"#DejaVuSans-48\"/>\r\n      </g>\r\n     </g>\r\n    </g>\r\n    <g id=\"ytick_6\">\r\n     <g id=\"line2d_12\">\r\n      <g>\r\n       <use style=\"stroke:#000000;stroke-width:0.8;\" x=\"40.603125\" xlink:href=\"#m29460c1644\" y=\"46.703652\"/>\r\n      </g>\r\n     </g>\r\n     <g id=\"text_12\">\r\n      <!-- 50 -->\r\n      <defs>\r\n       <path d=\"M 10.796875 72.90625 \r\nL 49.515625 72.90625 \r\nL 49.515625 64.59375 \r\nL 19.828125 64.59375 \r\nL 19.828125 46.734375 \r\nQ 21.96875 47.46875 24.109375 47.828125 \r\nQ 26.265625 48.1875 28.421875 48.1875 \r\nQ 40.625 48.1875 47.75 41.5 \r\nQ 54.890625 34.8125 54.890625 23.390625 \r\nQ 54.890625 11.625 47.5625 5.09375 \r\nQ 40.234375 -1.421875 26.90625 -1.421875 \r\nQ 22.3125 -1.421875 17.546875 -0.640625 \r\nQ 12.796875 0.140625 7.71875 1.703125 \r\nL 7.71875 11.625 \r\nQ 12.109375 9.234375 16.796875 8.0625 \r\nQ 21.484375 6.890625 26.703125 6.890625 \r\nQ 35.15625 6.890625 40.078125 11.328125 \r\nQ 45.015625 15.765625 45.015625 23.390625 \r\nQ 45.015625 31 40.078125 35.4375 \r\nQ 35.15625 39.890625 26.703125 39.890625 \r\nQ 22.75 39.890625 18.8125 39.015625 \r\nQ 14.890625 38.140625 10.796875 36.28125 \r\nz\r\n\" id=\"DejaVuSans-53\"/>\r\n      </defs>\r\n      <g transform=\"translate(20.878125 50.502871)scale(0.1 -0.1)\">\r\n       <use xlink:href=\"#DejaVuSans-53\"/>\r\n       <use x=\"63.623047\" xlink:href=\"#DejaVuSans-48\"/>\r\n      </g>\r\n     </g>\r\n    </g>\r\n    <g id=\"ytick_7\">\r\n     <g id=\"line2d_13\">\r\n      <g>\r\n       <use style=\"stroke:#000000;stroke-width:0.8;\" x=\"40.603125\" xlink:href=\"#m29460c1644\" y=\"10.999219\"/>\r\n      </g>\r\n     </g>\r\n     <g id=\"text_13\">\r\n      <!-- 60 -->\r\n      <g transform=\"translate(20.878125 14.798437)scale(0.1 -0.1)\">\r\n       <use xlink:href=\"#DejaVuSans-54\"/>\r\n       <use x=\"63.623047\" xlink:href=\"#DejaVuSans-48\"/>\r\n      </g>\r\n     </g>\r\n    </g>\r\n    <g id=\"text_14\">\r\n     <!-- Count -->\r\n     <defs>\r\n      <path d=\"M 64.40625 67.28125 \r\nL 64.40625 56.890625 \r\nQ 59.421875 61.53125 53.78125 63.8125 \r\nQ 48.140625 66.109375 41.796875 66.109375 \r\nQ 29.296875 66.109375 22.65625 58.46875 \r\nQ 16.015625 50.828125 16.015625 36.375 \r\nQ 16.015625 21.96875 22.65625 14.328125 \r\nQ 29.296875 6.6875 41.796875 6.6875 \r\nQ 48.140625 6.6875 53.78125 8.984375 \r\nQ 59.421875 11.28125 64.40625 15.921875 \r\nL 64.40625 5.609375 \r\nQ 59.234375 2.09375 53.4375 0.328125 \r\nQ 47.65625 -1.421875 41.21875 -1.421875 \r\nQ 24.65625 -1.421875 15.125 8.703125 \r\nQ 5.609375 18.84375 5.609375 36.375 \r\nQ 5.609375 53.953125 15.125 64.078125 \r\nQ 24.65625 74.21875 41.21875 74.21875 \r\nQ 47.75 74.21875 53.53125 72.484375 \r\nQ 59.328125 70.75 64.40625 67.28125 \r\nz\r\n\" id=\"DejaVuSans-67\"/>\r\n      <path d=\"M 30.609375 48.390625 \r\nQ 23.390625 48.390625 19.1875 42.75 \r\nQ 14.984375 37.109375 14.984375 27.296875 \r\nQ 14.984375 17.484375 19.15625 11.84375 \r\nQ 23.34375 6.203125 30.609375 6.203125 \r\nQ 37.796875 6.203125 41.984375 11.859375 \r\nQ 46.1875 17.53125 46.1875 27.296875 \r\nQ 46.1875 37.015625 41.984375 42.703125 \r\nQ 37.796875 48.390625 30.609375 48.390625 \r\nz\r\nM 30.609375 56 \r\nQ 42.328125 56 49.015625 48.375 \r\nQ 55.71875 40.765625 55.71875 27.296875 \r\nQ 55.71875 13.875 49.015625 6.21875 \r\nQ 42.328125 -1.421875 30.609375 -1.421875 \r\nQ 18.84375 -1.421875 12.171875 6.21875 \r\nQ 5.515625 13.875 5.515625 27.296875 \r\nQ 5.515625 40.765625 12.171875 48.375 \r\nQ 18.84375 56 30.609375 56 \r\nz\r\n\" id=\"DejaVuSans-111\"/>\r\n      <path d=\"M 8.5 21.578125 \r\nL 8.5 54.6875 \r\nL 17.484375 54.6875 \r\nL 17.484375 21.921875 \r\nQ 17.484375 14.15625 20.5 10.265625 \r\nQ 23.53125 6.390625 29.59375 6.390625 \r\nQ 36.859375 6.390625 41.078125 11.03125 \r\nQ 45.3125 15.671875 45.3125 23.6875 \r\nL 45.3125 54.6875 \r\nL 54.296875 54.6875 \r\nL 54.296875 0 \r\nL 45.3125 0 \r\nL 45.3125 8.40625 \r\nQ 42.046875 3.421875 37.71875 1 \r\nQ 33.40625 -1.421875 27.6875 -1.421875 \r\nQ 18.265625 -1.421875 13.375 4.4375 \r\nQ 8.5 10.296875 8.5 21.578125 \r\nz\r\nM 31.109375 56 \r\nz\r\n\" id=\"DejaVuSans-117\"/>\r\n      <path d=\"M 54.890625 33.015625 \r\nL 54.890625 0 \r\nL 45.90625 0 \r\nL 45.90625 32.71875 \r\nQ 45.90625 40.484375 42.875 44.328125 \r\nQ 39.84375 48.1875 33.796875 48.1875 \r\nQ 26.515625 48.1875 22.3125 43.546875 \r\nQ 18.109375 38.921875 18.109375 30.90625 \r\nL 18.109375 0 \r\nL 9.078125 0 \r\nL 9.078125 54.6875 \r\nL 18.109375 54.6875 \r\nL 18.109375 46.1875 \r\nQ 21.34375 51.125 25.703125 53.5625 \r\nQ 30.078125 56 35.796875 56 \r\nQ 45.21875 56 50.046875 50.171875 \r\nQ 54.890625 44.34375 54.890625 33.015625 \r\nz\r\n\" id=\"DejaVuSans-110\"/>\r\n      <path d=\"M 18.3125 70.21875 \r\nL 18.3125 54.6875 \r\nL 36.8125 54.6875 \r\nL 36.8125 47.703125 \r\nL 18.3125 47.703125 \r\nL 18.3125 18.015625 \r\nQ 18.3125 11.328125 20.140625 9.421875 \r\nQ 21.96875 7.515625 27.59375 7.515625 \r\nL 36.8125 7.515625 \r\nL 36.8125 0 \r\nL 27.59375 0 \r\nQ 17.1875 0 13.234375 3.875 \r\nQ 9.28125 7.765625 9.28125 18.015625 \r\nL 9.28125 47.703125 \r\nL 2.6875 47.703125 \r\nL 2.6875 54.6875 \r\nL 9.28125 54.6875 \r\nL 9.28125 70.21875 \r\nz\r\n\" id=\"DejaVuSans-116\"/>\r\n     </defs>\r\n     <g transform=\"translate(14.798438 131.354257)rotate(-90)scale(0.1 -0.1)\">\r\n      <use xlink:href=\"#DejaVuSans-67\"/>\r\n      <use x=\"69.824219\" xlink:href=\"#DejaVuSans-111\"/>\r\n      <use x=\"131.005859\" xlink:href=\"#DejaVuSans-117\"/>\r\n      <use x=\"194.384766\" xlink:href=\"#DejaVuSans-110\"/>\r\n      <use x=\"257.763672\" xlink:href=\"#DejaVuSans-116\"/>\r\n     </g>\r\n    </g>\r\n   </g>\r\n   <g id=\"patch_11\">\r\n    <path d=\"M 40.603125 225.22582 \r\nL 40.603125 7.78582 \r\n\" style=\"fill:none;stroke:#000000;stroke-linecap:square;stroke-linejoin:miter;stroke-width:0.8;\"/>\r\n   </g>\r\n   <g id=\"patch_12\">\r\n    <path d=\"M 375.403125 225.22582 \r\nL 375.403125 7.78582 \r\n\" style=\"fill:none;stroke:#000000;stroke-linecap:square;stroke-linejoin:miter;stroke-width:0.8;\"/>\r\n   </g>\r\n   <g id=\"patch_13\">\r\n    <path d=\"M 40.603125 225.22582 \r\nL 375.403125 225.22582 \r\n\" style=\"fill:none;stroke:#000000;stroke-linecap:square;stroke-linejoin:miter;stroke-width:0.8;\"/>\r\n   </g>\r\n   <g id=\"patch_14\">\r\n    <path d=\"M 40.603125 7.78582 \r\nL 375.403125 7.78582 \r\n\" style=\"fill:none;stroke:#000000;stroke-linecap:square;stroke-linejoin:miter;stroke-width:0.8;\"/>\r\n   </g>\r\n  </g>\r\n </g>\r\n <defs>\r\n  <clipPath id=\"pee74d78579\">\r\n   <rect height=\"217.44\" width=\"334.8\" x=\"40.603125\" y=\"7.78582\"/>\r\n  </clipPath>\r\n </defs>\r\n</svg>\r\n",
      "image/png": "[encoded data removed]"
     },
     "metadata": {
      "needs_background": "light"
     }
    }
   ],
   "source": [
    "rotto_dates = [int(x.split(\"(\")[-1].split(\")\")[0]) for x in rotto_scores.keys()]\n",
    "sns.histplot(rotto_dates)"
   ]
  },
  {
   "cell_type": "code",
   "execution_count": 104,
   "metadata": {},
   "outputs": [],
   "source": [
    "best_films[\"metascore_critics\"] = -1\n",
    "best_films[\"metascore_users\"]= -1"
   ]
  },
  {
   "cell_type": "code",
   "execution_count": 105,
   "metadata": {},
   "outputs": [
    {
     "output_type": "execute_result",
     "data": {
      "text/plain": [
       "{'critics': {'Citizen Kane': 100,\n",
       "  'The Godfather': 100,\n",
       "  'Rear Window': 100,\n",
       "  'Casablanca': 100,\n",
       "  'Boyhood': 100,\n",
       "  'Three Colors: Red': 100,\n",
       "  'Vertigo': 100,\n",
       "  'Notorious': 100,\n",
       "  \"Singin' in the Rain\": 99,\n",
       "  'City Lights': 99,\n",
       "  'Moonlight': 99,\n",
       "  'Intolerance': 99,\n",
       "  'Pinocchio': 99,\n",
       "  'Touch of Evil': 99,\n",
       "  'The Treasure of the Sierra Madre': 98,\n",
       "  \"Pan's Labyrinth\": 98,\n",
       "  'Some Like It Hot': 98,\n",
       "  'North by Northwest': 98,\n",
       "  'Rashomon': 98,\n",
       "  'All About Eve': 98,\n",
       "  'Hoop Dreams': 98,\n",
       "  'Jules and Jim': 97,\n",
       "  'The Wild Bunch': 97,\n",
       "  'My Left Foot': 97,\n",
       "  'The Third Man': 97,\n",
       "  'Nomadland': 97,\n",
       "  'Dr. Strangelove or: How I Learned to Stop Worrying and Love the Bomb': 97,\n",
       "  'Gone with the Wind': 97,\n",
       "  '4 Months, 3 Weeks and 2 Days': 97,\n",
       "  'Psycho': 97,\n",
       "  'Battleship Potemkin': 97,\n",
       "  'A Streetcar Named Desire': 97,\n",
       "  'American Graffiti': 97,\n",
       "  'Dumbo': 96,\n",
       "  'Roma': 96,\n",
       "  'Ran': 96,\n",
       "  'The Shop Around the Corner': 96,\n",
       "  '12 Angry Men': 96,\n",
       "  'Manchester by the Sea': 96,\n",
       "  \"Rosemary's Baby\": 96,\n",
       "  'The Maltese Falcon': 96,\n",
       "  '12 Years a Slave': 96,\n",
       "  'Killer of Sheep': 96,\n",
       "  'Rocks': 96,\n",
       "  'Nashville': 96,\n",
       "  'Ratatouille': 96,\n",
       "  'Parasite': 96,\n",
       "  \"Don't Look Now\": 96,\n",
       "  'The Grapes of Wrath': 96,\n",
       "  'Children of Paradise (1945)': 96,\n",
       "  'Mean Streets': 96,\n",
       "  'The Lady Eve': 96,\n",
       "  'Gravity': 96,\n",
       "  'Fantasia': 96,\n",
       "  'Spirited Away': 96,\n",
       "  'Beauty and the Beast': 95,\n",
       "  'Toy Story': 95,\n",
       "  'The Bride of Frankenstein': 95,\n",
       "  'The Social Network': 95,\n",
       "  'My Fair Lady': 95,\n",
       "  'Portrait of a Lady on Fire': 95,\n",
       "  'I Am Not Your Negro': 95,\n",
       "  'Woodstock': 95,\n",
       "  'Double Indemnity': 95,\n",
       "  'Snow White and the Seven Dwarfs': 95,\n",
       "  'The Hurt Locker': 95,\n",
       "  'Anatomy of a Murder': 95,\n",
       "  'Zero Dark Thirty': 95,\n",
       "  'A Separation': 95,\n",
       "  'WALL-E': 95,\n",
       "  'Carol': 94,\n",
       "  'Before Midnight': 94,\n",
       "  'Amour': 94,\n",
       "  'Dunkirk': 94,\n",
       "  'The Man Who Shot Liberty Valance': 94,\n",
       "  'The Searchers': 94,\n",
       "  '45 Years': 94,\n",
       "  'Taxi Driver': 94,\n",
       "  'Pulp Fiction': 94,\n",
       "  'The Manchurian Candidate': 94,\n",
       "  'Mr. Turner': 94,\n",
       "  'The Irishman': 94,\n",
       "  'Soul': 94,\n",
       "  'Grave of the Fireflies (1988)': 94,\n",
       "  'The Wild Child': 94,\n",
       "  'Amazing Grace': 94,\n",
       "  'Shadow of a Doubt': 94,\n",
       "  'Inside Out': 94,\n",
       "  'Sideways': 94,\n",
       "  \"Schindler's List\": 94,\n",
       "  'The Apartment': 94,\n",
       "  'Apocalypse Now': 94,\n",
       "  'The Gunfighter': 94,\n",
       "  'We Were Here': 94,\n",
       "  'Lady Bird': 94,\n",
       "  'Chimes at Midnight': 94,\n",
       "  'The Lord of the Rings: The Return of the King': 94,\n",
       "  'Carlos': 94,\n",
       "  'Marriage Story': 94,\n",
       "  'La La Land': 94},\n",
       " 'users': {'Citizen Kane': 85.0,\n",
       "  'The Godfather': 92.0,\n",
       "  'Rear Window': 88.0,\n",
       "  'Casablanca': 89.0,\n",
       "  'Boyhood': 76.0,\n",
       "  'Three Colors: Red': 86.0,\n",
       "  'Vertigo': 88.0,\n",
       "  'Notorious': 80.0,\n",
       "  \"Singin' in the Rain\": 88.0,\n",
       "  'City Lights': 90.0,\n",
       "  'Moonlight': 71.0,\n",
       "  'Intolerance': 89.0,\n",
       "  'Pinocchio': 82.0,\n",
       "  'Touch of Evil': 84.0,\n",
       "  'The Treasure of the Sierra Madre': 85.0,\n",
       "  \"Pan's Labyrinth\": 87.0,\n",
       "  'Some Like It Hot': 83.0,\n",
       "  'North by Northwest': 82.0,\n",
       "  'Rashomon': 86.0,\n",
       "  'All About Eve': 88.0,\n",
       "  'Hoop Dreams': 80.0,\n",
       "  'Jules and Jim': 82.0,\n",
       "  'The Wild Bunch': 80.0,\n",
       "  'My Left Foot': 85.0,\n",
       "  'The Third Man': 84.0,\n",
       "  'Nomadland': -1,\n",
       "  'Dr. Strangelove or: How I Learned to Stop Worrying and Love the Bomb': 83.0,\n",
       "  'Gone with the Wind': 85.0,\n",
       "  '4 Months, 3 Weeks and 2 Days': 80.0,\n",
       "  'Psycho': 91.0,\n",
       "  'Battleship Potemkin': 100.0,\n",
       "  'A Streetcar Named Desire': 85.0,\n",
       "  'American Graffiti': 78.0,\n",
       "  'Dumbo': 80.0,\n",
       "  'Roma': 78.0,\n",
       "  'Ran': 85.0,\n",
       "  'The Shop Around the Corner': -1,\n",
       "  '12 Angry Men': 93.0,\n",
       "  'Manchester by the Sea': 82.0,\n",
       "  \"Rosemary's Baby\": 82.0,\n",
       "  'The Maltese Falcon': 79.0,\n",
       "  '12 Years a Slave': 80.0,\n",
       "  'Killer of Sheep': 69.0,\n",
       "  'Rocks': -1,\n",
       "  'Nashville': 88.0,\n",
       "  'Ratatouille': 86.0,\n",
       "  'Parasite': 89.0,\n",
       "  \"Don't Look Now\": 88.0,\n",
       "  'The Grapes of Wrath': 90.0,\n",
       "  'Children of Paradise (1945)': 91.0,\n",
       "  'Mean Streets': 77.0,\n",
       "  'The Lady Eve': 70.0,\n",
       "  'Gravity': 78.0,\n",
       "  'Fantasia': 85.0,\n",
       "  'Spirited Away': 90.0,\n",
       "  'Beauty and the Beast': 86.0,\n",
       "  'Toy Story': 90.0,\n",
       "  'The Bride of Frankenstein': 88.0,\n",
       "  'The Social Network': 82.0,\n",
       "  'My Fair Lady': 87.0,\n",
       "  'Portrait of a Lady on Fire': 87.0,\n",
       "  'I Am Not Your Negro': 54.0,\n",
       "  'Woodstock': -1,\n",
       "  'Double Indemnity': 84.0,\n",
       "  'Snow White and the Seven Dwarfs': 82.0,\n",
       "  'The Hurt Locker': 73.0,\n",
       "  'Anatomy of a Murder': 83.0,\n",
       "  'Zero Dark Thirty': 69.0,\n",
       "  'A Separation': 89.0,\n",
       "  'WALL-E': 89.0,\n",
       "  'Carol': 79.0,\n",
       "  'Before Midnight': 84.0,\n",
       "  'Amour': 81.0,\n",
       "  'Dunkirk': 83.0,\n",
       "  'The Man Who Shot Liberty Valance': 86.0,\n",
       "  'The Searchers': 76.0,\n",
       "  '45 Years': 74.0,\n",
       "  'Taxi Driver': 75.0,\n",
       "  'Pulp Fiction': 90.0,\n",
       "  'The Manchurian Candidate': 82.0,\n",
       "  'Mr. Turner': 69.0,\n",
       "  'The Irishman': 81.0,\n",
       "  'Soul': -1,\n",
       "  'Grave of the Fireflies (1988)': 93.0,\n",
       "  'The Wild Child': -1,\n",
       "  'Amazing Grace': 80.0,\n",
       "  'Shadow of a Doubt': 86.0,\n",
       "  'Inside Out': 87.0,\n",
       "  'Sideways': 71.0,\n",
       "  \"Schindler's List\": 88.0,\n",
       "  'The Apartment': 91.0,\n",
       "  'Apocalypse Now': 89.0,\n",
       "  'The Gunfighter': 76.0,\n",
       "  'We Were Here': 69.0,\n",
       "  'Lady Bird': 76.0,\n",
       "  'Chimes at Midnight': -1,\n",
       "  'The Lord of the Rings: The Return of the King': 91.0,\n",
       "  'Carlos': 79.0,\n",
       "  'Marriage Story': 82.0,\n",
       "  'La La Land': 84.0}}"
      ]
     },
     "metadata": {},
     "execution_count": 105
    }
   ],
   "source": [
    "with open(\"meta_scores.json\", \"r\") as f:    \n",
    "    meta_scores = json.load(f)\n",
    "meta_scores"
   ]
  },
  {
   "cell_type": "code",
   "execution_count": 106,
   "metadata": {},
   "outputs": [],
   "source": [
    "for i, row in best_films.iterrows():\n",
    "    for key in meta_scores[\"critics\"].keys():\n",
    "        if row[\"primaryTitle\"] in key or row[\"originalTitle\"] in key:\n",
    "            best_films.loc[i,\"metascore_critics\"] = meta_scores[\"critics\"][key]\n",
    "            best_films.loc[i,\"metascore_users\"] = meta_scores[\"users\"][key]\n",
    "            break\n"
   ]
  },
  {
   "cell_type": "code",
   "execution_count": 107,
   "metadata": {},
   "outputs": [
    {
     "output_type": "execute_result",
     "data": {
      "text/plain": [
       "-1      93\n",
       " 94      4\n",
       " 100     1\n",
       " 96      1\n",
       " 95      1\n",
       "Name: metascore_critics, dtype: int64"
      ]
     },
     "metadata": {},
     "execution_count": 107
    }
   ],
   "source": [
    "best_films[\"metascore_critics\"].value_counts()"
   ]
  },
  {
   "cell_type": "code",
   "execution_count": 108,
   "metadata": {},
   "outputs": [
    {
     "output_type": "execute_result",
     "data": {
      "text/plain": [
       "-1.0     93\n",
       " 90.0     2\n",
       " 78.0     1\n",
       " 75.0     1\n",
       " 91.0     1\n",
       " 88.0     1\n",
       " 92.0     1\n",
       "Name: metascore_users, dtype: int64"
      ]
     },
     "metadata": {},
     "execution_count": 108
    }
   ],
   "source": [
    "best_films[\"metascore_users\"].value_counts()\n"
   ]
  },
  {
   "cell_type": "code",
   "execution_count": 109,
   "metadata": {},
   "outputs": [
    {
     "output_type": "execute_result",
     "data": {
      "text/plain": [
       "      index     tconst              primaryTitle             originalTitle  \\\n",
       "25   108756  tt0111161  The Shawshank Redemption  The Shawshank Redemption   \n",
       "1     67293  tt0068646             The Godfather             The Godfather   \n",
       "67   450691  tt0468569           The Dark Knight           The Dark Knight   \n",
       "2     70116  tt0071562    The Godfather: Part II    The Godfather: Part II   \n",
       "20   105705  tt0108052          Schindler's List          Schindler's List   \n",
       "..      ...        ...                       ...                       ...   \n",
       "63   399907  tt0416449                       300                       300   \n",
       "96  3909717  tt2395427   Avengers: Age of Ultron   Avengers: Age of Ultron   \n",
       "87  2966281  tt1392170          The Hunger Games          The Hunger Games   \n",
       "84  2688112  tt1300854                Iron Man 3            Iron Man Three   \n",
       "71   775964  tt0800369                      Thor                      Thor   \n",
       "\n",
       "    startYear runtimeMinutes                        genres  Action  Game-Show  \\\n",
       "25       1994            142                       [Drama]   False      False   \n",
       "1        1972            175                [Crime, Drama]   False      False   \n",
       "67       2008            152        [Action, Crime, Drama]    True      False   \n",
       "2        1974            202                [Crime, Drama]   False      False   \n",
       "20       1993            195   [Biography, Drama, History]   False      False   \n",
       "..        ...            ...                           ...     ...        ...   \n",
       "63       2006            117               [Action, Drama]    True      False   \n",
       "96       2015            141   [Action, Adventure, Sci-Fi]    True      False   \n",
       "87       2012            142   [Action, Adventure, Sci-Fi]    True      False   \n",
       "84       2013            130   [Action, Adventure, Sci-Fi]    True      False   \n",
       "71       2011            115  [Action, Adventure, Fantasy]    True      False   \n",
       "\n",
       "    Romance  ...  Crime  Mystery    War  Film-Noir  Sci-Fi  averageRating  \\\n",
       "25    False  ...  False    False  False      False   False            9.3   \n",
       "1     False  ...   True    False  False      False   False            9.2   \n",
       "67    False  ...   True    False  False      False   False            9.0   \n",
       "2     False  ...   True    False  False      False   False            9.0   \n",
       "20    False  ...  False    False  False      False   False            8.9   \n",
       "..      ...  ...    ...      ...    ...        ...     ...            ...   \n",
       "63    False  ...  False    False  False      False   False            7.6   \n",
       "96    False  ...  False    False  False      False    True            7.3   \n",
       "87    False  ...  False    False  False      False    True            7.2   \n",
       "84    False  ...  False    False  False      False    True            7.2   \n",
       "71    False  ...  False    False  False      False   False            7.0   \n",
       "\n",
       "    numVotes  rotten_tomatoes  metascore_critics  metascore_users  \n",
       "25   2302420               -1                 -1             -1.0  \n",
       "1    1589095               98                100             92.0  \n",
       "67   2266082               94                 -1             -1.0  \n",
       "2    1110301               -1                 -1             -1.0  \n",
       "20   1194788               -1                 94             88.0  \n",
       "..       ...              ...                ...              ...  \n",
       "63    726120               -1                 -1             -1.0  \n",
       "96    729347               -1                 -1             -1.0  \n",
       "87    836236               -1                 -1             -1.0  \n",
       "84    745285               -1                 -1             -1.0  \n",
       "71    736743               -1                 -1             -1.0  \n",
       "\n",
       "[100 rows x 38 columns]"
      ],
      "text/html": "<div>\n<style scoped>\n    .dataframe tbody tr th:only-of-type {\n        vertical-align: middle;\n    }\n\n    .dataframe tbody tr th {\n        vertical-align: top;\n    }\n\n    .dataframe thead th {\n        text-align: right;\n    }\n</style>\n<table border=\"1\" class=\"dataframe\">\n  <thead>\n    <tr style=\"text-align: right;\">\n      <th></th>\n      <th>index</th>\n      <th>tconst</th>\n      <th>primaryTitle</th>\n      <th>originalTitle</th>\n      <th>startYear</th>\n      <th>runtimeMinutes</th>\n      <th>genres</th>\n      <th>Action</th>\n      <th>Game-Show</th>\n      <th>Romance</th>\n      <th>...</th>\n      <th>Crime</th>\n      <th>Mystery</th>\n      <th>War</th>\n      <th>Film-Noir</th>\n      <th>Sci-Fi</th>\n      <th>averageRating</th>\n      <th>numVotes</th>\n      <th>rotten_tomatoes</th>\n      <th>metascore_critics</th>\n      <th>metascore_users</th>\n    </tr>\n  </thead>\n  <tbody>\n    <tr>\n      <th>25</th>\n      <td>108756</td>\n      <td>tt0111161</td>\n      <td>The Shawshank Redemption</td>\n      <td>The Shawshank Redemption</td>\n      <td>1994</td>\n      <td>142</td>\n      <td>[Drama]</td>\n      <td>False</td>\n      <td>False</td>\n      <td>False</td>\n      <td>...</td>\n      <td>False</td>\n      <td>False</td>\n      <td>False</td>\n      <td>False</td>\n      <td>False</td>\n      <td>9.3</td>\n      <td>2302420</td>\n      <td>-1</td>\n      <td>-1</td>\n      <td>-1.0</td>\n    </tr>\n    <tr>\n      <th>1</th>\n      <td>67293</td>\n      <td>tt0068646</td>\n      <td>The Godfather</td>\n      <td>The Godfather</td>\n      <td>1972</td>\n      <td>175</td>\n      <td>[Crime, Drama]</td>\n      <td>False</td>\n      <td>False</td>\n      <td>False</td>\n      <td>...</td>\n      <td>True</td>\n      <td>False</td>\n      <td>False</td>\n      <td>False</td>\n      <td>False</td>\n      <td>9.2</td>\n      <td>1589095</td>\n      <td>98</td>\n      <td>100</td>\n      <td>92.0</td>\n    </tr>\n    <tr>\n      <th>67</th>\n      <td>450691</td>\n      <td>tt0468569</td>\n      <td>The Dark Knight</td>\n      <td>The Dark Knight</td>\n      <td>2008</td>\n      <td>152</td>\n      <td>[Action, Crime, Drama]</td>\n      <td>True</td>\n      <td>False</td>\n      <td>False</td>\n      <td>...</td>\n      <td>True</td>\n      <td>False</td>\n      <td>False</td>\n      <td>False</td>\n      <td>False</td>\n      <td>9.0</td>\n      <td>2266082</td>\n      <td>94</td>\n      <td>-1</td>\n      <td>-1.0</td>\n    </tr>\n    <tr>\n      <th>2</th>\n      <td>70116</td>\n      <td>tt0071562</td>\n      <td>The Godfather: Part II</td>\n      <td>The Godfather: Part II</td>\n      <td>1974</td>\n      <td>202</td>\n      <td>[Crime, Drama]</td>\n      <td>False</td>\n      <td>False</td>\n      <td>False</td>\n      <td>...</td>\n      <td>True</td>\n      <td>False</td>\n      <td>False</td>\n      <td>False</td>\n      <td>False</td>\n      <td>9.0</td>\n      <td>1110301</td>\n      <td>-1</td>\n      <td>-1</td>\n      <td>-1.0</td>\n    </tr>\n    <tr>\n      <th>20</th>\n      <td>105705</td>\n      <td>tt0108052</td>\n      <td>Schindler's List</td>\n      <td>Schindler's List</td>\n      <td>1993</td>\n      <td>195</td>\n      <td>[Biography, Drama, History]</td>\n      <td>False</td>\n      <td>False</td>\n      <td>False</td>\n      <td>...</td>\n      <td>False</td>\n      <td>False</td>\n      <td>False</td>\n      <td>False</td>\n      <td>False</td>\n      <td>8.9</td>\n      <td>1194788</td>\n      <td>-1</td>\n      <td>94</td>\n      <td>88.0</td>\n    </tr>\n    <tr>\n      <th>...</th>\n      <td>...</td>\n      <td>...</td>\n      <td>...</td>\n      <td>...</td>\n      <td>...</td>\n      <td>...</td>\n      <td>...</td>\n      <td>...</td>\n      <td>...</td>\n      <td>...</td>\n      <td>...</td>\n      <td>...</td>\n      <td>...</td>\n      <td>...</td>\n      <td>...</td>\n      <td>...</td>\n      <td>...</td>\n      <td>...</td>\n      <td>...</td>\n      <td>...</td>\n      <td>...</td>\n    </tr>\n    <tr>\n      <th>63</th>\n      <td>399907</td>\n      <td>tt0416449</td>\n      <td>300</td>\n      <td>300</td>\n      <td>2006</td>\n      <td>117</td>\n      <td>[Action, Drama]</td>\n      <td>True</td>\n      <td>False</td>\n      <td>False</td>\n      <td>...</td>\n      <td>False</td>\n      <td>False</td>\n      <td>False</td>\n      <td>False</td>\n      <td>False</td>\n      <td>7.6</td>\n      <td>726120</td>\n      <td>-1</td>\n      <td>-1</td>\n      <td>-1.0</td>\n    </tr>\n    <tr>\n      <th>96</th>\n      <td>3909717</td>\n      <td>tt2395427</td>\n      <td>Avengers: Age of Ultron</td>\n      <td>Avengers: Age of Ultron</td>\n      <td>2015</td>\n      <td>141</td>\n      <td>[Action, Adventure, Sci-Fi]</td>\n      <td>True</td>\n      <td>False</td>\n      <td>False</td>\n      <td>...</td>\n      <td>False</td>\n      <td>False</td>\n      <td>False</td>\n      <td>False</td>\n      <td>True</td>\n      <td>7.3</td>\n      <td>729347</td>\n      <td>-1</td>\n      <td>-1</td>\n      <td>-1.0</td>\n    </tr>\n    <tr>\n      <th>87</th>\n      <td>2966281</td>\n      <td>tt1392170</td>\n      <td>The Hunger Games</td>\n      <td>The Hunger Games</td>\n      <td>2012</td>\n      <td>142</td>\n      <td>[Action, Adventure, Sci-Fi]</td>\n      <td>True</td>\n      <td>False</td>\n      <td>False</td>\n      <td>...</td>\n      <td>False</td>\n      <td>False</td>\n      <td>False</td>\n      <td>False</td>\n      <td>True</td>\n      <td>7.2</td>\n      <td>836236</td>\n      <td>-1</td>\n      <td>-1</td>\n      <td>-1.0</td>\n    </tr>\n    <tr>\n      <th>84</th>\n      <td>2688112</td>\n      <td>tt1300854</td>\n      <td>Iron Man 3</td>\n      <td>Iron Man Three</td>\n      <td>2013</td>\n      <td>130</td>\n      <td>[Action, Adventure, Sci-Fi]</td>\n      <td>True</td>\n      <td>False</td>\n      <td>False</td>\n      <td>...</td>\n      <td>False</td>\n      <td>False</td>\n      <td>False</td>\n      <td>False</td>\n      <td>True</td>\n      <td>7.2</td>\n      <td>745285</td>\n      <td>-1</td>\n      <td>-1</td>\n      <td>-1.0</td>\n    </tr>\n    <tr>\n      <th>71</th>\n      <td>775964</td>\n      <td>tt0800369</td>\n      <td>Thor</td>\n      <td>Thor</td>\n      <td>2011</td>\n      <td>115</td>\n      <td>[Action, Adventure, Fantasy]</td>\n      <td>True</td>\n      <td>False</td>\n      <td>False</td>\n      <td>...</td>\n      <td>False</td>\n      <td>False</td>\n      <td>False</td>\n      <td>False</td>\n      <td>False</td>\n      <td>7.0</td>\n      <td>736743</td>\n      <td>-1</td>\n      <td>-1</td>\n      <td>-1.0</td>\n    </tr>\n  </tbody>\n</table>\n<p>100 rows × 38 columns</p>\n</div>"
     },
     "metadata": {},
     "execution_count": 109
    }
   ],
   "source": [
    "best_films"
   ]
  },
  {
   "cell_type": "code",
   "execution_count": null,
   "metadata": {},
   "outputs": [],
   "source": []
  },
  {
   "source": [
    "### Como solo quiero las películas (largometrajes), elimino todo lo que sean cortos o similares"
   ],
   "cell_type": "markdown",
   "metadata": {}
  },
  {
   "cell_type": "code",
   "execution_count": 7,
   "metadata": {},
   "outputs": [
    {
     "output_type": "execute_result",
     "data": {
      "text/plain": [
       "array(['short', 'movie', 'tvShort', 'tvMovie', 'tvSeries', 'tvEpisode',\n",
       "       'tvMiniSeries', 'tvSpecial', 'video', 'videoGame'], dtype=object)"
      ]
     },
     "metadata": {},
     "execution_count": 7
    }
   ],
   "source": [
    "df[\"titleType\"].unique()"
   ]
  },
  {
   "cell_type": "code",
   "execution_count": 8,
   "metadata": {},
   "outputs": [],
   "source": [
    "df = df.drop(df[df[\"titleType\"]!= \"movie\"].index)"
   ]
  },
  {
   "cell_type": "code",
   "execution_count": 9,
   "metadata": {},
   "outputs": [
    {
     "output_type": "execute_result",
     "data": {
      "text/plain": [
       "(558057, 9)"
      ]
     },
     "metadata": {},
     "execution_count": 9
    }
   ],
   "source": [
    "df.shape"
   ]
  },
  {
   "cell_type": "code",
   "execution_count": 10,
   "metadata": {},
   "outputs": [
    {
     "output_type": "execute_result",
     "data": {
      "text/plain": [
       "tconst            object\n",
       "titleType         object\n",
       "primaryTitle      object\n",
       "originalTitle     object\n",
       "isAdult            int64\n",
       "startYear         object\n",
       "endYear           object\n",
       "runtimeMinutes    object\n",
       "genres            object\n",
       "dtype: object"
      ]
     },
     "metadata": {},
     "execution_count": 10
    }
   ],
   "source": [
    "df.dtypes"
   ]
  },
  {
   "cell_type": "code",
   "execution_count": 11,
   "metadata": {},
   "outputs": [
    {
     "output_type": "execute_result",
     "data": {
      "text/plain": [
       "            tconst titleType              primaryTitle  \\\n",
       "70393    tt0071844     movie  Till Marriage Do Us Part   \n",
       "109178   tt0111597     movie           The Veiled Hope   \n",
       "115876   tt0118530     movie                        18   \n",
       "118070   tt0120892     movie             Winding Stair   \n",
       "118208   tt0121062     movie      Alexandru Lapusneanu   \n",
       "...            ...       ...                       ...   \n",
       "7316596  tt9916178     movie        Yesterday's Dreams   \n",
       "7316600  tt9916188     movie                  Minotaur   \n",
       "7316601  tt9916190     movie                 Safeguard   \n",
       "7316640  tt9916270     movie  Il talento del calabrone   \n",
       "7316810  tt9916620     movie         The Copeland Case   \n",
       "\n",
       "                               originalTitle  isAdult startYear endYear  \\\n",
       "70393    Mio Dio, come sono caduta in basso!        0        \\N      \\N   \n",
       "109178                       The Veiled Hope        0        \\N      \\N   \n",
       "115876                                    18        0        \\N      \\N   \n",
       "118070                         Winding Stair        0        \\N      \\N   \n",
       "118208                  Alexandru Lapusneanu        0        \\N      \\N   \n",
       "...                                      ...      ...       ...     ...   \n",
       "7316596                   Yesterday's Dreams        0        \\N      \\N   \n",
       "7316600                             Minotaur        0        \\N      \\N   \n",
       "7316601                            Safeguard        0        \\N      \\N   \n",
       "7316640             Il talento del calabrone        0        \\N      \\N   \n",
       "7316810                    The Copeland Case        0        \\N      \\N   \n",
       "\n",
       "        runtimeMinutes                     genres  \n",
       "70393              110                     Comedy  \n",
       "109178              52                Documentary  \n",
       "115876              \\N                    Romance  \n",
       "118070              \\N                   Thriller  \n",
       "118208              \\N                    History  \n",
       "...                ...                        ...  \n",
       "7316596             \\N                         \\N  \n",
       "7316600             \\N                   Thriller  \n",
       "7316601             90  Action,Adventure,Thriller  \n",
       "7316640             84                   Thriller  \n",
       "7316810             \\N                      Drama  \n",
       "\n",
       "[66708 rows x 9 columns]"
      ],
      "text/html": "<div>\n<style scoped>\n    .dataframe tbody tr th:only-of-type {\n        vertical-align: middle;\n    }\n\n    .dataframe tbody tr th {\n        vertical-align: top;\n    }\n\n    .dataframe thead th {\n        text-align: right;\n    }\n</style>\n<table border=\"1\" class=\"dataframe\">\n  <thead>\n    <tr style=\"text-align: right;\">\n      <th></th>\n      <th>tconst</th>\n      <th>titleType</th>\n      <th>primaryTitle</th>\n      <th>originalTitle</th>\n      <th>isAdult</th>\n      <th>startYear</th>\n      <th>endYear</th>\n      <th>runtimeMinutes</th>\n      <th>genres</th>\n    </tr>\n  </thead>\n  <tbody>\n    <tr>\n      <th>70393</th>\n      <td>tt0071844</td>\n      <td>movie</td>\n      <td>Till Marriage Do Us Part</td>\n      <td>Mio Dio, come sono caduta in basso!</td>\n      <td>0</td>\n      <td>\\N</td>\n      <td>\\N</td>\n      <td>110</td>\n      <td>Comedy</td>\n    </tr>\n    <tr>\n      <th>109178</th>\n      <td>tt0111597</td>\n      <td>movie</td>\n      <td>The Veiled Hope</td>\n      <td>The Veiled Hope</td>\n      <td>0</td>\n      <td>\\N</td>\n      <td>\\N</td>\n      <td>52</td>\n      <td>Documentary</td>\n    </tr>\n    <tr>\n      <th>115876</th>\n      <td>tt0118530</td>\n      <td>movie</td>\n      <td>18</td>\n      <td>18</td>\n      <td>0</td>\n      <td>\\N</td>\n      <td>\\N</td>\n      <td>\\N</td>\n      <td>Romance</td>\n    </tr>\n    <tr>\n      <th>118070</th>\n      <td>tt0120892</td>\n      <td>movie</td>\n      <td>Winding Stair</td>\n      <td>Winding Stair</td>\n      <td>0</td>\n      <td>\\N</td>\n      <td>\\N</td>\n      <td>\\N</td>\n      <td>Thriller</td>\n    </tr>\n    <tr>\n      <th>118208</th>\n      <td>tt0121062</td>\n      <td>movie</td>\n      <td>Alexandru Lapusneanu</td>\n      <td>Alexandru Lapusneanu</td>\n      <td>0</td>\n      <td>\\N</td>\n      <td>\\N</td>\n      <td>\\N</td>\n      <td>History</td>\n    </tr>\n    <tr>\n      <th>...</th>\n      <td>...</td>\n      <td>...</td>\n      <td>...</td>\n      <td>...</td>\n      <td>...</td>\n      <td>...</td>\n      <td>...</td>\n      <td>...</td>\n      <td>...</td>\n    </tr>\n    <tr>\n      <th>7316596</th>\n      <td>tt9916178</td>\n      <td>movie</td>\n      <td>Yesterday's Dreams</td>\n      <td>Yesterday's Dreams</td>\n      <td>0</td>\n      <td>\\N</td>\n      <td>\\N</td>\n      <td>\\N</td>\n      <td>\\N</td>\n    </tr>\n    <tr>\n      <th>7316600</th>\n      <td>tt9916188</td>\n      <td>movie</td>\n      <td>Minotaur</td>\n      <td>Minotaur</td>\n      <td>0</td>\n      <td>\\N</td>\n      <td>\\N</td>\n      <td>\\N</td>\n      <td>Thriller</td>\n    </tr>\n    <tr>\n      <th>7316601</th>\n      <td>tt9916190</td>\n      <td>movie</td>\n      <td>Safeguard</td>\n      <td>Safeguard</td>\n      <td>0</td>\n      <td>\\N</td>\n      <td>\\N</td>\n      <td>90</td>\n      <td>Action,Adventure,Thriller</td>\n    </tr>\n    <tr>\n      <th>7316640</th>\n      <td>tt9916270</td>\n      <td>movie</td>\n      <td>Il talento del calabrone</td>\n      <td>Il talento del calabrone</td>\n      <td>0</td>\n      <td>\\N</td>\n      <td>\\N</td>\n      <td>84</td>\n      <td>Thriller</td>\n    </tr>\n    <tr>\n      <th>7316810</th>\n      <td>tt9916620</td>\n      <td>movie</td>\n      <td>The Copeland Case</td>\n      <td>The Copeland Case</td>\n      <td>0</td>\n      <td>\\N</td>\n      <td>\\N</td>\n      <td>\\N</td>\n      <td>Drama</td>\n    </tr>\n  </tbody>\n</table>\n<p>66708 rows × 9 columns</p>\n</div>"
     },
     "metadata": {},
     "execution_count": 11
    }
   ],
   "source": [
    "df[df[\"startYear\"] == \"\\\\N\"]"
   ]
  },
  {
   "cell_type": "code",
   "execution_count": 12,
   "metadata": {},
   "outputs": [],
   "source": [
    "df = df.drop(df[df[\"startYear\"]== \"\\\\N\"].index)"
   ]
  },
  {
   "cell_type": "code",
   "execution_count": 13,
   "metadata": {},
   "outputs": [
    {
     "output_type": "execute_result",
     "data": {
      "text/plain": [
       "(491349, 9)"
      ]
     },
     "metadata": {},
     "execution_count": 13
    }
   ],
   "source": [
    "df.shape"
   ]
  },
  {
   "cell_type": "code",
   "execution_count": 14,
   "metadata": {},
   "outputs": [],
   "source": [
    "df.startYear = df.startYear.astype(int)"
   ]
  },
  {
   "cell_type": "code",
   "execution_count": 15,
   "metadata": {},
   "outputs": [],
   "source": [
    "df = df.drop(columns=[\"endYear\", \"titleType\", \"tconst\"])"
   ]
  },
  {
   "cell_type": "code",
   "execution_count": 16,
   "metadata": {},
   "outputs": [
    {
     "output_type": "execute_result",
     "data": {
      "text/plain": [
       "(491349, 6)"
      ]
     },
     "metadata": {},
     "execution_count": 16
    }
   ],
   "source": [
    "df.shape"
   ]
  },
  {
   "cell_type": "code",
   "execution_count": 17,
   "metadata": {},
   "outputs": [
    {
     "output_type": "execute_result",
     "data": {
      "text/plain": [
       "346660"
      ]
     },
     "metadata": {},
     "execution_count": 17
    }
   ],
   "source": [
    "sum(df[\"runtimeMinutes\"] != \"\\\\N\")"
   ]
  },
  {
   "cell_type": "code",
   "execution_count": 18,
   "metadata": {},
   "outputs": [],
   "source": [
    "df = df.drop(df[df[\"runtimeMinutes\"]== \"\\\\N\"].index)"
   ]
  },
  {
   "cell_type": "code",
   "execution_count": 19,
   "metadata": {},
   "outputs": [
    {
     "output_type": "execute_result",
     "data": {
      "text/plain": [
       "(346660, 6)"
      ]
     },
     "metadata": {},
     "execution_count": 19
    }
   ],
   "source": [
    "df.shape"
   ]
  },
  {
   "cell_type": "code",
   "execution_count": 20,
   "metadata": {},
   "outputs": [
    {
     "output_type": "execute_result",
     "data": {
      "text/plain": [
       "                        primaryTitle                   originalTitle  isAdult  \\\n",
       "8                         Miss Jerry                      Miss Jerry        0   \n",
       "498                         Bohemios                        Bohemios        0   \n",
       "570      The Story of the Kelly Gang     The Story of the Kelly Gang        0   \n",
       "672   The Fairylogue and Radio-Plays  The Fairylogue and Radio-Plays        0   \n",
       "1172         Don Juan de Serrallonga         Don Juan de Serrallonga        0   \n",
       "\n",
       "      startYear runtimeMinutes                 genres  \n",
       "8          1894             45                Romance  \n",
       "498        1905            100                     \\N  \n",
       "570        1906             70  Biography,Crime,Drama  \n",
       "672        1908            120      Adventure,Fantasy  \n",
       "1172       1910             58        Adventure,Drama  "
      ],
      "text/html": "<div>\n<style scoped>\n    .dataframe tbody tr th:only-of-type {\n        vertical-align: middle;\n    }\n\n    .dataframe tbody tr th {\n        vertical-align: top;\n    }\n\n    .dataframe thead th {\n        text-align: right;\n    }\n</style>\n<table border=\"1\" class=\"dataframe\">\n  <thead>\n    <tr style=\"text-align: right;\">\n      <th></th>\n      <th>primaryTitle</th>\n      <th>originalTitle</th>\n      <th>isAdult</th>\n      <th>startYear</th>\n      <th>runtimeMinutes</th>\n      <th>genres</th>\n    </tr>\n  </thead>\n  <tbody>\n    <tr>\n      <th>8</th>\n      <td>Miss Jerry</td>\n      <td>Miss Jerry</td>\n      <td>0</td>\n      <td>1894</td>\n      <td>45</td>\n      <td>Romance</td>\n    </tr>\n    <tr>\n      <th>498</th>\n      <td>Bohemios</td>\n      <td>Bohemios</td>\n      <td>0</td>\n      <td>1905</td>\n      <td>100</td>\n      <td>\\N</td>\n    </tr>\n    <tr>\n      <th>570</th>\n      <td>The Story of the Kelly Gang</td>\n      <td>The Story of the Kelly Gang</td>\n      <td>0</td>\n      <td>1906</td>\n      <td>70</td>\n      <td>Biography,Crime,Drama</td>\n    </tr>\n    <tr>\n      <th>672</th>\n      <td>The Fairylogue and Radio-Plays</td>\n      <td>The Fairylogue and Radio-Plays</td>\n      <td>0</td>\n      <td>1908</td>\n      <td>120</td>\n      <td>Adventure,Fantasy</td>\n    </tr>\n    <tr>\n      <th>1172</th>\n      <td>Don Juan de Serrallonga</td>\n      <td>Don Juan de Serrallonga</td>\n      <td>0</td>\n      <td>1910</td>\n      <td>58</td>\n      <td>Adventure,Drama</td>\n    </tr>\n  </tbody>\n</table>\n</div>"
     },
     "metadata": {},
     "execution_count": 20
    }
   ],
   "source": [
    "df.head()"
   ]
  },
  {
   "source": [
    "### Limpiamos también las que no tienen un género definido"
   ],
   "cell_type": "markdown",
   "metadata": {}
  },
  {
   "cell_type": "code",
   "execution_count": 21,
   "metadata": {},
   "outputs": [],
   "source": [
    "df = df.drop(df[df[\"genres\"]== \"\\\\N\"].index)"
   ]
  },
  {
   "cell_type": "code",
   "execution_count": 22,
   "metadata": {},
   "outputs": [
    {
     "output_type": "execute_result",
     "data": {
      "text/plain": [
       "(323669, 6)"
      ]
     },
     "metadata": {},
     "execution_count": 22
    }
   ],
   "source": [
    "df.shape"
   ]
  },
  {
   "cell_type": "code",
   "execution_count": 23,
   "metadata": {},
   "outputs": [
    {
     "output_type": "execute_result",
     "data": {
      "text/plain": [
       "                        primaryTitle                   originalTitle  isAdult  \\\n",
       "8                         Miss Jerry                      Miss Jerry        0   \n",
       "570      The Story of the Kelly Gang     The Story of the Kelly Gang        0   \n",
       "672   The Fairylogue and Radio-Plays  The Fairylogue and Radio-Plays        0   \n",
       "1172         Don Juan de Serrallonga         Don Juan de Serrallonga        0   \n",
       "1246           The White Slave Trade           Den hvide slavehandel        0   \n",
       "\n",
       "      startYear runtimeMinutes                 genres  \n",
       "8          1894             45                Romance  \n",
       "570        1906             70  Biography,Crime,Drama  \n",
       "672        1908            120      Adventure,Fantasy  \n",
       "1172       1910             58        Adventure,Drama  \n",
       "1246       1910             45                  Drama  "
      ],
      "text/html": "<div>\n<style scoped>\n    .dataframe tbody tr th:only-of-type {\n        vertical-align: middle;\n    }\n\n    .dataframe tbody tr th {\n        vertical-align: top;\n    }\n\n    .dataframe thead th {\n        text-align: right;\n    }\n</style>\n<table border=\"1\" class=\"dataframe\">\n  <thead>\n    <tr style=\"text-align: right;\">\n      <th></th>\n      <th>primaryTitle</th>\n      <th>originalTitle</th>\n      <th>isAdult</th>\n      <th>startYear</th>\n      <th>runtimeMinutes</th>\n      <th>genres</th>\n    </tr>\n  </thead>\n  <tbody>\n    <tr>\n      <th>8</th>\n      <td>Miss Jerry</td>\n      <td>Miss Jerry</td>\n      <td>0</td>\n      <td>1894</td>\n      <td>45</td>\n      <td>Romance</td>\n    </tr>\n    <tr>\n      <th>570</th>\n      <td>The Story of the Kelly Gang</td>\n      <td>The Story of the Kelly Gang</td>\n      <td>0</td>\n      <td>1906</td>\n      <td>70</td>\n      <td>Biography,Crime,Drama</td>\n    </tr>\n    <tr>\n      <th>672</th>\n      <td>The Fairylogue and Radio-Plays</td>\n      <td>The Fairylogue and Radio-Plays</td>\n      <td>0</td>\n      <td>1908</td>\n      <td>120</td>\n      <td>Adventure,Fantasy</td>\n    </tr>\n    <tr>\n      <th>1172</th>\n      <td>Don Juan de Serrallonga</td>\n      <td>Don Juan de Serrallonga</td>\n      <td>0</td>\n      <td>1910</td>\n      <td>58</td>\n      <td>Adventure,Drama</td>\n    </tr>\n    <tr>\n      <th>1246</th>\n      <td>The White Slave Trade</td>\n      <td>Den hvide slavehandel</td>\n      <td>0</td>\n      <td>1910</td>\n      <td>45</td>\n      <td>Drama</td>\n    </tr>\n  </tbody>\n</table>\n</div>"
     },
     "metadata": {},
     "execution_count": 23
    }
   ],
   "source": [
    "df.head()"
   ]
  },
  {
   "cell_type": "code",
   "execution_count": 25,
   "metadata": {},
   "outputs": [
    {
     "output_type": "execute_result",
     "data": {
      "text/plain": [
       "318158"
      ]
     },
     "metadata": {},
     "execution_count": 25
    }
   ],
   "source": [
    "sum(df[\"isAdult\"] == False)"
   ]
  },
  {
   "source": [
    "### Comprobamos los tipos de géneros que tiene el dataset"
   ],
   "cell_type": "markdown",
   "metadata": {}
  },
  {
   "cell_type": "code",
   "execution_count": 30,
   "metadata": {},
   "outputs": [
    {
     "output_type": "execute_result",
     "data": {
      "text/plain": [
       "1348"
      ]
     },
     "metadata": {},
     "execution_count": 30
    }
   ],
   "source": [
    "# Hay 1348 géneros distintos\n",
    "df[\"genres\"].nunique()"
   ]
  },
  {
   "source": [
    "# Esto incluye listas de géneros\n",
    "df.loc[570].genres"
   ],
   "cell_type": "code",
   "metadata": {},
   "execution_count": 37,
   "outputs": [
    {
     "output_type": "execute_result",
     "data": {
      "text/plain": [
       "'Biography,Crime,Drama'"
      ]
     },
     "metadata": {},
     "execution_count": 37
    }
   ]
  },
  {
   "cell_type": "code",
   "execution_count": 39,
   "metadata": {},
   "outputs": [],
   "source": [
    "df[\"genres\"] = df[\"genres\"].str.split(\",\")"
   ]
  },
  {
   "cell_type": "code",
   "execution_count": 41,
   "metadata": {},
   "outputs": [],
   "source": [
    "all_genres = set(itertools.chain.from_iterable(df[\"genres\"]))"
   ]
  },
  {
   "cell_type": "code",
   "execution_count": null,
   "metadata": {},
   "outputs": [],
   "source": [
    "for genre in all_genres:\n",
    "    df[genre] = df.genres.apply(lambda x : 1 if genre in x else 0)"
   ]
  },
  {
   "cell_type": "code",
   "execution_count": 35,
   "metadata": {},
   "outputs": [
    {
     "output_type": "execute_result",
     "data": {
      "text/plain": [
       "['Drama',\n",
       " 'Drama',\n",
       " 'Drama',\n",
       " 'Drama',\n",
       " 'Drama',\n",
       " 'Drama',\n",
       " 'Drama',\n",
       " 'Drama',\n",
       " 'Drama',\n",
       " 'Drama',\n",
       " 'Drama',\n",
       " 'Drama',\n",
       " 'Drama',\n",
       " 'Drama',\n",
       " 'Drama',\n",
       " 'Drama',\n",
       " 'Drama',\n",
       " 'Drama',\n",
       " 'Drama',\n",
       " 'Drama',\n",
       " 'Drama',\n",
       " 'Drama',\n",
       " 'Drama',\n",
       " 'Drama',\n",
       " 'Drama',\n",
       " 'Drama',\n",
       " 'Drama',\n",
       " 'Drama',\n",
       " 'Drama',\n",
       " 'Drama',\n",
       " 'Drama',\n",
       " 'Drama',\n",
       " 'Drama',\n",
       " 'Drama',\n",
       " 'Drama',\n",
       " 'Drama',\n",
       " 'Drama',\n",
       " 'Drama',\n",
       " 'Drama',\n",
       " 'Drama',\n",
       " 'Drama',\n",
       " 'Drama',\n",
       " 'Drama',\n",
       " 'Drama',\n",
       " 'Drama',\n",
       " 'Drama',\n",
       " 'Drama',\n",
       " 'Drama',\n",
       " 'Drama',\n",
       " 'Drama',\n",
       " 'Drama',\n",
       " 'Drama',\n",
       " 'Drama',\n",
       " 'Drama',\n",
       " 'Drama',\n",
       " 'Drama',\n",
       " 'Drama',\n",
       " 'Drama',\n",
       " 'Drama',\n",
       " 'Drama',\n",
       " 'Drama',\n",
       " 'Drama',\n",
       " 'Drama',\n",
       " 'Drama',\n",
       " 'Drama',\n",
       " 'Drama',\n",
       " 'Drama',\n",
       " 'Drama',\n",
       " 'Drama',\n",
       " 'Drama',\n",
       " 'Drama',\n",
       " 'Drama',\n",
       " 'Drama',\n",
       " 'Drama',\n",
       " 'Drama',\n",
       " 'Drama',\n",
       " 'Drama',\n",
       " 'Drama',\n",
       " 'Drama',\n",
       " 'Drama',\n",
       " 'Drama',\n",
       " 'Drama',\n",
       " 'Drama',\n",
       " 'Drama',\n",
       " 'Drama',\n",
       " 'Drama',\n",
       " 'Drama',\n",
       " 'Drama',\n",
       " 'Drama',\n",
       " 'Drama',\n",
       " 'Drama',\n",
       " 'Drama',\n",
       " 'Drama',\n",
       " 'Drama',\n",
       " 'Drama',\n",
       " 'Drama',\n",
       " 'Drama',\n",
       " 'Drama',\n",
       " 'Drama',\n",
       " 'Drama',\n",
       " 'Drama',\n",
       " 'Drama',\n",
       " 'Drama',\n",
       " 'Drama',\n",
       " 'Drama',\n",
       " 'Drama',\n",
       " 'Drama',\n",
       " 'Drama',\n",
       " 'Drama',\n",
       " 'Drama',\n",
       " 'Drama',\n",
       " 'Drama',\n",
       " 'Drama',\n",
       " 'Drama',\n",
       " 'Drama',\n",
       " 'Drama',\n",
       " 'Drama',\n",
       " 'Drama',\n",
       " 'Drama',\n",
       " 'Drama',\n",
       " 'Drama',\n",
       " 'Drama',\n",
       " 'Drama',\n",
       " 'Drama',\n",
       " 'Drama',\n",
       " 'Drama',\n",
       " 'Drama',\n",
       " 'Drama',\n",
       " 'Drama',\n",
       " 'Drama',\n",
       " 'Drama',\n",
       " 'Drama',\n",
       " 'Drama',\n",
       " 'Drama',\n",
       " 'Drama',\n",
       " 'Drama',\n",
       " 'Drama',\n",
       " 'Drama',\n",
       " 'Drama',\n",
       " 'Drama',\n",
       " 'Drama',\n",
       " 'Drama',\n",
       " 'Drama',\n",
       " 'Drama',\n",
       " 'Drama',\n",
       " 'Drama',\n",
       " 'Drama',\n",
       " 'Drama',\n",
       " 'Drama',\n",
       " 'Drama',\n",
       " 'Drama',\n",
       " 'Drama',\n",
       " 'Drama',\n",
       " 'Drama',\n",
       " 'Drama',\n",
       " 'Drama',\n",
       " 'Drama',\n",
       " 'Drama',\n",
       " 'Drama',\n",
       " 'Drama',\n",
       " 'Drama',\n",
       " 'Drama',\n",
       " 'Drama',\n",
       " 'Drama',\n",
       " 'Drama',\n",
       " 'Drama',\n",
       " 'Drama',\n",
       " 'Drama',\n",
       " 'Drama',\n",
       " 'Drama',\n",
       " 'Drama',\n",
       " 'Drama',\n",
       " 'Drama',\n",
       " 'Drama',\n",
       " 'Drama',\n",
       " 'Drama',\n",
       " 'Drama',\n",
       " 'Drama',\n",
       " 'Drama',\n",
       " 'Drama',\n",
       " 'Drama',\n",
       " 'Drama',\n",
       " 'Drama',\n",
       " 'Drama',\n",
       " 'Drama',\n",
       " 'Drama',\n",
       " 'Drama',\n",
       " 'Drama',\n",
       " 'Drama',\n",
       " 'Drama',\n",
       " 'Drama',\n",
       " 'Drama',\n",
       " 'Drama',\n",
       " 'Drama',\n",
       " 'Drama',\n",
       " 'Drama',\n",
       " 'Drama',\n",
       " 'Drama',\n",
       " 'Drama',\n",
       " 'Drama',\n",
       " 'Drama',\n",
       " 'Drama',\n",
       " 'Drama',\n",
       " 'Drama',\n",
       " 'Drama',\n",
       " 'Drama',\n",
       " 'Drama',\n",
       " 'Drama',\n",
       " 'Drama',\n",
       " 'Drama',\n",
       " 'Drama',\n",
       " 'Drama',\n",
       " 'Drama',\n",
       " 'Drama',\n",
       " 'Drama',\n",
       " 'Drama',\n",
       " 'Drama',\n",
       " 'Drama',\n",
       " 'Drama',\n",
       " 'Drama',\n",
       " 'Drama',\n",
       " 'Drama',\n",
       " 'Drama',\n",
       " 'Drama',\n",
       " 'Drama',\n",
       " 'Drama',\n",
       " 'Drama',\n",
       " 'Drama',\n",
       " 'Drama',\n",
       " 'Drama',\n",
       " 'Drama',\n",
       " 'Drama',\n",
       " 'Drama',\n",
       " 'Drama',\n",
       " 'Drama',\n",
       " 'Drama',\n",
       " 'Drama',\n",
       " 'Drama',\n",
       " 'Drama',\n",
       " 'Drama',\n",
       " 'Drama',\n",
       " 'Drama',\n",
       " 'Drama',\n",
       " 'Drama',\n",
       " 'Drama',\n",
       " 'Drama',\n",
       " 'Drama',\n",
       " 'Drama',\n",
       " 'Drama',\n",
       " 'Drama',\n",
       " 'Drama',\n",
       " 'Drama',\n",
       " 'Drama',\n",
       " 'Drama',\n",
       " 'Drama',\n",
       " 'Drama',\n",
       " 'Drama',\n",
       " 'Drama',\n",
       " 'Drama',\n",
       " 'Drama',\n",
       " 'Drama',\n",
       " 'Drama',\n",
       " 'Drama',\n",
       " 'Drama',\n",
       " 'Drama',\n",
       " 'Drama',\n",
       " 'Drama',\n",
       " 'Drama',\n",
       " 'Drama',\n",
       " 'Drama',\n",
       " 'Drama',\n",
       " 'Drama',\n",
       " 'Drama',\n",
       " 'Drama',\n",
       " 'Drama',\n",
       " 'Drama',\n",
       " 'Drama',\n",
       " 'Drama',\n",
       " 'Drama',\n",
       " 'Drama',\n",
       " 'Drama',\n",
       " 'Drama',\n",
       " 'Drama',\n",
       " 'Drama',\n",
       " 'Drama',\n",
       " 'Drama',\n",
       " 'Drama',\n",
       " 'Drama',\n",
       " 'Drama',\n",
       " 'Drama',\n",
       " 'Drama',\n",
       " 'Drama',\n",
       " 'Drama',\n",
       " 'Drama',\n",
       " 'Drama',\n",
       " 'Drama',\n",
       " 'Drama',\n",
       " 'Drama',\n",
       " 'Drama',\n",
       " 'Drama',\n",
       " 'Drama',\n",
       " 'Drama',\n",
       " 'Drama',\n",
       " 'Drama',\n",
       " 'Drama',\n",
       " 'Drama',\n",
       " 'Drama',\n",
       " 'Drama',\n",
       " 'Drama',\n",
       " 'Drama',\n",
       " 'Drama',\n",
       " 'Drama',\n",
       " 'Drama',\n",
       " 'Drama',\n",
       " 'Drama',\n",
       " 'Drama',\n",
       " 'Drama',\n",
       " 'Drama',\n",
       " 'Drama',\n",
       " 'Drama',\n",
       " 'Drama',\n",
       " 'Drama',\n",
       " 'Drama',\n",
       " 'Drama',\n",
       " 'Drama',\n",
       " 'Drama',\n",
       " 'Drama',\n",
       " 'Drama',\n",
       " 'Drama',\n",
       " 'Drama',\n",
       " 'Drama',\n",
       " 'Drama',\n",
       " 'Drama',\n",
       " 'Drama',\n",
       " 'Drama',\n",
       " 'Drama',\n",
       " 'Drama',\n",
       " 'Drama',\n",
       " 'Drama',\n",
       " 'Drama',\n",
       " 'Drama',\n",
       " 'Drama',\n",
       " 'Drama',\n",
       " 'Drama',\n",
       " 'Drama',\n",
       " 'Drama',\n",
       " 'Drama',\n",
       " 'Drama',\n",
       " 'Drama',\n",
       " 'Drama',\n",
       " 'Drama',\n",
       " 'Drama',\n",
       " 'Drama',\n",
       " 'Drama',\n",
       " 'Drama',\n",
       " 'Drama',\n",
       " 'Drama',\n",
       " 'Drama',\n",
       " 'Drama',\n",
       " 'Drama',\n",
       " 'Drama',\n",
       " 'Drama',\n",
       " 'Drama',\n",
       " 'Drama',\n",
       " 'Drama',\n",
       " 'Drama',\n",
       " 'Drama',\n",
       " 'Drama',\n",
       " 'Drama',\n",
       " 'Drama',\n",
       " 'Drama',\n",
       " 'Drama',\n",
       " 'Drama',\n",
       " 'Drama',\n",
       " 'Drama',\n",
       " 'Drama',\n",
       " 'Drama',\n",
       " 'Drama',\n",
       " 'Drama',\n",
       " 'Drama',\n",
       " 'Drama',\n",
       " 'Drama',\n",
       " 'Drama',\n",
       " 'Drama',\n",
       " 'Drama',\n",
       " 'Drama',\n",
       " 'Drama',\n",
       " 'Drama',\n",
       " 'Drama',\n",
       " 'Drama',\n",
       " 'Drama',\n",
       " 'Drama',\n",
       " 'Drama',\n",
       " 'Drama',\n",
       " 'Drama',\n",
       " 'Drama',\n",
       " 'Drama',\n",
       " 'Drama',\n",
       " 'Drama',\n",
       " 'Drama',\n",
       " 'Drama',\n",
       " 'Drama',\n",
       " 'Drama',\n",
       " 'Drama',\n",
       " 'Drama',\n",
       " 'Drama',\n",
       " 'Drama',\n",
       " 'Drama',\n",
       " 'Drama',\n",
       " 'Drama',\n",
       " 'Drama',\n",
       " 'Drama',\n",
       " 'Drama',\n",
       " 'Drama',\n",
       " 'Drama',\n",
       " 'Drama',\n",
       " 'Drama',\n",
       " 'Drama',\n",
       " 'Drama',\n",
       " 'Drama',\n",
       " 'Drama',\n",
       " 'Drama',\n",
       " 'Drama',\n",
       " 'Drama',\n",
       " 'Drama',\n",
       " 'Drama',\n",
       " 'Drama',\n",
       " 'Drama',\n",
       " 'Drama',\n",
       " 'Drama',\n",
       " 'Drama',\n",
       " 'Drama',\n",
       " 'Drama',\n",
       " 'Drama',\n",
       " 'Drama',\n",
       " 'Drama',\n",
       " 'Drama',\n",
       " 'Drama',\n",
       " 'Drama',\n",
       " 'Drama',\n",
       " 'Drama',\n",
       " 'Drama',\n",
       " 'Drama',\n",
       " 'Drama',\n",
       " 'Drama',\n",
       " 'Drama',\n",
       " 'Drama',\n",
       " 'Drama',\n",
       " 'Drama',\n",
       " 'Drama',\n",
       " 'Drama',\n",
       " 'Drama',\n",
       " 'Drama',\n",
       " 'Drama',\n",
       " 'Drama',\n",
       " 'Drama',\n",
       " 'Drama',\n",
       " 'Drama',\n",
       " 'Drama',\n",
       " 'Drama',\n",
       " 'Drama',\n",
       " 'Drama',\n",
       " 'Drama',\n",
       " 'Drama',\n",
       " 'Drama',\n",
       " 'Drama',\n",
       " 'Drama',\n",
       " 'Drama',\n",
       " 'Drama',\n",
       " 'Drama',\n",
       " 'Drama',\n",
       " 'Drama',\n",
       " 'Drama',\n",
       " 'Drama',\n",
       " 'Drama',\n",
       " 'Drama',\n",
       " 'Drama',\n",
       " 'Drama',\n",
       " 'Drama',\n",
       " 'Drama',\n",
       " 'Drama',\n",
       " 'Drama',\n",
       " 'Drama',\n",
       " 'Drama',\n",
       " 'Drama',\n",
       " 'Drama',\n",
       " 'Drama',\n",
       " 'Drama',\n",
       " 'Drama',\n",
       " 'Drama',\n",
       " 'Drama',\n",
       " 'Drama',\n",
       " 'Drama',\n",
       " 'Drama',\n",
       " 'Drama',\n",
       " 'Drama',\n",
       " 'Drama',\n",
       " 'Drama',\n",
       " 'Drama',\n",
       " 'Drama',\n",
       " 'Drama',\n",
       " 'Drama',\n",
       " 'Drama',\n",
       " 'Drama',\n",
       " 'Drama',\n",
       " 'Drama',\n",
       " 'Drama',\n",
       " 'Drama',\n",
       " 'Drama',\n",
       " 'Drama',\n",
       " 'Drama',\n",
       " 'Drama',\n",
       " 'Drama',\n",
       " 'Drama',\n",
       " 'Drama',\n",
       " 'Drama',\n",
       " 'Drama',\n",
       " 'Drama',\n",
       " 'Drama',\n",
       " 'Drama',\n",
       " 'Drama',\n",
       " 'Drama',\n",
       " 'Drama',\n",
       " 'Drama',\n",
       " 'Drama',\n",
       " 'Drama',\n",
       " 'Drama',\n",
       " 'Drama',\n",
       " 'Drama',\n",
       " 'Drama',\n",
       " 'Drama',\n",
       " 'Drama',\n",
       " 'Drama',\n",
       " 'Drama',\n",
       " 'Drama',\n",
       " 'Drama',\n",
       " 'Drama',\n",
       " 'Drama',\n",
       " 'Drama',\n",
       " 'Drama',\n",
       " 'Drama',\n",
       " 'Drama',\n",
       " 'Drama',\n",
       " 'Drama',\n",
       " 'Drama',\n",
       " 'Drama',\n",
       " 'Drama',\n",
       " 'Drama',\n",
       " 'Drama',\n",
       " 'Drama',\n",
       " 'Drama',\n",
       " 'Drama',\n",
       " 'Drama',\n",
       " 'Drama',\n",
       " 'Drama',\n",
       " 'Drama',\n",
       " 'Drama',\n",
       " 'Drama',\n",
       " 'Drama',\n",
       " 'Drama',\n",
       " 'Drama',\n",
       " 'Drama',\n",
       " 'Drama',\n",
       " 'Drama',\n",
       " 'Drama',\n",
       " 'Drama',\n",
       " 'Drama',\n",
       " 'Drama',\n",
       " 'Drama',\n",
       " 'Drama',\n",
       " 'Drama',\n",
       " 'Drama',\n",
       " 'Drama',\n",
       " 'Drama',\n",
       " 'Drama',\n",
       " 'Drama',\n",
       " 'Drama',\n",
       " 'Drama',\n",
       " 'Drama',\n",
       " 'Drama',\n",
       " 'Drama',\n",
       " 'Drama',\n",
       " 'Drama',\n",
       " 'Drama',\n",
       " 'Drama',\n",
       " 'Drama',\n",
       " 'Drama',\n",
       " 'Drama',\n",
       " 'Drama',\n",
       " 'Drama',\n",
       " 'Drama',\n",
       " 'Drama',\n",
       " 'Drama',\n",
       " 'Drama',\n",
       " 'Drama',\n",
       " 'Drama',\n",
       " 'Drama',\n",
       " 'Drama',\n",
       " 'Drama',\n",
       " 'Drama',\n",
       " 'Drama',\n",
       " 'Drama',\n",
       " 'Drama',\n",
       " 'Drama',\n",
       " 'Drama',\n",
       " 'Drama',\n",
       " 'Drama',\n",
       " 'Drama',\n",
       " 'Drama',\n",
       " 'Drama',\n",
       " 'Drama',\n",
       " 'Drama',\n",
       " 'Drama',\n",
       " 'Drama',\n",
       " 'Drama',\n",
       " 'Drama',\n",
       " 'Drama',\n",
       " 'Drama',\n",
       " 'Drama',\n",
       " 'Drama',\n",
       " 'Drama',\n",
       " 'Drama',\n",
       " 'Drama',\n",
       " 'Drama',\n",
       " 'Drama',\n",
       " 'Drama',\n",
       " 'Drama',\n",
       " 'Drama',\n",
       " 'Drama',\n",
       " 'Drama',\n",
       " 'Drama',\n",
       " 'Drama',\n",
       " 'Drama',\n",
       " 'Drama',\n",
       " 'Drama',\n",
       " 'Drama',\n",
       " 'Drama',\n",
       " 'Drama',\n",
       " 'Drama',\n",
       " 'Drama',\n",
       " 'Drama',\n",
       " 'Drama',\n",
       " 'Drama',\n",
       " 'Drama',\n",
       " 'Drama',\n",
       " 'Drama',\n",
       " 'Drama',\n",
       " 'Drama',\n",
       " 'Drama',\n",
       " 'Drama',\n",
       " 'Drama',\n",
       " 'Drama',\n",
       " 'Drama',\n",
       " 'Drama',\n",
       " 'Drama',\n",
       " 'Drama',\n",
       " 'Drama',\n",
       " 'Drama',\n",
       " 'Drama',\n",
       " 'Drama',\n",
       " 'Drama',\n",
       " 'Drama',\n",
       " 'Drama',\n",
       " 'Drama',\n",
       " 'Drama',\n",
       " 'Drama',\n",
       " 'Drama',\n",
       " 'Drama',\n",
       " 'Drama',\n",
       " 'Drama',\n",
       " 'Drama',\n",
       " 'Drama',\n",
       " 'Drama',\n",
       " 'Drama',\n",
       " 'Drama',\n",
       " 'Drama',\n",
       " 'Drama',\n",
       " 'Drama',\n",
       " 'Drama',\n",
       " 'Drama',\n",
       " 'Drama',\n",
       " 'Drama',\n",
       " 'Drama',\n",
       " 'Drama',\n",
       " 'Drama',\n",
       " 'Drama',\n",
       " 'Drama',\n",
       " 'Drama',\n",
       " 'Drama',\n",
       " 'Drama',\n",
       " 'Drama',\n",
       " 'Drama',\n",
       " 'Drama',\n",
       " 'Drama',\n",
       " 'Drama',\n",
       " 'Drama',\n",
       " 'Drama',\n",
       " 'Drama',\n",
       " 'Drama',\n",
       " 'Drama',\n",
       " 'Drama',\n",
       " 'Drama',\n",
       " 'Drama',\n",
       " 'Drama',\n",
       " 'Drama',\n",
       " 'Drama',\n",
       " 'Drama',\n",
       " 'Drama',\n",
       " 'Drama',\n",
       " 'Drama',\n",
       " 'Drama',\n",
       " 'Drama',\n",
       " 'Drama',\n",
       " 'Drama',\n",
       " 'Drama',\n",
       " 'Drama',\n",
       " 'Drama',\n",
       " 'Drama',\n",
       " 'Drama',\n",
       " 'Drama',\n",
       " 'Drama',\n",
       " 'Drama',\n",
       " 'Drama',\n",
       " 'Drama',\n",
       " 'Drama',\n",
       " 'Drama',\n",
       " 'Drama',\n",
       " 'Drama',\n",
       " 'Drama',\n",
       " 'Drama',\n",
       " 'Drama',\n",
       " 'Drama',\n",
       " 'Drama',\n",
       " 'Drama',\n",
       " 'Drama',\n",
       " 'Drama',\n",
       " 'Drama',\n",
       " 'Drama',\n",
       " 'Drama',\n",
       " 'Drama',\n",
       " 'Drama',\n",
       " 'Drama',\n",
       " 'Drama',\n",
       " 'Drama',\n",
       " 'Drama',\n",
       " 'Drama',\n",
       " 'Drama',\n",
       " 'Drama',\n",
       " 'Drama',\n",
       " 'Drama',\n",
       " 'Drama',\n",
       " 'Drama',\n",
       " 'Drama',\n",
       " 'Drama',\n",
       " 'Drama',\n",
       " 'Drama',\n",
       " 'Drama',\n",
       " 'Drama',\n",
       " 'Drama',\n",
       " 'Drama',\n",
       " 'Drama',\n",
       " 'Drama',\n",
       " 'Drama',\n",
       " 'Drama',\n",
       " 'Drama',\n",
       " 'Drama',\n",
       " 'Drama',\n",
       " 'Drama',\n",
       " 'Drama',\n",
       " 'Drama',\n",
       " 'Drama',\n",
       " 'Drama',\n",
       " 'Drama',\n",
       " 'Drama',\n",
       " 'Drama',\n",
       " 'Drama',\n",
       " 'Drama',\n",
       " 'Drama',\n",
       " 'Drama',\n",
       " 'Drama',\n",
       " 'Drama',\n",
       " 'Drama',\n",
       " 'Drama',\n",
       " 'Drama',\n",
       " 'Drama',\n",
       " 'Drama',\n",
       " 'Drama',\n",
       " 'Drama',\n",
       " 'Drama',\n",
       " 'Drama',\n",
       " 'Drama',\n",
       " 'Drama',\n",
       " 'Drama',\n",
       " 'Drama',\n",
       " 'Drama',\n",
       " 'Drama',\n",
       " 'Drama',\n",
       " 'Drama',\n",
       " 'Drama',\n",
       " 'Drama',\n",
       " 'Drama',\n",
       " 'Drama',\n",
       " 'Drama',\n",
       " 'Drama',\n",
       " 'Drama',\n",
       " 'Drama',\n",
       " 'Drama',\n",
       " 'Drama',\n",
       " 'Drama',\n",
       " 'Drama',\n",
       " 'Drama',\n",
       " 'Drama',\n",
       " 'Drama',\n",
       " 'Drama',\n",
       " 'Drama',\n",
       " 'Drama',\n",
       " 'Drama',\n",
       " 'Drama',\n",
       " 'Drama',\n",
       " 'Drama',\n",
       " 'Drama',\n",
       " 'Drama',\n",
       " 'Drama',\n",
       " 'Drama',\n",
       " 'Drama',\n",
       " 'Drama',\n",
       " 'Drama',\n",
       " 'Drama',\n",
       " 'Drama',\n",
       " 'Drama',\n",
       " 'Drama',\n",
       " 'Drama',\n",
       " 'Drama',\n",
       " 'Drama',\n",
       " 'Drama',\n",
       " 'Drama',\n",
       " 'Drama',\n",
       " 'Drama',\n",
       " 'Drama',\n",
       " 'Drama',\n",
       " 'Drama',\n",
       " 'Drama',\n",
       " 'Drama',\n",
       " 'Drama',\n",
       " 'Drama',\n",
       " 'Drama',\n",
       " 'Drama',\n",
       " 'Drama',\n",
       " 'Drama',\n",
       " 'Drama',\n",
       " 'Drama',\n",
       " 'Drama',\n",
       " 'Drama',\n",
       " 'Drama',\n",
       " 'Drama',\n",
       " 'Drama',\n",
       " 'Drama',\n",
       " 'Drama',\n",
       " 'Drama',\n",
       " 'Drama',\n",
       " 'Drama',\n",
       " 'Drama',\n",
       " 'Drama',\n",
       " 'Drama',\n",
       " 'Drama',\n",
       " 'Drama',\n",
       " 'Drama',\n",
       " 'Drama',\n",
       " 'Drama',\n",
       " 'Drama',\n",
       " 'Drama',\n",
       " 'Drama',\n",
       " 'Drama',\n",
       " 'Drama',\n",
       " 'Drama',\n",
       " 'Drama',\n",
       " 'Drama',\n",
       " 'Drama',\n",
       " 'Drama',\n",
       " 'Drama',\n",
       " 'Drama',\n",
       " 'Drama',\n",
       " 'Drama',\n",
       " 'Drama',\n",
       " 'Drama',\n",
       " 'Drama',\n",
       " 'Drama',\n",
       " 'Drama',\n",
       " 'Drama',\n",
       " 'Drama',\n",
       " 'Drama',\n",
       " 'Drama',\n",
       " 'Drama',\n",
       " 'Drama',\n",
       " 'Drama',\n",
       " 'Drama',\n",
       " 'Drama',\n",
       " 'Drama',\n",
       " 'Drama',\n",
       " 'Drama',\n",
       " 'Drama',\n",
       " 'Drama',\n",
       " 'Drama',\n",
       " 'Drama',\n",
       " 'Drama',\n",
       " 'Drama',\n",
       " 'Drama',\n",
       " 'Drama',\n",
       " 'Drama',\n",
       " 'Drama',\n",
       " 'Drama',\n",
       " 'Drama',\n",
       " 'Drama',\n",
       " 'Drama',\n",
       " 'Drama',\n",
       " 'Drama',\n",
       " 'Drama',\n",
       " 'Drama',\n",
       " 'Drama',\n",
       " 'Drama',\n",
       " 'Drama',\n",
       " 'Drama',\n",
       " 'Drama',\n",
       " 'Drama',\n",
       " 'Drama',\n",
       " 'Drama',\n",
       " 'Drama',\n",
       " 'Drama',\n",
       " 'Drama',\n",
       " 'Drama',\n",
       " 'Drama',\n",
       " 'Drama',\n",
       " 'Drama',\n",
       " 'Drama',\n",
       " 'Drama',\n",
       " 'Drama',\n",
       " 'Drama',\n",
       " 'Drama',\n",
       " 'Drama',\n",
       " 'Drama',\n",
       " 'Drama',\n",
       " 'Drama',\n",
       " 'Drama',\n",
       " 'Drama',\n",
       " 'Drama',\n",
       " 'Drama',\n",
       " 'Drama',\n",
       " 'Drama',\n",
       " 'Drama',\n",
       " 'Drama',\n",
       " 'Drama',\n",
       " 'Drama',\n",
       " 'Drama',\n",
       " 'Drama',\n",
       " 'Drama',\n",
       " 'Drama',\n",
       " 'Drama',\n",
       " 'Drama',\n",
       " 'Drama',\n",
       " 'Drama',\n",
       " 'Drama',\n",
       " 'Drama',\n",
       " 'Drama',\n",
       " 'Drama',\n",
       " 'Drama',\n",
       " 'Drama',\n",
       " 'Drama',\n",
       " 'Drama',\n",
       " 'Drama',\n",
       " 'Drama',\n",
       " 'Drama',\n",
       " 'Drama',\n",
       " 'Drama',\n",
       " 'Drama',\n",
       " 'Drama',\n",
       " 'Drama',\n",
       " 'Drama',\n",
       " 'Drama',\n",
       " 'Drama',\n",
       " 'Drama',\n",
       " 'Drama',\n",
       " 'Drama',\n",
       " 'Drama',\n",
       " 'Drama',\n",
       " 'Drama',\n",
       " 'Drama',\n",
       " 'Drama',\n",
       " 'Drama',\n",
       " 'Drama',\n",
       " 'Drama',\n",
       " 'Drama',\n",
       " 'Drama',\n",
       " 'Drama',\n",
       " 'Drama',\n",
       " 'Drama',\n",
       " 'Drama',\n",
       " 'Drama',\n",
       " 'Drama',\n",
       " 'Drama',\n",
       " 'Drama',\n",
       " ...]"
      ]
     },
     "metadata": {},
     "execution_count": 35
    }
   ],
   "source": [
    "[x  for x in df[\"genres\"] if \"drama\" in x.lower().split() ]"
   ]
  },
  {
   "cell_type": "code",
   "execution_count": null,
   "metadata": {},
   "outputs": [],
   "source": []
  }
 ]
}